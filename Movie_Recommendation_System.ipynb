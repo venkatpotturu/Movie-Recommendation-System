{
  "nbformat": 4,
  "nbformat_minor": 0,
  "metadata": {
    "colab": {
      "provenance": []
    },
    "kernelspec": {
      "name": "python3",
      "display_name": "Python 3"
    },
    "language_info": {
      "name": "python"
    }
  },
  "cells": [
    {
      "cell_type": "markdown",
      "source": [
        "#**Movie Recommendation System**\n",
        "\n",
        "Recommender System is a system that seeks to predict or filter preferences according to the user's choices. Recommender systems are utilized in a variety of areas including movies, music, news, books, research articles, search queries, social tags, and products in general. Recommender systems produce a list of recommendations in any of the two ways-\n",
        "\n",
        "**Collaborative filtering:** Collaborative filtering approaches build a model from the user's past behavior (le. items purchased or searched by the user) as well as similar decisions made by other users. This model is then used to predict items (or ratings for items) that users may have an interest in\n",
        "\n",
        "**Content-based filtering:**Content-based filtering approaches uses a series of discrete characteristics of an item in order to recommend additional items with similar properties. Content-based filtering methods are totally based on a description of the item and a profile of the user's preferences. It recommends items based on the user's past preferences. Let's develop a basic recommendation system using Python and Pandas\n",
        "\n",
        "Let's develop a basic recommendation system by suggesting items that are most similar to a particular item, in this case, movies. It just tells what movies/items are most similar to the user's movie choice."
      ],
      "metadata": {
        "id": "MiGtnB9N01qL"
      }
    },
    {
      "cell_type": "markdown",
      "source": [
        "#**Import Library**"
      ],
      "metadata": {
        "id": "K-ydKH8bojK7"
      }
    },
    {
      "cell_type": "code",
      "execution_count": null,
      "metadata": {
        "id": "bAkJT9nmoNNW"
      },
      "outputs": [],
      "source": [
        "import pandas as pd"
      ]
    },
    {
      "cell_type": "code",
      "source": [
        "import numpy as np"
      ],
      "metadata": {
        "id": "vPmZyvp9o4xw"
      },
      "execution_count": null,
      "outputs": []
    },
    {
      "cell_type": "markdown",
      "source": [
        "#**Import Dataset**"
      ],
      "metadata": {
        "id": "sCyjcaMoo75o"
      }
    },
    {
      "cell_type": "code",
      "source": [
        "df = pd.read_csv(\"https://raw.githubusercontent.com/YBI-foundation/Dataset/main/Movies%20Recommendation.csv\")"
      ],
      "metadata": {
        "id": "2welXQArpA9u"
      },
      "execution_count": null,
      "outputs": []
    },
    {
      "cell_type": "code",
      "source": [
        "df.head()"
      ],
      "metadata": {
        "id": "JbDX_QcOpI4h",
        "colab": {
          "base_uri": "https://localhost:8080/",
          "height": 672
        },
        "outputId": "7420839f-4190-4c0f-ebe3-19e8d8775fef"
      },
      "execution_count": null,
      "outputs": [
        {
          "output_type": "execute_result",
          "data": {
            "text/plain": [
              "   Movie_ID      Movie_Title                       Movie_Genre Movie_Language  \\\n",
              "0         1       Four Rooms                      Crime Comedy             en   \n",
              "1         2        Star Wars  Adventure Action Science Fiction             en   \n",
              "2         3     Finding Nemo                  Animation Family             en   \n",
              "3         4     Forrest Gump              Comedy Drama Romance             en   \n",
              "4         5  American Beauty                             Drama             en   \n",
              "\n",
              "   Movie_Budget  Movie_Popularity Movie_Release_Date  Movie_Revenue  \\\n",
              "0       4000000         22.876230         09-12-1995        4300000   \n",
              "1      11000000        126.393695         25-05-1977      775398007   \n",
              "2      94000000         85.688789         30-05-2003      940335536   \n",
              "3      55000000        138.133331         06-07-1994      677945399   \n",
              "4      15000000         80.878605         15-09-1999      356296601   \n",
              "\n",
              "   Movie_Runtime  Movie_Vote  ...  \\\n",
              "0           98.0         6.5  ...   \n",
              "1          121.0         8.1  ...   \n",
              "2          100.0         7.6  ...   \n",
              "3          142.0         8.2  ...   \n",
              "4          122.0         7.9  ...   \n",
              "\n",
              "                                      Movie_Homepage  \\\n",
              "0                                                NaN   \n",
              "1  http://www.starwars.com/films/star-wars-episod...   \n",
              "2              http://movies.disney.com/finding-nemo   \n",
              "3                                                NaN   \n",
              "4                      http://www.dreamworks.com/ab/   \n",
              "\n",
              "                                      Movie_Keywords  \\\n",
              "0          hotel new year's eve witch bet hotel room   \n",
              "1        android galaxy hermit death star lightsaber   \n",
              "2  father son relationship harbor underwater fish...   \n",
              "3  vietnam veteran hippie mentally disabled runni...   \n",
              "4  male nudity female nudity adultery midlife cri...   \n",
              "\n",
              "                                      Movie_Overview  \\\n",
              "0  It's Ted the Bellhop's first night on the job....   \n",
              "1  Princess Leia is captured and held hostage by ...   \n",
              "2  Nemo, an adventurous young clownfish, is unexp...   \n",
              "3  A man with a low IQ has accomplished great thi...   \n",
              "4  Lester Burnham, a depressed suburban father in...   \n",
              "\n",
              "                              Movie_Production_House  \\\n",
              "0  [{\"name\": \"Miramax Films\", \"id\": 14}, {\"name\":...   \n",
              "1  [{\"name\": \"Lucasfilm\", \"id\": 1}, {\"name\": \"Twe...   \n",
              "2     [{\"name\": \"Pixar Animation Studios\", \"id\": 3}]   \n",
              "3          [{\"name\": \"Paramount Pictures\", \"id\": 4}]   \n",
              "4  [{\"name\": \"DreamWorks SKG\", \"id\": 27}, {\"name\"...   \n",
              "\n",
              "                            Movie_Production_Country  \\\n",
              "0  [{\"iso_3166_1\": \"US\", \"name\": \"United States o...   \n",
              "1  [{\"iso_3166_1\": \"US\", \"name\": \"United States o...   \n",
              "2  [{\"iso_3166_1\": \"US\", \"name\": \"United States o...   \n",
              "3  [{\"iso_3166_1\": \"US\", \"name\": \"United States o...   \n",
              "4  [{\"iso_3166_1\": \"US\", \"name\": \"United States o...   \n",
              "\n",
              "                      Movie_Spoken_Language  \\\n",
              "0  [{\"iso_639_1\": \"en\", \"name\": \"English\"}]   \n",
              "1  [{\"iso_639_1\": \"en\", \"name\": \"English\"}]   \n",
              "2  [{\"iso_639_1\": \"en\", \"name\": \"English\"}]   \n",
              "3  [{\"iso_639_1\": \"en\", \"name\": \"English\"}]   \n",
              "4  [{\"iso_639_1\": \"en\", \"name\": \"English\"}]   \n",
              "\n",
              "                                       Movie_Tagline  \\\n",
              "0  Twelve outrageous guests. Four scandalous requ...   \n",
              "1       A long time ago in a galaxy far, far away...   \n",
              "2  There are 3.7 trillion fish in the ocean, they...   \n",
              "3  The world will never be the same, once you've ...   \n",
              "4                                       Look closer.   \n",
              "\n",
              "                                          Movie_Cast  \\\n",
              "0  Tim Roth Antonio Banderas Jennifer Beals Madon...   \n",
              "1  Mark Hamill Harrison Ford Carrie Fisher Peter ...   \n",
              "2  Albert Brooks Ellen DeGeneres Alexander Gould ...   \n",
              "3  Tom Hanks Robin Wright Gary Sinise Mykelti Wil...   \n",
              "4  Kevin Spacey Annette Bening Thora Birch Wes Be...   \n",
              "\n",
              "                                          Movie_Crew   Movie_Director  \n",
              "0  [{'name': 'Allison Anders', 'gender': 1, 'depa...   Allison Anders  \n",
              "1  [{'name': 'George Lucas', 'gender': 2, 'depart...     George Lucas  \n",
              "2  [{'name': 'Andrew Stanton', 'gender': 2, 'depa...   Andrew Stanton  \n",
              "3  [{'name': 'Alan Silvestri', 'gender': 2, 'depa...  Robert Zemeckis  \n",
              "4  [{'name': 'Thomas Newman', 'gender': 2, 'depar...       Sam Mendes  \n",
              "\n",
              "[5 rows x 21 columns]"
            ],
            "text/html": [
              "\n",
              "  <div id=\"df-1d023890-ce8d-4a76-af56-50bb009c0c04\" class=\"colab-df-container\">\n",
              "    <div>\n",
              "<style scoped>\n",
              "    .dataframe tbody tr th:only-of-type {\n",
              "        vertical-align: middle;\n",
              "    }\n",
              "\n",
              "    .dataframe tbody tr th {\n",
              "        vertical-align: top;\n",
              "    }\n",
              "\n",
              "    .dataframe thead th {\n",
              "        text-align: right;\n",
              "    }\n",
              "</style>\n",
              "<table border=\"1\" class=\"dataframe\">\n",
              "  <thead>\n",
              "    <tr style=\"text-align: right;\">\n",
              "      <th></th>\n",
              "      <th>Movie_ID</th>\n",
              "      <th>Movie_Title</th>\n",
              "      <th>Movie_Genre</th>\n",
              "      <th>Movie_Language</th>\n",
              "      <th>Movie_Budget</th>\n",
              "      <th>Movie_Popularity</th>\n",
              "      <th>Movie_Release_Date</th>\n",
              "      <th>Movie_Revenue</th>\n",
              "      <th>Movie_Runtime</th>\n",
              "      <th>Movie_Vote</th>\n",
              "      <th>...</th>\n",
              "      <th>Movie_Homepage</th>\n",
              "      <th>Movie_Keywords</th>\n",
              "      <th>Movie_Overview</th>\n",
              "      <th>Movie_Production_House</th>\n",
              "      <th>Movie_Production_Country</th>\n",
              "      <th>Movie_Spoken_Language</th>\n",
              "      <th>Movie_Tagline</th>\n",
              "      <th>Movie_Cast</th>\n",
              "      <th>Movie_Crew</th>\n",
              "      <th>Movie_Director</th>\n",
              "    </tr>\n",
              "  </thead>\n",
              "  <tbody>\n",
              "    <tr>\n",
              "      <th>0</th>\n",
              "      <td>1</td>\n",
              "      <td>Four Rooms</td>\n",
              "      <td>Crime Comedy</td>\n",
              "      <td>en</td>\n",
              "      <td>4000000</td>\n",
              "      <td>22.876230</td>\n",
              "      <td>09-12-1995</td>\n",
              "      <td>4300000</td>\n",
              "      <td>98.0</td>\n",
              "      <td>6.5</td>\n",
              "      <td>...</td>\n",
              "      <td>NaN</td>\n",
              "      <td>hotel new year's eve witch bet hotel room</td>\n",
              "      <td>It's Ted the Bellhop's first night on the job....</td>\n",
              "      <td>[{\"name\": \"Miramax Films\", \"id\": 14}, {\"name\":...</td>\n",
              "      <td>[{\"iso_3166_1\": \"US\", \"name\": \"United States o...</td>\n",
              "      <td>[{\"iso_639_1\": \"en\", \"name\": \"English\"}]</td>\n",
              "      <td>Twelve outrageous guests. Four scandalous requ...</td>\n",
              "      <td>Tim Roth Antonio Banderas Jennifer Beals Madon...</td>\n",
              "      <td>[{'name': 'Allison Anders', 'gender': 1, 'depa...</td>\n",
              "      <td>Allison Anders</td>\n",
              "    </tr>\n",
              "    <tr>\n",
              "      <th>1</th>\n",
              "      <td>2</td>\n",
              "      <td>Star Wars</td>\n",
              "      <td>Adventure Action Science Fiction</td>\n",
              "      <td>en</td>\n",
              "      <td>11000000</td>\n",
              "      <td>126.393695</td>\n",
              "      <td>25-05-1977</td>\n",
              "      <td>775398007</td>\n",
              "      <td>121.0</td>\n",
              "      <td>8.1</td>\n",
              "      <td>...</td>\n",
              "      <td>http://www.starwars.com/films/star-wars-episod...</td>\n",
              "      <td>android galaxy hermit death star lightsaber</td>\n",
              "      <td>Princess Leia is captured and held hostage by ...</td>\n",
              "      <td>[{\"name\": \"Lucasfilm\", \"id\": 1}, {\"name\": \"Twe...</td>\n",
              "      <td>[{\"iso_3166_1\": \"US\", \"name\": \"United States o...</td>\n",
              "      <td>[{\"iso_639_1\": \"en\", \"name\": \"English\"}]</td>\n",
              "      <td>A long time ago in a galaxy far, far away...</td>\n",
              "      <td>Mark Hamill Harrison Ford Carrie Fisher Peter ...</td>\n",
              "      <td>[{'name': 'George Lucas', 'gender': 2, 'depart...</td>\n",
              "      <td>George Lucas</td>\n",
              "    </tr>\n",
              "    <tr>\n",
              "      <th>2</th>\n",
              "      <td>3</td>\n",
              "      <td>Finding Nemo</td>\n",
              "      <td>Animation Family</td>\n",
              "      <td>en</td>\n",
              "      <td>94000000</td>\n",
              "      <td>85.688789</td>\n",
              "      <td>30-05-2003</td>\n",
              "      <td>940335536</td>\n",
              "      <td>100.0</td>\n",
              "      <td>7.6</td>\n",
              "      <td>...</td>\n",
              "      <td>http://movies.disney.com/finding-nemo</td>\n",
              "      <td>father son relationship harbor underwater fish...</td>\n",
              "      <td>Nemo, an adventurous young clownfish, is unexp...</td>\n",
              "      <td>[{\"name\": \"Pixar Animation Studios\", \"id\": 3}]</td>\n",
              "      <td>[{\"iso_3166_1\": \"US\", \"name\": \"United States o...</td>\n",
              "      <td>[{\"iso_639_1\": \"en\", \"name\": \"English\"}]</td>\n",
              "      <td>There are 3.7 trillion fish in the ocean, they...</td>\n",
              "      <td>Albert Brooks Ellen DeGeneres Alexander Gould ...</td>\n",
              "      <td>[{'name': 'Andrew Stanton', 'gender': 2, 'depa...</td>\n",
              "      <td>Andrew Stanton</td>\n",
              "    </tr>\n",
              "    <tr>\n",
              "      <th>3</th>\n",
              "      <td>4</td>\n",
              "      <td>Forrest Gump</td>\n",
              "      <td>Comedy Drama Romance</td>\n",
              "      <td>en</td>\n",
              "      <td>55000000</td>\n",
              "      <td>138.133331</td>\n",
              "      <td>06-07-1994</td>\n",
              "      <td>677945399</td>\n",
              "      <td>142.0</td>\n",
              "      <td>8.2</td>\n",
              "      <td>...</td>\n",
              "      <td>NaN</td>\n",
              "      <td>vietnam veteran hippie mentally disabled runni...</td>\n",
              "      <td>A man with a low IQ has accomplished great thi...</td>\n",
              "      <td>[{\"name\": \"Paramount Pictures\", \"id\": 4}]</td>\n",
              "      <td>[{\"iso_3166_1\": \"US\", \"name\": \"United States o...</td>\n",
              "      <td>[{\"iso_639_1\": \"en\", \"name\": \"English\"}]</td>\n",
              "      <td>The world will never be the same, once you've ...</td>\n",
              "      <td>Tom Hanks Robin Wright Gary Sinise Mykelti Wil...</td>\n",
              "      <td>[{'name': 'Alan Silvestri', 'gender': 2, 'depa...</td>\n",
              "      <td>Robert Zemeckis</td>\n",
              "    </tr>\n",
              "    <tr>\n",
              "      <th>4</th>\n",
              "      <td>5</td>\n",
              "      <td>American Beauty</td>\n",
              "      <td>Drama</td>\n",
              "      <td>en</td>\n",
              "      <td>15000000</td>\n",
              "      <td>80.878605</td>\n",
              "      <td>15-09-1999</td>\n",
              "      <td>356296601</td>\n",
              "      <td>122.0</td>\n",
              "      <td>7.9</td>\n",
              "      <td>...</td>\n",
              "      <td>http://www.dreamworks.com/ab/</td>\n",
              "      <td>male nudity female nudity adultery midlife cri...</td>\n",
              "      <td>Lester Burnham, a depressed suburban father in...</td>\n",
              "      <td>[{\"name\": \"DreamWorks SKG\", \"id\": 27}, {\"name\"...</td>\n",
              "      <td>[{\"iso_3166_1\": \"US\", \"name\": \"United States o...</td>\n",
              "      <td>[{\"iso_639_1\": \"en\", \"name\": \"English\"}]</td>\n",
              "      <td>Look closer.</td>\n",
              "      <td>Kevin Spacey Annette Bening Thora Birch Wes Be...</td>\n",
              "      <td>[{'name': 'Thomas Newman', 'gender': 2, 'depar...</td>\n",
              "      <td>Sam Mendes</td>\n",
              "    </tr>\n",
              "  </tbody>\n",
              "</table>\n",
              "<p>5 rows × 21 columns</p>\n",
              "</div>\n",
              "    <div class=\"colab-df-buttons\">\n",
              "\n",
              "  <div class=\"colab-df-container\">\n",
              "    <button class=\"colab-df-convert\" onclick=\"convertToInteractive('df-1d023890-ce8d-4a76-af56-50bb009c0c04')\"\n",
              "            title=\"Convert this dataframe to an interactive table.\"\n",
              "            style=\"display:none;\">\n",
              "\n",
              "  <svg xmlns=\"http://www.w3.org/2000/svg\" height=\"24px\" viewBox=\"0 -960 960 960\">\n",
              "    <path d=\"M120-120v-720h720v720H120Zm60-500h600v-160H180v160Zm220 220h160v-160H400v160Zm0 220h160v-160H400v160ZM180-400h160v-160H180v160Zm440 0h160v-160H620v160ZM180-180h160v-160H180v160Zm440 0h160v-160H620v160Z\"/>\n",
              "  </svg>\n",
              "    </button>\n",
              "\n",
              "  <style>\n",
              "    .colab-df-container {\n",
              "      display:flex;\n",
              "      gap: 12px;\n",
              "    }\n",
              "\n",
              "    .colab-df-convert {\n",
              "      background-color: #E8F0FE;\n",
              "      border: none;\n",
              "      border-radius: 50%;\n",
              "      cursor: pointer;\n",
              "      display: none;\n",
              "      fill: #1967D2;\n",
              "      height: 32px;\n",
              "      padding: 0 0 0 0;\n",
              "      width: 32px;\n",
              "    }\n",
              "\n",
              "    .colab-df-convert:hover {\n",
              "      background-color: #E2EBFA;\n",
              "      box-shadow: 0px 1px 2px rgba(60, 64, 67, 0.3), 0px 1px 3px 1px rgba(60, 64, 67, 0.15);\n",
              "      fill: #174EA6;\n",
              "    }\n",
              "\n",
              "    .colab-df-buttons div {\n",
              "      margin-bottom: 4px;\n",
              "    }\n",
              "\n",
              "    [theme=dark] .colab-df-convert {\n",
              "      background-color: #3B4455;\n",
              "      fill: #D2E3FC;\n",
              "    }\n",
              "\n",
              "    [theme=dark] .colab-df-convert:hover {\n",
              "      background-color: #434B5C;\n",
              "      box-shadow: 0px 1px 3px 1px rgba(0, 0, 0, 0.15);\n",
              "      filter: drop-shadow(0px 1px 2px rgba(0, 0, 0, 0.3));\n",
              "      fill: #FFFFFF;\n",
              "    }\n",
              "  </style>\n",
              "\n",
              "    <script>\n",
              "      const buttonEl =\n",
              "        document.querySelector('#df-1d023890-ce8d-4a76-af56-50bb009c0c04 button.colab-df-convert');\n",
              "      buttonEl.style.display =\n",
              "        google.colab.kernel.accessAllowed ? 'block' : 'none';\n",
              "\n",
              "      async function convertToInteractive(key) {\n",
              "        const element = document.querySelector('#df-1d023890-ce8d-4a76-af56-50bb009c0c04');\n",
              "        const dataTable =\n",
              "          await google.colab.kernel.invokeFunction('convertToInteractive',\n",
              "                                                    [key], {});\n",
              "        if (!dataTable) return;\n",
              "\n",
              "        const docLinkHtml = 'Like what you see? Visit the ' +\n",
              "          '<a target=\"_blank\" href=https://colab.research.google.com/notebooks/data_table.ipynb>data table notebook</a>'\n",
              "          + ' to learn more about interactive tables.';\n",
              "        element.innerHTML = '';\n",
              "        dataTable['output_type'] = 'display_data';\n",
              "        await google.colab.output.renderOutput(dataTable, element);\n",
              "        const docLink = document.createElement('div');\n",
              "        docLink.innerHTML = docLinkHtml;\n",
              "        element.appendChild(docLink);\n",
              "      }\n",
              "    </script>\n",
              "  </div>\n",
              "\n",
              "\n",
              "<div id=\"df-99170fea-6cb9-412d-9c8b-2fc623617f45\">\n",
              "  <button class=\"colab-df-quickchart\" onclick=\"quickchart('df-99170fea-6cb9-412d-9c8b-2fc623617f45')\"\n",
              "            title=\"Suggest charts\"\n",
              "            style=\"display:none;\">\n",
              "\n",
              "<svg xmlns=\"http://www.w3.org/2000/svg\" height=\"24px\"viewBox=\"0 0 24 24\"\n",
              "     width=\"24px\">\n",
              "    <g>\n",
              "        <path d=\"M19 3H5c-1.1 0-2 .9-2 2v14c0 1.1.9 2 2 2h14c1.1 0 2-.9 2-2V5c0-1.1-.9-2-2-2zM9 17H7v-7h2v7zm4 0h-2V7h2v10zm4 0h-2v-4h2v4z\"/>\n",
              "    </g>\n",
              "</svg>\n",
              "  </button>\n",
              "\n",
              "<style>\n",
              "  .colab-df-quickchart {\n",
              "      --bg-color: #E8F0FE;\n",
              "      --fill-color: #1967D2;\n",
              "      --hover-bg-color: #E2EBFA;\n",
              "      --hover-fill-color: #174EA6;\n",
              "      --disabled-fill-color: #AAA;\n",
              "      --disabled-bg-color: #DDD;\n",
              "  }\n",
              "\n",
              "  [theme=dark] .colab-df-quickchart {\n",
              "      --bg-color: #3B4455;\n",
              "      --fill-color: #D2E3FC;\n",
              "      --hover-bg-color: #434B5C;\n",
              "      --hover-fill-color: #FFFFFF;\n",
              "      --disabled-bg-color: #3B4455;\n",
              "      --disabled-fill-color: #666;\n",
              "  }\n",
              "\n",
              "  .colab-df-quickchart {\n",
              "    background-color: var(--bg-color);\n",
              "    border: none;\n",
              "    border-radius: 50%;\n",
              "    cursor: pointer;\n",
              "    display: none;\n",
              "    fill: var(--fill-color);\n",
              "    height: 32px;\n",
              "    padding: 0;\n",
              "    width: 32px;\n",
              "  }\n",
              "\n",
              "  .colab-df-quickchart:hover {\n",
              "    background-color: var(--hover-bg-color);\n",
              "    box-shadow: 0 1px 2px rgba(60, 64, 67, 0.3), 0 1px 3px 1px rgba(60, 64, 67, 0.15);\n",
              "    fill: var(--button-hover-fill-color);\n",
              "  }\n",
              "\n",
              "  .colab-df-quickchart-complete:disabled,\n",
              "  .colab-df-quickchart-complete:disabled:hover {\n",
              "    background-color: var(--disabled-bg-color);\n",
              "    fill: var(--disabled-fill-color);\n",
              "    box-shadow: none;\n",
              "  }\n",
              "\n",
              "  .colab-df-spinner {\n",
              "    border: 2px solid var(--fill-color);\n",
              "    border-color: transparent;\n",
              "    border-bottom-color: var(--fill-color);\n",
              "    animation:\n",
              "      spin 1s steps(1) infinite;\n",
              "  }\n",
              "\n",
              "  @keyframes spin {\n",
              "    0% {\n",
              "      border-color: transparent;\n",
              "      border-bottom-color: var(--fill-color);\n",
              "      border-left-color: var(--fill-color);\n",
              "    }\n",
              "    20% {\n",
              "      border-color: transparent;\n",
              "      border-left-color: var(--fill-color);\n",
              "      border-top-color: var(--fill-color);\n",
              "    }\n",
              "    30% {\n",
              "      border-color: transparent;\n",
              "      border-left-color: var(--fill-color);\n",
              "      border-top-color: var(--fill-color);\n",
              "      border-right-color: var(--fill-color);\n",
              "    }\n",
              "    40% {\n",
              "      border-color: transparent;\n",
              "      border-right-color: var(--fill-color);\n",
              "      border-top-color: var(--fill-color);\n",
              "    }\n",
              "    60% {\n",
              "      border-color: transparent;\n",
              "      border-right-color: var(--fill-color);\n",
              "    }\n",
              "    80% {\n",
              "      border-color: transparent;\n",
              "      border-right-color: var(--fill-color);\n",
              "      border-bottom-color: var(--fill-color);\n",
              "    }\n",
              "    90% {\n",
              "      border-color: transparent;\n",
              "      border-bottom-color: var(--fill-color);\n",
              "    }\n",
              "  }\n",
              "</style>\n",
              "\n",
              "  <script>\n",
              "    async function quickchart(key) {\n",
              "      const quickchartButtonEl =\n",
              "        document.querySelector('#' + key + ' button');\n",
              "      quickchartButtonEl.disabled = true;  // To prevent multiple clicks.\n",
              "      quickchartButtonEl.classList.add('colab-df-spinner');\n",
              "      try {\n",
              "        const charts = await google.colab.kernel.invokeFunction(\n",
              "            'suggestCharts', [key], {});\n",
              "      } catch (error) {\n",
              "        console.error('Error during call to suggestCharts:', error);\n",
              "      }\n",
              "      quickchartButtonEl.classList.remove('colab-df-spinner');\n",
              "      quickchartButtonEl.classList.add('colab-df-quickchart-complete');\n",
              "    }\n",
              "    (() => {\n",
              "      let quickchartButtonEl =\n",
              "        document.querySelector('#df-99170fea-6cb9-412d-9c8b-2fc623617f45 button');\n",
              "      quickchartButtonEl.style.display =\n",
              "        google.colab.kernel.accessAllowed ? 'block' : 'none';\n",
              "    })();\n",
              "  </script>\n",
              "</div>\n",
              "\n",
              "    </div>\n",
              "  </div>\n"
            ],
            "application/vnd.google.colaboratory.intrinsic+json": {
              "type": "dataframe",
              "variable_name": "df"
            }
          },
          "metadata": {},
          "execution_count": 4
        }
      ]
    },
    {
      "cell_type": "code",
      "source": [
        "df.info()"
      ],
      "metadata": {
        "id": "kklr82p7pKyU",
        "colab": {
          "base_uri": "https://localhost:8080/"
        },
        "outputId": "3aea85c5-6ea0-4488-9717-46bb30f13f34"
      },
      "execution_count": null,
      "outputs": [
        {
          "output_type": "stream",
          "name": "stdout",
          "text": [
            "<class 'pandas.core.frame.DataFrame'>\n",
            "RangeIndex: 4760 entries, 0 to 4759\n",
            "Data columns (total 21 columns):\n",
            " #   Column                    Non-Null Count  Dtype  \n",
            "---  ------                    --------------  -----  \n",
            " 0   Movie_ID                  4760 non-null   int64  \n",
            " 1   Movie_Title               4760 non-null   object \n",
            " 2   Movie_Genre               4760 non-null   object \n",
            " 3   Movie_Language            4760 non-null   object \n",
            " 4   Movie_Budget              4760 non-null   int64  \n",
            " 5   Movie_Popularity          4760 non-null   float64\n",
            " 6   Movie_Release_Date        4760 non-null   object \n",
            " 7   Movie_Revenue             4760 non-null   int64  \n",
            " 8   Movie_Runtime             4758 non-null   float64\n",
            " 9   Movie_Vote                4760 non-null   float64\n",
            " 10  Movie_Vote_Count          4760 non-null   int64  \n",
            " 11  Movie_Homepage            1699 non-null   object \n",
            " 12  Movie_Keywords            4373 non-null   object \n",
            " 13  Movie_Overview            4757 non-null   object \n",
            " 14  Movie_Production_House    4760 non-null   object \n",
            " 15  Movie_Production_Country  4760 non-null   object \n",
            " 16  Movie_Spoken_Language     4760 non-null   object \n",
            " 17  Movie_Tagline             3942 non-null   object \n",
            " 18  Movie_Cast                4733 non-null   object \n",
            " 19  Movie_Crew                4760 non-null   object \n",
            " 20  Movie_Director            4738 non-null   object \n",
            "dtypes: float64(3), int64(4), object(14)\n",
            "memory usage: 781.1+ KB\n"
          ]
        }
      ]
    },
    {
      "cell_type": "code",
      "source": [
        "df.shape"
      ],
      "metadata": {
        "id": "DeR-Z3r9pUTK",
        "colab": {
          "base_uri": "https://localhost:8080/"
        },
        "outputId": "ded84bc3-97d2-4cf0-9809-15e4b3817c04"
      },
      "execution_count": null,
      "outputs": [
        {
          "output_type": "execute_result",
          "data": {
            "text/plain": [
              "(4760, 21)"
            ]
          },
          "metadata": {},
          "execution_count": 6
        }
      ]
    },
    {
      "cell_type": "code",
      "source": [
        "df.columns"
      ],
      "metadata": {
        "id": "0b4nHQbTpXAK",
        "colab": {
          "base_uri": "https://localhost:8080/"
        },
        "outputId": "97139cfd-bce5-4ece-daf8-e905a793e28f"
      },
      "execution_count": null,
      "outputs": [
        {
          "output_type": "execute_result",
          "data": {
            "text/plain": [
              "Index(['Movie_ID', 'Movie_Title', 'Movie_Genre', 'Movie_Language',\n",
              "       'Movie_Budget', 'Movie_Popularity', 'Movie_Release_Date',\n",
              "       'Movie_Revenue', 'Movie_Runtime', 'Movie_Vote', 'Movie_Vote_Count',\n",
              "       'Movie_Homepage', 'Movie_Keywords', 'Movie_Overview',\n",
              "       'Movie_Production_House', 'Movie_Production_Country',\n",
              "       'Movie_Spoken_Language', 'Movie_Tagline', 'Movie_Cast', 'Movie_Crew',\n",
              "       'Movie_Director'],\n",
              "      dtype='object')"
            ]
          },
          "metadata": {},
          "execution_count": 7
        }
      ]
    },
    {
      "cell_type": "markdown",
      "source": [
        "#**Get Feature Selection**"
      ],
      "metadata": {
        "id": "woGVJFaSpcXb"
      }
    },
    {
      "cell_type": "code",
      "source": [
        "df_features = df[['Movie_Genre','Movie_Keywords','Movie_Tagline','Movie_Cast','Movie_Director']].fillna('')"
      ],
      "metadata": {
        "id": "cT3XVi3dpbGm"
      },
      "execution_count": null,
      "outputs": []
    },
    {
      "cell_type": "code",
      "source": [
        "df_features.shape"
      ],
      "metadata": {
        "id": "Ia9cXUQOqm47",
        "colab": {
          "base_uri": "https://localhost:8080/"
        },
        "outputId": "08411222-e628-430c-eb96-bd5bb1e26435"
      },
      "execution_count": null,
      "outputs": [
        {
          "output_type": "execute_result",
          "data": {
            "text/plain": [
              "(4760, 5)"
            ]
          },
          "metadata": {},
          "execution_count": 9
        }
      ]
    },
    {
      "cell_type": "code",
      "source": [
        "df_features"
      ],
      "metadata": {
        "id": "N0n7UMUFqwYL",
        "colab": {
          "base_uri": "https://localhost:8080/",
          "height": 493
        },
        "outputId": "6f5d4d53-9d8f-48fd-97b1-ad0395781bba"
      },
      "execution_count": null,
      "outputs": [
        {
          "output_type": "execute_result",
          "data": {
            "text/plain": [
              "                           Movie_Genre  \\\n",
              "0                         Crime Comedy   \n",
              "1     Adventure Action Science Fiction   \n",
              "2                     Animation Family   \n",
              "3                 Comedy Drama Romance   \n",
              "4                                Drama   \n",
              "...                                ...   \n",
              "4755                            Horror   \n",
              "4756               Comedy Family Drama   \n",
              "4757                    Thriller Drama   \n",
              "4758                            Family   \n",
              "4759                       Documentary   \n",
              "\n",
              "                                         Movie_Keywords  \\\n",
              "0             hotel new year's eve witch bet hotel room   \n",
              "1           android galaxy hermit death star lightsaber   \n",
              "2     father son relationship harbor underwater fish...   \n",
              "3     vietnam veteran hippie mentally disabled runni...   \n",
              "4     male nudity female nudity adultery midlife cri...   \n",
              "...                                                 ...   \n",
              "4755                                                      \n",
              "4756                                                      \n",
              "4757                     christian film sex trafficking   \n",
              "4758                                                      \n",
              "4759  music actors legendary perfomer classic hollyw...   \n",
              "\n",
              "                                          Movie_Tagline  \\\n",
              "0     Twelve outrageous guests. Four scandalous requ...   \n",
              "1          A long time ago in a galaxy far, far away...   \n",
              "2     There are 3.7 trillion fish in the ocean, they...   \n",
              "3     The world will never be the same, once you've ...   \n",
              "4                                          Look closer.   \n",
              "...                                                 ...   \n",
              "4755                The hot spot where Satan's waitin'.   \n",
              "4756           It’s better to stand out than to fit in.   \n",
              "4757           She never knew it could happen to her...   \n",
              "4758                                                      \n",
              "4759                                                      \n",
              "\n",
              "                                             Movie_Cast     Movie_Director  \n",
              "0     Tim Roth Antonio Banderas Jennifer Beals Madon...     Allison Anders  \n",
              "1     Mark Hamill Harrison Ford Carrie Fisher Peter ...       George Lucas  \n",
              "2     Albert Brooks Ellen DeGeneres Alexander Gould ...     Andrew Stanton  \n",
              "3     Tom Hanks Robin Wright Gary Sinise Mykelti Wil...    Robert Zemeckis  \n",
              "4     Kevin Spacey Annette Bening Thora Birch Wes Be...         Sam Mendes  \n",
              "...                                                 ...                ...  \n",
              "4755  Lisa Hart Carroll Michael Des Barres Paul Drak...         Pece Dingo  \n",
              "4756  Roni Akurati Brighton Sharbino Jason Lee Anjul...       Frank Lotito  \n",
              "4757  Nicole Smolen Kim Baldwin Ariana Stephens Brys...       Jaco Booyens  \n",
              "4758                                                                        \n",
              "4759                                    Tony Oppedisano  Simon Napier-Bell  \n",
              "\n",
              "[4760 rows x 5 columns]"
            ],
            "text/html": [
              "\n",
              "  <div id=\"df-a30962ef-5f76-4ce5-8b9e-70ec698cb110\" class=\"colab-df-container\">\n",
              "    <div>\n",
              "<style scoped>\n",
              "    .dataframe tbody tr th:only-of-type {\n",
              "        vertical-align: middle;\n",
              "    }\n",
              "\n",
              "    .dataframe tbody tr th {\n",
              "        vertical-align: top;\n",
              "    }\n",
              "\n",
              "    .dataframe thead th {\n",
              "        text-align: right;\n",
              "    }\n",
              "</style>\n",
              "<table border=\"1\" class=\"dataframe\">\n",
              "  <thead>\n",
              "    <tr style=\"text-align: right;\">\n",
              "      <th></th>\n",
              "      <th>Movie_Genre</th>\n",
              "      <th>Movie_Keywords</th>\n",
              "      <th>Movie_Tagline</th>\n",
              "      <th>Movie_Cast</th>\n",
              "      <th>Movie_Director</th>\n",
              "    </tr>\n",
              "  </thead>\n",
              "  <tbody>\n",
              "    <tr>\n",
              "      <th>0</th>\n",
              "      <td>Crime Comedy</td>\n",
              "      <td>hotel new year's eve witch bet hotel room</td>\n",
              "      <td>Twelve outrageous guests. Four scandalous requ...</td>\n",
              "      <td>Tim Roth Antonio Banderas Jennifer Beals Madon...</td>\n",
              "      <td>Allison Anders</td>\n",
              "    </tr>\n",
              "    <tr>\n",
              "      <th>1</th>\n",
              "      <td>Adventure Action Science Fiction</td>\n",
              "      <td>android galaxy hermit death star lightsaber</td>\n",
              "      <td>A long time ago in a galaxy far, far away...</td>\n",
              "      <td>Mark Hamill Harrison Ford Carrie Fisher Peter ...</td>\n",
              "      <td>George Lucas</td>\n",
              "    </tr>\n",
              "    <tr>\n",
              "      <th>2</th>\n",
              "      <td>Animation Family</td>\n",
              "      <td>father son relationship harbor underwater fish...</td>\n",
              "      <td>There are 3.7 trillion fish in the ocean, they...</td>\n",
              "      <td>Albert Brooks Ellen DeGeneres Alexander Gould ...</td>\n",
              "      <td>Andrew Stanton</td>\n",
              "    </tr>\n",
              "    <tr>\n",
              "      <th>3</th>\n",
              "      <td>Comedy Drama Romance</td>\n",
              "      <td>vietnam veteran hippie mentally disabled runni...</td>\n",
              "      <td>The world will never be the same, once you've ...</td>\n",
              "      <td>Tom Hanks Robin Wright Gary Sinise Mykelti Wil...</td>\n",
              "      <td>Robert Zemeckis</td>\n",
              "    </tr>\n",
              "    <tr>\n",
              "      <th>4</th>\n",
              "      <td>Drama</td>\n",
              "      <td>male nudity female nudity adultery midlife cri...</td>\n",
              "      <td>Look closer.</td>\n",
              "      <td>Kevin Spacey Annette Bening Thora Birch Wes Be...</td>\n",
              "      <td>Sam Mendes</td>\n",
              "    </tr>\n",
              "    <tr>\n",
              "      <th>...</th>\n",
              "      <td>...</td>\n",
              "      <td>...</td>\n",
              "      <td>...</td>\n",
              "      <td>...</td>\n",
              "      <td>...</td>\n",
              "    </tr>\n",
              "    <tr>\n",
              "      <th>4755</th>\n",
              "      <td>Horror</td>\n",
              "      <td></td>\n",
              "      <td>The hot spot where Satan's waitin'.</td>\n",
              "      <td>Lisa Hart Carroll Michael Des Barres Paul Drak...</td>\n",
              "      <td>Pece Dingo</td>\n",
              "    </tr>\n",
              "    <tr>\n",
              "      <th>4756</th>\n",
              "      <td>Comedy Family Drama</td>\n",
              "      <td></td>\n",
              "      <td>It’s better to stand out than to fit in.</td>\n",
              "      <td>Roni Akurati Brighton Sharbino Jason Lee Anjul...</td>\n",
              "      <td>Frank Lotito</td>\n",
              "    </tr>\n",
              "    <tr>\n",
              "      <th>4757</th>\n",
              "      <td>Thriller Drama</td>\n",
              "      <td>christian film sex trafficking</td>\n",
              "      <td>She never knew it could happen to her...</td>\n",
              "      <td>Nicole Smolen Kim Baldwin Ariana Stephens Brys...</td>\n",
              "      <td>Jaco Booyens</td>\n",
              "    </tr>\n",
              "    <tr>\n",
              "      <th>4758</th>\n",
              "      <td>Family</td>\n",
              "      <td></td>\n",
              "      <td></td>\n",
              "      <td></td>\n",
              "      <td></td>\n",
              "    </tr>\n",
              "    <tr>\n",
              "      <th>4759</th>\n",
              "      <td>Documentary</td>\n",
              "      <td>music actors legendary perfomer classic hollyw...</td>\n",
              "      <td></td>\n",
              "      <td>Tony Oppedisano</td>\n",
              "      <td>Simon Napier-Bell</td>\n",
              "    </tr>\n",
              "  </tbody>\n",
              "</table>\n",
              "<p>4760 rows × 5 columns</p>\n",
              "</div>\n",
              "    <div class=\"colab-df-buttons\">\n",
              "\n",
              "  <div class=\"colab-df-container\">\n",
              "    <button class=\"colab-df-convert\" onclick=\"convertToInteractive('df-a30962ef-5f76-4ce5-8b9e-70ec698cb110')\"\n",
              "            title=\"Convert this dataframe to an interactive table.\"\n",
              "            style=\"display:none;\">\n",
              "\n",
              "  <svg xmlns=\"http://www.w3.org/2000/svg\" height=\"24px\" viewBox=\"0 -960 960 960\">\n",
              "    <path d=\"M120-120v-720h720v720H120Zm60-500h600v-160H180v160Zm220 220h160v-160H400v160Zm0 220h160v-160H400v160ZM180-400h160v-160H180v160Zm440 0h160v-160H620v160ZM180-180h160v-160H180v160Zm440 0h160v-160H620v160Z\"/>\n",
              "  </svg>\n",
              "    </button>\n",
              "\n",
              "  <style>\n",
              "    .colab-df-container {\n",
              "      display:flex;\n",
              "      gap: 12px;\n",
              "    }\n",
              "\n",
              "    .colab-df-convert {\n",
              "      background-color: #E8F0FE;\n",
              "      border: none;\n",
              "      border-radius: 50%;\n",
              "      cursor: pointer;\n",
              "      display: none;\n",
              "      fill: #1967D2;\n",
              "      height: 32px;\n",
              "      padding: 0 0 0 0;\n",
              "      width: 32px;\n",
              "    }\n",
              "\n",
              "    .colab-df-convert:hover {\n",
              "      background-color: #E2EBFA;\n",
              "      box-shadow: 0px 1px 2px rgba(60, 64, 67, 0.3), 0px 1px 3px 1px rgba(60, 64, 67, 0.15);\n",
              "      fill: #174EA6;\n",
              "    }\n",
              "\n",
              "    .colab-df-buttons div {\n",
              "      margin-bottom: 4px;\n",
              "    }\n",
              "\n",
              "    [theme=dark] .colab-df-convert {\n",
              "      background-color: #3B4455;\n",
              "      fill: #D2E3FC;\n",
              "    }\n",
              "\n",
              "    [theme=dark] .colab-df-convert:hover {\n",
              "      background-color: #434B5C;\n",
              "      box-shadow: 0px 1px 3px 1px rgba(0, 0, 0, 0.15);\n",
              "      filter: drop-shadow(0px 1px 2px rgba(0, 0, 0, 0.3));\n",
              "      fill: #FFFFFF;\n",
              "    }\n",
              "  </style>\n",
              "\n",
              "    <script>\n",
              "      const buttonEl =\n",
              "        document.querySelector('#df-a30962ef-5f76-4ce5-8b9e-70ec698cb110 button.colab-df-convert');\n",
              "      buttonEl.style.display =\n",
              "        google.colab.kernel.accessAllowed ? 'block' : 'none';\n",
              "\n",
              "      async function convertToInteractive(key) {\n",
              "        const element = document.querySelector('#df-a30962ef-5f76-4ce5-8b9e-70ec698cb110');\n",
              "        const dataTable =\n",
              "          await google.colab.kernel.invokeFunction('convertToInteractive',\n",
              "                                                    [key], {});\n",
              "        if (!dataTable) return;\n",
              "\n",
              "        const docLinkHtml = 'Like what you see? Visit the ' +\n",
              "          '<a target=\"_blank\" href=https://colab.research.google.com/notebooks/data_table.ipynb>data table notebook</a>'\n",
              "          + ' to learn more about interactive tables.';\n",
              "        element.innerHTML = '';\n",
              "        dataTable['output_type'] = 'display_data';\n",
              "        await google.colab.output.renderOutput(dataTable, element);\n",
              "        const docLink = document.createElement('div');\n",
              "        docLink.innerHTML = docLinkHtml;\n",
              "        element.appendChild(docLink);\n",
              "      }\n",
              "    </script>\n",
              "  </div>\n",
              "\n",
              "\n",
              "<div id=\"df-0007f11d-9260-4795-a483-45aeaf8b0b9a\">\n",
              "  <button class=\"colab-df-quickchart\" onclick=\"quickchart('df-0007f11d-9260-4795-a483-45aeaf8b0b9a')\"\n",
              "            title=\"Suggest charts\"\n",
              "            style=\"display:none;\">\n",
              "\n",
              "<svg xmlns=\"http://www.w3.org/2000/svg\" height=\"24px\"viewBox=\"0 0 24 24\"\n",
              "     width=\"24px\">\n",
              "    <g>\n",
              "        <path d=\"M19 3H5c-1.1 0-2 .9-2 2v14c0 1.1.9 2 2 2h14c1.1 0 2-.9 2-2V5c0-1.1-.9-2-2-2zM9 17H7v-7h2v7zm4 0h-2V7h2v10zm4 0h-2v-4h2v4z\"/>\n",
              "    </g>\n",
              "</svg>\n",
              "  </button>\n",
              "\n",
              "<style>\n",
              "  .colab-df-quickchart {\n",
              "      --bg-color: #E8F0FE;\n",
              "      --fill-color: #1967D2;\n",
              "      --hover-bg-color: #E2EBFA;\n",
              "      --hover-fill-color: #174EA6;\n",
              "      --disabled-fill-color: #AAA;\n",
              "      --disabled-bg-color: #DDD;\n",
              "  }\n",
              "\n",
              "  [theme=dark] .colab-df-quickchart {\n",
              "      --bg-color: #3B4455;\n",
              "      --fill-color: #D2E3FC;\n",
              "      --hover-bg-color: #434B5C;\n",
              "      --hover-fill-color: #FFFFFF;\n",
              "      --disabled-bg-color: #3B4455;\n",
              "      --disabled-fill-color: #666;\n",
              "  }\n",
              "\n",
              "  .colab-df-quickchart {\n",
              "    background-color: var(--bg-color);\n",
              "    border: none;\n",
              "    border-radius: 50%;\n",
              "    cursor: pointer;\n",
              "    display: none;\n",
              "    fill: var(--fill-color);\n",
              "    height: 32px;\n",
              "    padding: 0;\n",
              "    width: 32px;\n",
              "  }\n",
              "\n",
              "  .colab-df-quickchart:hover {\n",
              "    background-color: var(--hover-bg-color);\n",
              "    box-shadow: 0 1px 2px rgba(60, 64, 67, 0.3), 0 1px 3px 1px rgba(60, 64, 67, 0.15);\n",
              "    fill: var(--button-hover-fill-color);\n",
              "  }\n",
              "\n",
              "  .colab-df-quickchart-complete:disabled,\n",
              "  .colab-df-quickchart-complete:disabled:hover {\n",
              "    background-color: var(--disabled-bg-color);\n",
              "    fill: var(--disabled-fill-color);\n",
              "    box-shadow: none;\n",
              "  }\n",
              "\n",
              "  .colab-df-spinner {\n",
              "    border: 2px solid var(--fill-color);\n",
              "    border-color: transparent;\n",
              "    border-bottom-color: var(--fill-color);\n",
              "    animation:\n",
              "      spin 1s steps(1) infinite;\n",
              "  }\n",
              "\n",
              "  @keyframes spin {\n",
              "    0% {\n",
              "      border-color: transparent;\n",
              "      border-bottom-color: var(--fill-color);\n",
              "      border-left-color: var(--fill-color);\n",
              "    }\n",
              "    20% {\n",
              "      border-color: transparent;\n",
              "      border-left-color: var(--fill-color);\n",
              "      border-top-color: var(--fill-color);\n",
              "    }\n",
              "    30% {\n",
              "      border-color: transparent;\n",
              "      border-left-color: var(--fill-color);\n",
              "      border-top-color: var(--fill-color);\n",
              "      border-right-color: var(--fill-color);\n",
              "    }\n",
              "    40% {\n",
              "      border-color: transparent;\n",
              "      border-right-color: var(--fill-color);\n",
              "      border-top-color: var(--fill-color);\n",
              "    }\n",
              "    60% {\n",
              "      border-color: transparent;\n",
              "      border-right-color: var(--fill-color);\n",
              "    }\n",
              "    80% {\n",
              "      border-color: transparent;\n",
              "      border-right-color: var(--fill-color);\n",
              "      border-bottom-color: var(--fill-color);\n",
              "    }\n",
              "    90% {\n",
              "      border-color: transparent;\n",
              "      border-bottom-color: var(--fill-color);\n",
              "    }\n",
              "  }\n",
              "</style>\n",
              "\n",
              "  <script>\n",
              "    async function quickchart(key) {\n",
              "      const quickchartButtonEl =\n",
              "        document.querySelector('#' + key + ' button');\n",
              "      quickchartButtonEl.disabled = true;  // To prevent multiple clicks.\n",
              "      quickchartButtonEl.classList.add('colab-df-spinner');\n",
              "      try {\n",
              "        const charts = await google.colab.kernel.invokeFunction(\n",
              "            'suggestCharts', [key], {});\n",
              "      } catch (error) {\n",
              "        console.error('Error during call to suggestCharts:', error);\n",
              "      }\n",
              "      quickchartButtonEl.classList.remove('colab-df-spinner');\n",
              "      quickchartButtonEl.classList.add('colab-df-quickchart-complete');\n",
              "    }\n",
              "    (() => {\n",
              "      let quickchartButtonEl =\n",
              "        document.querySelector('#df-0007f11d-9260-4795-a483-45aeaf8b0b9a button');\n",
              "      quickchartButtonEl.style.display =\n",
              "        google.colab.kernel.accessAllowed ? 'block' : 'none';\n",
              "    })();\n",
              "  </script>\n",
              "</div>\n",
              "\n",
              "  <div id=\"id_3b7dc5c1-dbf4-4bd3-ae07-9e21ab6049ed\">\n",
              "    <style>\n",
              "      .colab-df-generate {\n",
              "        background-color: #E8F0FE;\n",
              "        border: none;\n",
              "        border-radius: 50%;\n",
              "        cursor: pointer;\n",
              "        display: none;\n",
              "        fill: #1967D2;\n",
              "        height: 32px;\n",
              "        padding: 0 0 0 0;\n",
              "        width: 32px;\n",
              "      }\n",
              "\n",
              "      .colab-df-generate:hover {\n",
              "        background-color: #E2EBFA;\n",
              "        box-shadow: 0px 1px 2px rgba(60, 64, 67, 0.3), 0px 1px 3px 1px rgba(60, 64, 67, 0.15);\n",
              "        fill: #174EA6;\n",
              "      }\n",
              "\n",
              "      [theme=dark] .colab-df-generate {\n",
              "        background-color: #3B4455;\n",
              "        fill: #D2E3FC;\n",
              "      }\n",
              "\n",
              "      [theme=dark] .colab-df-generate:hover {\n",
              "        background-color: #434B5C;\n",
              "        box-shadow: 0px 1px 3px 1px rgba(0, 0, 0, 0.15);\n",
              "        filter: drop-shadow(0px 1px 2px rgba(0, 0, 0, 0.3));\n",
              "        fill: #FFFFFF;\n",
              "      }\n",
              "    </style>\n",
              "    <button class=\"colab-df-generate\" onclick=\"generateWithVariable('df_features')\"\n",
              "            title=\"Generate code using this dataframe.\"\n",
              "            style=\"display:none;\">\n",
              "\n",
              "  <svg xmlns=\"http://www.w3.org/2000/svg\" height=\"24px\"viewBox=\"0 0 24 24\"\n",
              "       width=\"24px\">\n",
              "    <path d=\"M7,19H8.4L18.45,9,17,7.55,7,17.6ZM5,21V16.75L18.45,3.32a2,2,0,0,1,2.83,0l1.4,1.43a1.91,1.91,0,0,1,.58,1.4,1.91,1.91,0,0,1-.58,1.4L9.25,21ZM18.45,9,17,7.55Zm-12,3A5.31,5.31,0,0,0,4.9,8.1,5.31,5.31,0,0,0,1,6.5,5.31,5.31,0,0,0,4.9,4.9,5.31,5.31,0,0,0,6.5,1,5.31,5.31,0,0,0,8.1,4.9,5.31,5.31,0,0,0,12,6.5,5.46,5.46,0,0,0,6.5,12Z\"/>\n",
              "  </svg>\n",
              "    </button>\n",
              "    <script>\n",
              "      (() => {\n",
              "      const buttonEl =\n",
              "        document.querySelector('#id_3b7dc5c1-dbf4-4bd3-ae07-9e21ab6049ed button.colab-df-generate');\n",
              "      buttonEl.style.display =\n",
              "        google.colab.kernel.accessAllowed ? 'block' : 'none';\n",
              "\n",
              "      buttonEl.onclick = () => {\n",
              "        google.colab.notebook.generateWithVariable('df_features');\n",
              "      }\n",
              "      })();\n",
              "    </script>\n",
              "  </div>\n",
              "\n",
              "    </div>\n",
              "  </div>\n"
            ],
            "application/vnd.google.colaboratory.intrinsic+json": {
              "type": "dataframe",
              "variable_name": "df_features",
              "summary": "{\n  \"name\": \"df_features\",\n  \"rows\": 4760,\n  \"fields\": [\n    {\n      \"column\": \"Movie_Genre\",\n      \"properties\": {\n        \"dtype\": \"category\",\n        \"num_unique_values\": 1164,\n        \"samples\": [\n          \"Family Animation Adventure\",\n          \"Adventure Science Fiction Action\",\n          \"Action Crime Drama Romance Thriller\"\n        ],\n        \"semantic_type\": \"\",\n        \"description\": \"\"\n      }\n    },\n    {\n      \"column\": \"Movie_Keywords\",\n      \"properties\": {\n        \"dtype\": \"string\",\n        \"num_unique_values\": 4203,\n        \"samples\": [\n          \"canada nazis sequel spin off ancient evil\",\n          \"sex professor wedding woman director columbia university\",\n          \"prophecy sea beach gold small town\"\n        ],\n        \"semantic_type\": \"\",\n        \"description\": \"\"\n      }\n    },\n    {\n      \"column\": \"Movie_Tagline\",\n      \"properties\": {\n        \"dtype\": \"string\",\n        \"num_unique_values\": 3928,\n        \"samples\": [\n          \"The messenger must be silenced.\",\n          \"It's not the house that's haunted.\",\n          \"The final hunt begins.\"\n        ],\n        \"semantic_type\": \"\",\n        \"description\": \"\"\n      }\n    },\n    {\n      \"column\": \"Movie_Cast\",\n      \"properties\": {\n        \"dtype\": \"string\",\n        \"num_unique_values\": 4715,\n        \"samples\": [\n          \"Robin Tunney Fairuza Balk Neve Campbell Rachel True Skeet Ulrich\",\n          \"Peter Sellers Christopher Plummer Herbert Lom Catherine Schell Peter Arne\",\n          \"John Wayne Laraine Day Cedric Hardwicke Judith Anderson Anthony Quinn\"\n        ],\n        \"semantic_type\": \"\",\n        \"description\": \"\"\n      }\n    },\n    {\n      \"column\": \"Movie_Director\",\n      \"properties\": {\n        \"dtype\": \"category\",\n        \"num_unique_values\": 2332,\n        \"samples\": [\n          \"Rob McKittrick\",\n          \"Terron R. Parsons\",\n          \"Cyrus Nowrasteh\"\n        ],\n        \"semantic_type\": \"\",\n        \"description\": \"\"\n      }\n    }\n  ]\n}"
            }
          },
          "metadata": {},
          "execution_count": 10
        }
      ]
    },
    {
      "cell_type": "code",
      "source": [
        "X = df_features['Movie_Genre'] +' '+ df_features['Movie_Keywords'] +' '+ df_features['Movie_Tagline'] +' '+ df_features['Movie_Cast'] +' '+ df_features['Movie_Director']"
      ],
      "metadata": {
        "id": "ADg6lVHKq6MB"
      },
      "execution_count": null,
      "outputs": []
    },
    {
      "cell_type": "code",
      "source": [
        "X"
      ],
      "metadata": {
        "id": "jA8E_wCOrwO6",
        "colab": {
          "base_uri": "https://localhost:8080/"
        },
        "outputId": "382106c4-2891-4f61-e315-6ce08ea988ac"
      },
      "execution_count": null,
      "outputs": [
        {
          "output_type": "execute_result",
          "data": {
            "text/plain": [
              "0       Crime Comedy hotel new year's eve witch bet ho...\n",
              "1       Adventure Action Science Fiction android galax...\n",
              "2       Animation Family father son relationship harbo...\n",
              "3       Comedy Drama Romance vietnam veteran hippie me...\n",
              "4       Drama male nudity female nudity adultery midli...\n",
              "                              ...                        \n",
              "4755    Horror  The hot spot where Satan's waitin'. Li...\n",
              "4756    Comedy Family Drama  It’s better to stand out ...\n",
              "4757    Thriller Drama christian film sex trafficking ...\n",
              "4758                                           Family    \n",
              "4759    Documentary music actors legendary perfomer cl...\n",
              "Length: 4760, dtype: object"
            ]
          },
          "metadata": {},
          "execution_count": 12
        }
      ]
    },
    {
      "cell_type": "code",
      "source": [
        "X.shape"
      ],
      "metadata": {
        "id": "X8bdr-yMrwGj",
        "colab": {
          "base_uri": "https://localhost:8080/"
        },
        "outputId": "cfa3edf9-6311-4bf1-e149-8f73796c4f4b"
      },
      "execution_count": null,
      "outputs": [
        {
          "output_type": "execute_result",
          "data": {
            "text/plain": [
              "(4760,)"
            ]
          },
          "metadata": {},
          "execution_count": 13
        }
      ]
    },
    {
      "cell_type": "markdown",
      "source": [
        "#**Get Feature Text Conversion to Tokens**"
      ],
      "metadata": {
        "id": "Bl2YwDHQry6S"
      }
    },
    {
      "cell_type": "code",
      "source": [
        "from sklearn.feature_extraction.text import TfidfVectorizer"
      ],
      "metadata": {
        "id": "DraI1r4kr67e"
      },
      "execution_count": null,
      "outputs": []
    },
    {
      "cell_type": "code",
      "source": [
        "tfidf = TfidfVectorizer()"
      ],
      "metadata": {
        "id": "TDOzEvZcsV1r"
      },
      "execution_count": null,
      "outputs": []
    },
    {
      "cell_type": "code",
      "source": [
        "X = tfidf.fit_transform(X)"
      ],
      "metadata": {
        "id": "kVGrcX_ssfTl"
      },
      "execution_count": null,
      "outputs": []
    },
    {
      "cell_type": "code",
      "source": [
        "X.shape"
      ],
      "metadata": {
        "id": "soH8_u3wspnS",
        "colab": {
          "base_uri": "https://localhost:8080/"
        },
        "outputId": "97de0acd-192c-4dca-ac6c-6f0306f98c3d"
      },
      "execution_count": null,
      "outputs": [
        {
          "output_type": "execute_result",
          "data": {
            "text/plain": [
              "(4760, 17258)"
            ]
          },
          "metadata": {},
          "execution_count": 17
        }
      ]
    },
    {
      "cell_type": "code",
      "source": [
        "print(X)"
      ],
      "metadata": {
        "id": "HjylTGaZssCC",
        "colab": {
          "base_uri": "https://localhost:8080/"
        },
        "outputId": "f311dc44-db87-474e-dc5e-bd8068827cd2"
      },
      "execution_count": null,
      "outputs": [
        {
          "output_type": "stream",
          "name": "stdout",
          "text": [
            "  (0, 617)\t0.1633382144407513\n",
            "  (0, 492)\t0.1432591540388685\n",
            "  (0, 15413)\t0.1465525095337543\n",
            "  (0, 9675)\t0.14226057295252661\n",
            "  (0, 9465)\t0.1659841367820977\n",
            "  (0, 1390)\t0.16898383612799558\n",
            "  (0, 7825)\t0.09799561597509843\n",
            "  (0, 1214)\t0.13865857545144072\n",
            "  (0, 729)\t0.13415063359531618\n",
            "  (0, 13093)\t0.1432591540388685\n",
            "  (0, 15355)\t0.10477815972666779\n",
            "  (0, 9048)\t0.0866842116160778\n",
            "  (0, 11161)\t0.06250380151644369\n",
            "  (0, 16773)\t0.17654247479915475\n",
            "  (0, 5612)\t0.08603537588547631\n",
            "  (0, 16735)\t0.10690083751525419\n",
            "  (0, 7904)\t0.13348000542112332\n",
            "  (0, 15219)\t0.09800472886453934\n",
            "  (0, 11242)\t0.07277788238484746\n",
            "  (0, 3878)\t0.11998399582562203\n",
            "  (0, 5499)\t0.11454057510303811\n",
            "  (0, 7071)\t0.19822417598406614\n",
            "  (0, 7454)\t0.14745635785412262\n",
            "  (0, 1495)\t0.19712637387361423\n",
            "  (0, 9206)\t0.15186283580984414\n",
            "  :\t:\n",
            "  (4757, 5455)\t0.12491480594769522\n",
            "  (4757, 2967)\t0.16273475835631626\n",
            "  (4757, 8464)\t0.23522565554066333\n",
            "  (4757, 6938)\t0.17088173678136628\n",
            "  (4757, 8379)\t0.17480603856721913\n",
            "  (4757, 15303)\t0.07654356007668191\n",
            "  (4757, 15384)\t0.09754322497537371\n",
            "  (4757, 7649)\t0.11479421494340192\n",
            "  (4757, 10896)\t0.14546473055066447\n",
            "  (4757, 4494)\t0.05675298448720501\n",
            "  (4758, 5238)\t1.0\n",
            "  (4759, 11264)\t0.33947721804318337\n",
            "  (4759, 11708)\t0.33947721804318337\n",
            "  (4759, 205)\t0.3237911628497312\n",
            "  (4759, 8902)\t0.3040290704566037\n",
            "  (4759, 14062)\t0.3237911628497312\n",
            "  (4759, 3058)\t0.2812896191863103\n",
            "  (4759, 7130)\t0.26419662449963793\n",
            "  (4759, 10761)\t0.3126617295732147\n",
            "  (4759, 4358)\t0.18306542312175342\n",
            "  (4759, 14051)\t0.20084315377640435\n",
            "  (4759, 5690)\t0.19534291014627303\n",
            "  (4759, 15431)\t0.19628653185946862\n",
            "  (4759, 1490)\t0.21197258705292082\n",
            "  (4759, 10666)\t0.15888268987343043\n"
          ]
        }
      ]
    },
    {
      "cell_type": "markdown",
      "source": [
        "#**Get Similarity Score using Cosine Similarity**"
      ],
      "metadata": {
        "id": "5Sm5SqNctIiF"
      }
    },
    {
      "cell_type": "code",
      "source": [
        "from sklearn.metrics.pairwise import cosine_similarity"
      ],
      "metadata": {
        "id": "rlTlYc3StQvy"
      },
      "execution_count": null,
      "outputs": []
    },
    {
      "cell_type": "code",
      "source": [
        "Similarity_Score = cosine_similarity(X)"
      ],
      "metadata": {
        "id": "MNAgFxm_tnKj"
      },
      "execution_count": null,
      "outputs": []
    },
    {
      "cell_type": "code",
      "source": [
        "Similarity_Score"
      ],
      "metadata": {
        "id": "pEVDAbxdtvHJ",
        "colab": {
          "base_uri": "https://localhost:8080/"
        },
        "outputId": "6d204692-4c34-482b-ca48-94268a926113"
      },
      "execution_count": null,
      "outputs": [
        {
          "output_type": "execute_result",
          "data": {
            "text/plain": [
              "array([[1.        , 0.01351235, 0.03570468, ..., 0.        , 0.        ,\n",
              "        0.        ],\n",
              "       [0.01351235, 1.        , 0.00806674, ..., 0.        , 0.        ,\n",
              "        0.        ],\n",
              "       [0.03570468, 0.00806674, 1.        , ..., 0.        , 0.08014876,\n",
              "        0.        ],\n",
              "       ...,\n",
              "       [0.        , 0.        , 0.        , ..., 1.        , 0.        ,\n",
              "        0.        ],\n",
              "       [0.        , 0.        , 0.08014876, ..., 0.        , 1.        ,\n",
              "        0.        ],\n",
              "       [0.        , 0.        , 0.        , ..., 0.        , 0.        ,\n",
              "        1.        ]])"
            ]
          },
          "metadata": {},
          "execution_count": 21
        }
      ]
    },
    {
      "cell_type": "code",
      "source": [
        "Similarity_Score.shape"
      ],
      "metadata": {
        "id": "y0UraC2qtxZ2",
        "colab": {
          "base_uri": "https://localhost:8080/"
        },
        "outputId": "e3e95914-46e3-4517-98ab-ac7f479c3d40"
      },
      "execution_count": null,
      "outputs": [
        {
          "output_type": "execute_result",
          "data": {
            "text/plain": [
              "(4760, 4760)"
            ]
          },
          "metadata": {},
          "execution_count": 22
        }
      ]
    },
    {
      "cell_type": "markdown",
      "source": [
        "#**Get Movie Name as Input from User and Validate for Closest Spelling**"
      ],
      "metadata": {
        "id": "04llLymCt4px"
      }
    },
    {
      "cell_type": "code",
      "source": [
        "Favorite_Movie_Name = input('Enter your favourite movie name : ')"
      ],
      "metadata": {
        "id": "JfnIPWkft3vm",
        "colab": {
          "base_uri": "https://localhost:8080/"
        },
        "outputId": "a5b80611-5437-4c6c-e1dd-7529d1b85a4d"
      },
      "execution_count": null,
      "outputs": [
        {
          "name": "stdout",
          "output_type": "stream",
          "text": [
            "Enter your favourite movie name : titanic\n"
          ]
        }
      ]
    },
    {
      "cell_type": "code",
      "source": [
        "All_Movies_Title_List = df['Movie_Title'].tolist()"
      ],
      "metadata": {
        "id": "USNB1QJYud3f"
      },
      "execution_count": null,
      "outputs": []
    },
    {
      "cell_type": "code",
      "source": [
        "import difflib"
      ],
      "metadata": {
        "id": "Mp32VVeuupLH"
      },
      "execution_count": null,
      "outputs": []
    },
    {
      "cell_type": "code",
      "source": [
        "Movie_Recommendation = difflib.get_close_matches(Favorite_Movie_Name,All_Movies_Title_List)\n",
        "print(Movie_Recommendation)"
      ],
      "metadata": {
        "id": "xp3l91eLurnN",
        "colab": {
          "base_uri": "https://localhost:8080/"
        },
        "outputId": "da038d9b-a504-49f0-c71a-bf5f66b01a60"
      },
      "execution_count": null,
      "outputs": [
        {
          "output_type": "stream",
          "name": "stdout",
          "text": [
            "['Titanic', 'Maniac', 'Hitman']\n"
          ]
        }
      ]
    },
    {
      "cell_type": "code",
      "source": [
        "Close_Match = Movie_Recommendation[0]\n",
        "print(Close_Match)"
      ],
      "metadata": {
        "id": "DhrtEsRkvDfd",
        "colab": {
          "base_uri": "https://localhost:8080/"
        },
        "outputId": "74193a63-8f52-47af-a246-9123287db41d"
      },
      "execution_count": null,
      "outputs": [
        {
          "output_type": "stream",
          "name": "stdout",
          "text": [
            "Titanic\n"
          ]
        }
      ]
    },
    {
      "cell_type": "code",
      "source": [
        "Index_of_Close_Match_Movie = df[df.Movie_Title == Close_Match]['Movie_ID'].values[0]\n",
        "print(Index_of_Close_Match_Movie)"
      ],
      "metadata": {
        "id": "YK6-8btJvbrE",
        "colab": {
          "base_uri": "https://localhost:8080/"
        },
        "outputId": "edfc7216-9e6d-4c7f-fe2b-40b320a9d7b8"
      },
      "execution_count": null,
      "outputs": [
        {
          "output_type": "stream",
          "name": "stdout",
          "text": [
            "256\n"
          ]
        }
      ]
    },
    {
      "cell_type": "code",
      "source": [
        "#getting a list of similar movies\n",
        "Recommendation_Score = list(enumerate(Similarity_Score[Index_of_Close_Match_Movie]))\n",
        "print(Recommendation_Score)"
      ],
      "metadata": {
        "id": "y3Ddacvcv1GN",
        "colab": {
          "base_uri": "https://localhost:8080/"
        },
        "outputId": "5163dbdd-5a45-462d-ff5e-38ff8c3263c9"
      },
      "execution_count": null,
      "outputs": [
        {
          "output_type": "stream",
          "name": "stdout",
          "text": [
            "[(0, 0.004374333531035219), (1, 0.0), (2, 0.02962710596389098), (3, 0.029431364469359046), (4, 0.061144232726418446), (5, 0.03968330416088574), (6, 0.0), (7, 0.0015674440938736277), (8, 0.002369653234793676), (9, 0.0), (10, 0.006486699078583746), (11, 0.002259515957833609), (12, 0.0023300836204128406), (13, 0.0), (14, 0.0), (15, 0.030879578299686183), (16, 0.0018186439343890256), (17, 0.0), (18, 0.007928946144468162), (19, 0.023250788764979873), (20, 0.05162660237533076), (21, 0.008842640644176428), (22, 0.016603765519491834), (23, 0.0022737977197068216), (24, 0.0014251026316195808), (25, 0.001804922488955549), (26, 0.00213494178323791), (27, 0.035867352228117405), (28, 0.0), (29, 0.0020778603573590885), (30, 0.0), (31, 0.002052078730680511), (32, 0.0019134560317235387), (33, 0.06129604264732633), (34, 0.03483684662317486), (35, 0.0), (36, 0.048070546709399024), (37, 0.0), (38, 0.006956187745381804), (39, 0.0), (40, 0.006828028267454018), (41, 0.0024279218398710117), (42, 0.006226103746286325), (43, 0.02941378081879961), (44, 0.056611102670555156), (45, 0.0), (46, 0.03334926271263272), (47, 0.00540280646327488), (48, 0.009111086676461908), (49, 0.0), (50, 0.006011163686360468), (51, 0.026293521438765073), (52, 0.03783042263675596), (53, 0.0), (54, 0.0), (55, 0.0), (56, 0.0), (57, 0.0), (58, 0.0), (59, 0.0), (60, 0.001866515569695238), (61, 0.03305286044774592), (62, 0.0024090139669009085), (63, 0.0017365563482193511), (64, 0.03951170108697503), (65, 0.0), (66, 0.002177712704997993), (67, 0.0), (68, 0.015225091209410837), (69, 0.0), (70, 0.040888532001355095), (71, 0.03144307992477606), (72, 0.005903290685234333), (73, 0.029893200690170527), (74, 0.0356057670527094), (75, 0.0), (76, 0.0), (77, 0.0), (78, 0.0), (79, 0.024023311724516473), (80, 0.0), (81, 0.006030909144364157), (82, 0.0016557943933514251), (83, 0.006168212135977909), (84, 0.030643241537529033), (85, 0.042472505542808896), (86, 0.00523480602103935), (87, 0.007982360491561945), (88, 0.030833708704343585), (89, 0.006863126910999211), (90, 0.016352104174793953), (91, 0.0), (92, 0.0019202175374560568), (93, 0.0320326096069166), (94, 0.03071270494023146), (95, 0.017201409449247883), (96, 0.06558477591803506), (97, 0.0019148265300192992), (98, 0.002136567330846184), (99, 0.047386401483155385), (100, 0.0), (101, 0.0), (102, 0.0), (103, 0.0018898981858567236), (104, 0.002195743836370109), (105, 0.008200810927177733), (106, 0.060692990411505894), (107, 0.0024747103429199526), (108, 0.005883076466826229), (109, 0.04551419202942347), (110, 0.0), (111, 0.007681347415118708), (112, 0.007960751185829973), (113, 0.0017942956784200367), (114, 0.0021840441749834743), (115, 0.03423264610455312), (116, 0.0020593508580328515), (117, 0.0), (118, 0.0), (119, 0.002140709294565251), (120, 0.05718172266621863), (121, 0.0020054136914547794), (122, 0.034437047923655574), (123, 0.0157063766401466), (124, 0.022819652831294054), (125, 0.0), (126, 0.06685903282990628), (127, 0.03259788706998717), (128, 0.0), (129, 0.0015236681998072063), (130, 0.0), (131, 0.028884798766601855), (132, 0.0019344693432360306), (133, 0.0), (134, 0.0), (135, 0.01670777328296252), (136, 0.0020149538700165266), (137, 0.0062668232618054015), (138, 0.022559224771183474), (139, 0.0068293958021897), (140, 0.0020439134088768287), (141, 0.05181728604472949), (142, 0.050908828034154065), (143, 0.0063853067942377375), (144, 0.04957735056337628), (145, 0.012410383018406763), (146, 0.0), (147, 0.00715393605906402), (148, 0.005523670028620002), (149, 0.032672712847621015), (150, 0.0), (151, 0.0), (152, 0.0), (153, 0.0), (154, 0.002048125291371734), (155, 0.0), (156, 0.0017725376162875247), (157, 0.038612089574819215), (158, 0.001957237365596081), (159, 0.0017077182579904673), (160, 0.0286863902133003), (161, 0.0019612688750986398), (162, 0.006685501347064364), (163, 0.029124513057993334), (164, 0.002076231201031179), (165, 0.0018862279208302537), (166, 0.040318247191175424), (167, 0.002107910267625966), (168, 0.01839017210791034), (169, 0.0021437721045291687), (170, 0.005515114717250974), (171, 0.0), (172, 0.008295117290488919), (173, 0.008666231332180602), (174, 0.0021552390504522116), (175, 0.001842464090380438), (176, 0.0022420634455440694), (177, 0.0), (178, 0.0022953472779962112), (179, 0.0), (180, 0.0065045075625957014), (181, 0.012092821701321178), (182, 0.03374561157007502), (183, 0.002001116793195989), (184, 0.01664666109675624), (185, 0.0), (186, 0.0), (187, 0.0), (188, 0.0), (189, 0.03240900606395247), (190, 0.0070563587974498305), (191, 0.0), (192, 0.07005901857926851), (193, 0.002306975551281985), (194, 0.0017506465730881375), (195, 0.042195400236525835), (196, 0.0018327244174053924), (197, 0.0020602371913501535), (198, 0.06572225114594524), (199, 0.007539707684377056), (200, 0.001928001339642623), (201, 0.0063506830595032706), (202, 0.0014317479609334187), (203, 0.002064569076292331), (204, 0.03497603590001751), (205, 0.040619391509900626), (206, 0.008771504585078364), (207, 0.006875283186042717), (208, 0.0023165156022121355), (209, 0.02590950754049507), (210, 0.008911795027451585), (211, 0.060572472945053725), (212, 0.02429323038903414), (213, 0.06455435464042221), (214, 0.0), (215, 0.0021436230519669866), (216, 0.03453803634122963), (217, 0.03958729966003955), (218, 0.0019920367471821607), (219, 0.0), (220, 0.0), (221, 0.0020745819118045583), (222, 0.00192048241616919), (223, 0.0), (224, 0.006326524732860605), (225, 0.0), (226, 0.0021816697860929006), (227, 0.0023319021832630747), (228, 0.0016525222643583917), (229, 0.0020342350663151835), (230, 0.0), (231, 0.0), (232, 0.0), (233, 0.0), (234, 0.03966081640421784), (235, 0.002462802037974031), (236, 0.007767105603748939), (237, 0.08410563378075099), (238, 0.024578721779399817), (239, 0.0), (240, 0.028968272443195792), (241, 0.0), (242, 0.001889157072841571), (243, 0.001536172642960331), (244, 0.03657120562028371), (245, 0.0), (246, 0.0023204678208535363), (247, 0.002157421826453311), (248, 0.028952920809113113), (249, 0.001913575702049496), (250, 0.0), (251, 0.007087288157212569), (252, 0.024117473710621527), (253, 0.00238559385500088), (254, 0.00911402137382691), (255, 0.002284883466441151), (256, 1.0000000000000002), (257, 0.0), (258, 0.0), (259, 0.0), (260, 0.0), (261, 0.0), (262, 0.0022922250365797017), (263, 0.0), (264, 0.0), (265, 0.03460980250278607), (266, 0.02094953981881253), (267, 0.0018490930145368455), (268, 0.0019461018426274014), (269, 0.0018722768880971448), (270, 0.07749050615572219), (271, 0.001672216025023621), (272, 0.047161792003036926), (273, 0.0), (274, 0.009494363349839583), (275, 0.0), (276, 0.0077966509792700995), (277, 0.030351199422271335), (278, 0.001879250091384009), (279, 0.002042669285215346), (280, 0.008247277772907582), (281, 0.009334744215567304), (282, 0.008146158715441568), (283, 0.0015967697412907168), (284, 0.0), (285, 0.07174900026306327), (286, 0.0018723888236476644), (287, 0.007758860197166156), (288, 0.0), (289, 0.0), (290, 0.0), (291, 0.03407546376677702), (292, 0.0021169799467284697), (293, 0.03213861099018185), (294, 0.02491910869431929), (295, 0.0), (296, 0.0016353391241968965), (297, 0.0), (298, 0.0), (299, 0.0), (300, 0.0), (301, 0.0), (302, 0.0), (303, 0.0), (304, 0.06331955869386356), (305, 0.0), (306, 0.0), (307, 0.03570265592220216), (308, 0.002439947773800348), (309, 0.028814722012587918), (310, 0.0), (311, 0.005713252808949595), (312, 0.0), (313, 0.0), (314, 0.0), (315, 0.0), (316, 0.0), (317, 0.03386472192795396), (318, 0.002384526602250268), (319, 0.0), (320, 0.0), (321, 0.0), (322, 0.0), (323, 0.0), (324, 0.002011084754993765), (325, 0.036546586905490654), (326, 0.0026721519884709654), (327, 0.015000732156365819), (328, 0.0), (329, 0.0021166793185114024), (330, 0.0015076522189410365), (331, 0.0), (332, 0.0), (333, 0.005414205029543299), (334, 0.005477161204267251), (335, 0.02893324450558005), (336, 0.0), (337, 0.0), (338, 0.0), (339, 0.0), (340, 0.0), (341, 0.0), (342, 0.03629116852548752), (343, 0.0021985157917901858), (344, 0.0), (345, 0.005899390649521431), (346, 0.018784367416278078), (347, 0.0), (348, 0.00215996465004779), (349, 0.0021162339009208053), (350, 0.0023754231692989253), (351, 0.001664707632273468), (352, 0.0), (353, 0.0022160647939171094), (354, 0.0), (355, 0.0020119829546280357), (356, 0.0020812843130340467), (357, 0.001882902946370759), (358, 0.0021221186354205336), (359, 0.0020024054026334215), (360, 0.005775725451277263), (361, 0.0), (362, 0.0), (363, 0.0), (364, 0.02073202596757284), (365, 0.018569777938612288), (366, 0.0), (367, 0.040204085659239365), (368, 0.007306380521987338), (369, 0.004658477890877434), (370, 0.008255503566394335), (371, 0.002401016297824855), (372, 0.0020330372399009794), (373, 0.00206789906985092), (374, 0.0021527878164014605), (375, 0.030929860669102253), (376, 0.0), (377, 0.0344944636587228), (378, 0.0021913138538704), (379, 0.0), (380, 0.0), (381, 0.0), (382, 0.0423851007570961), (383, 0.0), (384, 0.0), (385, 0.00673827009106517), (386, 0.0), (387, 0.0020578538676378293), (388, 0.03160449878274767), (389, 0.0), (390, 0.0), (391, 0.0), (392, 0.0), (393, 0.0), (394, 0.0), (395, 0.035919197640393044), (396, 0.024674635626141073), (397, 0.05723057472403548), (398, 0.0), (399, 0.00202182265972189), (400, 0.002161935279352757), (401, 0.03636568397049766), (402, 0.0026599519394122834), (403, 0.0018494163537428453), (404, 0.0), (405, 0.0), (406, 0.0022261893701462075), (407, 0.001750738795253038), (408, 0.03740741449591358), (409, 0.0), (410, 0.002029976217141042), (411, 0.0), (412, 0.07848834210133943), (413, 0.0), (414, 0.0), (415, 0.030922314531950792), (416, 0.0019994976388235147), (417, 0.03284762139916556), (418, 0.07264681557098072), (419, 0.0024574713146047035), (420, 0.037437757847771064), (421, 0.0), (422, 0.06489162993182492), (423, 0.0), (424, 0.0), (425, 0.0332121684915852), (426, 0.015640882623628536), (427, 0.030019234609617165), (428, 0.001969956963597379), (429, 0.02691009115634036), (430, 0.002348513085476505), (431, 0.002573249549233726), (432, 0.0018562387494987886), (433, 0.0017848372884670695), (434, 0.007822793791890662), (435, 0.03452689817915836), (436, 0.0024412487376752182), (437, 0.0020703887260130624), (438, 0.02558528395530564), (439, 0.0), (440, 0.038219921546274904), (441, 0.0018031021856338703), (442, 0.001809229611701107), (443, 0.03872257908920673), (444, 0.0024311889871689468), (445, 0.05937649458260528), (446, 0.0021285273823405592), (447, 0.041083742665662185), (448, 0.0025185306266743476), (449, 0.001973397460866283), (450, 0.00907336526275215), (451, 0.0), (452, 0.0016433901394031628), (453, 0.0016684801407186951), (454, 0.0), (455, 0.0015483295250158043), (456, 0.0409756229484473), (457, 0.002002633121834342), (458, 0.009226483706360556), (459, 0.0), (460, 0.03571399309907643), (461, 0.007208236103459259), (462, 0.0), (463, 0.02969883806772706), (464, 0.002156769443499854), (465, 0.0019920355504257897), (466, 0.0021571944186727448), (467, 0.0), (468, 0.0), (469, 0.0), (470, 0.0353094002889586), (471, 0.002037643966112769), (472, 0.002246343523894497), (473, 0.0019740450717485635), (474, 0.006395838000823163), (475, 0.008087476952766392), (476, 0.002395161698124296), (477, 0.0), (478, 0.0024694311782303105), (479, 0.00825913383947159), (480, 0.0019146731717494011), (481, 0.043027865850380397), (482, 0.03781369219772001), (483, 0.027110548922848754), (484, 0.0), (485, 0.008861370033252514), (486, 0.04425396842219426), (487, 0.03410426803629752), (488, 0.0021105125479185835), (489, 0.002610180994351372), (490, 0.026961277343460117), (491, 0.0), (492, 0.0), (493, 0.002316685645193807), (494, 0.0061148704219270425), (495, 0.0019298689092623667), (496, 0.0018628553961354973), (497, 0.005416693184405436), (498, 0.0), (499, 0.029630543995358596), (500, 0.06696735863482084), (501, 0.00546590568563408), (502, 0.008656615652600107), (503, 0.005921154236583665), (504, 0.0021951554038545057), (505, 0.0020728282991091893), (506, 0.038230362647046004), (507, 0.0020488077586621827), (508, 0.002508891648772856), (509, 0.0022376522732576506), (510, 0.0017441318646429958), (511, 0.0), (512, 0.0), (513, 0.0), (514, 0.0), (515, 0.06800639114182717), (516, 0.0), (517, 0.06840584740878766), (518, 0.0025579866197150036), (519, 0.00192656303575184), (520, 0.0), (521, 0.0), (522, 0.0021180372515933314), (523, 0.0), (524, 0.059423253302952346), (525, 0.0), (526, 0.0027437897747098158), (527, 0.0017273880923691619), (528, 0.0), (529, 0.0), (530, 0.005991838576568722), (531, 0.0), (532, 0.005652217818795581), (533, 0.009300431265358363), (534, 0.00816688702124389), (535, 0.0), (536, 0.0), (537, 0.0), (538, 0.0), (539, 0.0059563669463037145), (540, 0.0), (541, 0.12319762487733692), (542, 0.005798533110000569), (543, 0.04120807947165838), (544, 0.008391202589300092), (545, 0.0), (546, 0.0), (547, 0.006971585083727752), (548, 0.0), (549, 0.0), (550, 0.0), (551, 0.02827669823838521), (552, 0.0), (553, 0.0), (554, 0.0), (555, 0.0), (556, 0.0), (557, 0.0), (558, 0.007624898982331962), (559, 0.0), (560, 0.006105337338027846), (561, 0.0), (562, 0.05006069741594733), (563, 0.001967527235459978), (564, 0.002285937607384478), (565, 0.029231320664952837), (566, 0.046516016826038724), (567, 0.033670859980845624), (568, 0.0), (569, 0.0), (570, 0.0), (571, 0.0016823319697146998), (572, 0.0), (573, 0.0), (574, 0.0), (575, 0.026255068401174784), (576, 0.0024597008290645666), (577, 0.0), (578, 0.017841619515907747), (579, 0.031112635281965437), (580, 0.02047073801660294), (581, 0.0019663033746258785), (582, 0.02581940252122079), (583, 0.0), (584, 0.00855601070722855), (585, 0.0), (586, 0.0), (587, 0.0023996898739844174), (588, 0.0022673422807556287), (589, 0.002022185811561152), (590, 0.002011041376153565), (591, 0.0), (592, 0.0), (593, 0.0022255388411363043), (594, 0.0019502811563963745), (595, 0.0), (596, 0.0024447898107218748), (597, 0.001961419666241084), (598, 0.00203298940661629), (599, 0.0), (600, 0.0), (601, 0.0), (602, 0.0), (603, 0.0), (604, 0.02776122559797142), (605, 0.029458469162386956), (606, 0.034570842851108355), (607, 0.001681346803644814), (608, 0.0019778935981500895), (609, 0.0017312502517541968), (610, 0.0), (611, 0.003505647935123708), (612, 0.002316653912324407), (613, 0.036848097052918166), (614, 0.0025034909197977585), (615, 0.0), (616, 0.0018183306317334019), (617, 0.0018422151514283253), (618, 0.0), (619, 0.0), (620, 0.002095704481544068), (621, 0.019878760885264222), (622, 0.008786406843556437), (623, 0.0023174240727544897), (624, 0.001995789835192195), (625, 0.0), (626, 0.001849119870989059), (627, 0.0029545670336191166), (628, 0.002199910035250654), (629, 0.005256149926090654), (630, 0.0), (631, 0.019437009537631847), (632, 0.005501299857384825), (633, 0.03758012011286104), (634, 0.0), (635, 0.0), (636, 0.087214415086999), (637, 0.0022595245094921236), (638, 0.05970093175947834), (639, 0.0), (640, 0.0), (641, 0.0015625038783344657), (642, 0.0018847057986092549), (643, 0.008012783501631432), (644, 0.0020727770889878714), (645, 0.0017821050303396815), (646, 0.026183171003752257), (647, 0.029374204520475716), (648, 0.0), (649, 0.0), (650, 0.0), (651, 0.0021065847466167353), (652, 0.00845781311732337), (653, 0.007194382869340664), (654, 0.006415426970482348), (655, 0.06048904192018803), (656, 0.0), (657, 0.0019376333126591685), (658, 0.028950841659324555), (659, 0.031185083117429496), (660, 0.0022792409769369255), (661, 0.0), (662, 0.0), (663, 0.0), (664, 0.020445852119667953), (665, 0.0), (666, 0.0), (667, 0.024701525840094753), (668, 0.004815603310596412), (669, 0.007608316872618559), (670, 0.002689029045580192), (671, 0.0), (672, 0.0019456639748053467), (673, 0.009023531093528844), (674, 0.0), (675, 0.00901753104644189), (676, 0.008016503476062196), (677, 0.03429864362691206), (678, 0.006635772794530378), (679, 0.0), (680, 0.0023204866195591614), (681, 0.0), (682, 0.006845796858362038), (683, 0.009334978190190132), (684, 0.00606760255113475), (685, 0.0), (686, 0.0), (687, 0.0), (688, 0.05561096027777177), (689, 0.0021700013428860216), (690, 0.0), (691, 0.0017635131899696925), (692, 0.023369808923726844), (693, 0.002123694228304555), (694, 0.06091292198450466), (695, 0.05697260493308626), (696, 0.002196273555523937), (697, 0.03361860370346848), (698, 0.0020644155512068267), (699, 0.0), (700, 0.0), (701, 0.00923037744150668), (702, 0.0), (703, 0.06040919873591193), (704, 0.051010270316117774), (705, 0.11925186240845363), (706, 0.0017330630517522877), (707, 0.0018352574093848635), (708, 0.06457958633708724), (709, 0.08673960564135581), (710, 0.0), (711, 0.0), (712, 0.0019277551117144126), (713, 0.0), (714, 0.0), (715, 0.0024077849939263415), (716, 0.00228809303311296), (717, 0.0022754292586325167), (718, 0.0), (719, 0.026896035156661738), (720, 0.0), (721, 0.002500073193137507), (722, 0.0019605879271887517), (723, 0.0), (724, 0.0), (725, 0.0), (726, 0.026168875513665184), (727, 0.0021437429246806894), (728, 0.002353396651759696), (729, 0.0024331412958359384), (730, 0.0), (731, 0.002087211989372602), (732, 0.0019478433458948415), (733, 0.06131195432360988), (734, 0.025499132489630073), (735, 0.002979482074351404), (736, 0.0), (737, 0.00246102878182222), (738, 0.0), (739, 0.03820217086332078), (740, 0.024626905997950664), (741, 0.0), (742, 0.05207129409155326), (743, 0.037227546843273084), (744, 0.002017853635060145), (745, 0.005627845321695113), (746, 0.03056206824851325), (747, 0.0), (748, 0.0), (749, 0.037020231034268304), (750, 0.0022229362196426543), (751, 0.037766082201513784), (752, 0.0), (753, 0.027235394862788382), (754, 0.0), (755, 0.0021204982773485926), (756, 0.02748206278218042), (757, 0.006605072425092513), (758, 0.0), (759, 0.0019866180417516107), (760, 0.006982804384721503), (761, 0.002182292969019048), (762, 0.0), (763, 0.0), (764, 0.0), (765, 0.0), (766, 0.002018920829300841), (767, 0.002069823736706896), (768, 0.0), (769, 0.06392736120019152), (770, 0.04256348403936264), (771, 0.0), (772, 0.0), (773, 0.06055145194634373), (774, 0.0022608395541902837), (775, 0.0), (776, 0.0), (777, 0.0026224828471635665), (778, 0.0), (779, 0.0), (780, 0.0), (781, 0.0), (782, 0.0020937775343540157), (783, 0.002298524258072237), (784, 0.0), (785, 0.0), (786, 0.0534397797887238), (787, 0.020477917602548405), (788, 0.0040068094602509945), (789, 0.0), (790, 0.043079627426049316), (791, 0.0359651861837499), (792, 0.03368633265969359), (793, 0.0), (794, 0.0023580501585335405), (795, 0.014388750381206373), (796, 0.0018115174906588114), (797, 0.0), (798, 0.002082254102787094), (799, 0.008060914434876448), (800, 0.001961224970477687), (801, 0.005575755745461924), (802, 0.0), (803, 0.0), (804, 0.017002784528546207), (805, 0.06288801966555949), (806, 0.026497956358325254), (807, 0.02484868697676295), (808, 0.0019235848355547466), (809, 0.0), (810, 0.09502290080546422), (811, 0.0), (812, 0.0), (813, 0.002450661467107315), (814, 0.0), (815, 0.0019493588543457296), (816, 0.05767554637409045), (817, 0.002111529244983395), (818, 0.0020613201992440195), (819, 0.0), (820, 0.0), (821, 0.0), (822, 0.0), (823, 0.0025150495237290225), (824, 0.04829963518927088), (825, 0.02715957660723505), (826, 0.0023270507569299655), (827, 0.005774500117204221), (828, 0.03147017109619595), (829, 0.007596047185111811), (830, 0.035192550548499534), (831, 0.0015403772569511647), (832, 0.002218590053825712), (833, 0.005696608038106177), (834, 0.0), (835, 0.0), (836, 0.0), (837, 0.0), (838, 0.002028925186535617), (839, 0.0), (840, 0.0), (841, 0.0), (842, 0.0074427920534530885), (843, 0.0017943838926104947), (844, 0.044037830970810946), (845, 0.03504905359127372), (846, 0.0), (847, 0.002502134720266687), (848, 0.0022005204725628934), (849, 0.0), (850, 0.0022213228185958066), (851, 0.007243854229256758), (852, 0.0020872182375812585), (853, 0.006393321714767732), (854, 0.04606131233370612), (855, 0.03942528448269363), (856, 0.0898472057890078), (857, 0.0024095078267018094), (858, 0.0014732603529662462), (859, 0.0), (860, 0.009580668804823682), (861, 0.0018789483954896385), (862, 0.00530280937131877), (863, 0.0019945010545959034), (864, 0.00835544967184872), (865, 0.002240442552091087), (866, 0.0076871189541231994), (867, 0.0021504289645900014), (868, 0.002025873235842398), (869, 0.006240894330514451), (870, 0.028572961502451134), (871, 0.03439869294746946), (872, 0.002335923238263643), (873, 0.0719364015489196), (874, 0.04150038134141263), (875, 0.04103027047396452), (876, 0.009438231858285445), (877, 0.0), (878, 0.030267384106000328), (879, 0.008626809570730724), (880, 0.002150636332633041), (881, 0.0), (882, 0.0), (883, 0.03635946326320248), (884, 0.0022701346430103), (885, 0.0019571241042410366), (886, 0.03138644614706668), (887, 0.0023725279414987532), (888, 0.009164433328319632), (889, 0.002808122439263713), (890, 0.002275650684473218), (891, 0.0), (892, 0.0853101448302066), (893, 0.07268898884375449), (894, 0.008191220500298028), (895, 0.0020328509767851785), (896, 0.009033166818201564), (897, 0.0021985631685706394), (898, 0.0), (899, 0.017426103007144506), (900, 0.06485000576322526), (901, 0.07957411004959102), (902, 0.0), (903, 0.0020453079102601356), (904, 0.007165233297159389), (905, 0.007041267331231246), (906, 0.0), (907, 0.002006562956571651), (908, 0.006218345749509167), (909, 0.0), (910, 0.001997368685388276), (911, 0.0020671616464482193), (912, 0.0), (913, 0.0), (914, 0.0), (915, 0.005857180796400368), (916, 0.005640130845080005), (917, 0.0019530641344342467), (918, 0.006299193376693308), (919, 0.0), (920, 0.0), (921, 0.002030722953635102), (922, 0.002448028465154355), (923, 0.0021012846987887145), (924, 0.029161473293230652), (925, 0.00250889853362577), (926, 0.0), (927, 0.030698735176868133), (928, 0.029223022977270183), (929, 0.02415031781339598), (930, 0.06875333070329206), (931, 0.006082726514558535), (932, 0.0), (933, 0.002228393641770443), (934, 0.001988601117824545), (935, 0.03770937948411044), (936, 0.0019632676311286293), (937, 0.009660765476895096), (938, 0.0), (939, 0.007799333791365687), (940, 0.14257083334273743), (941, 0.002043630748081374), (942, 0.006722337038070185), (943, 0.0), (944, 0.0020328968498783727), (945, 0.0), (946, 0.034360282409978515), (947, 0.011154168388344527), (948, 0.007664185961936841), (949, 0.00259536613133217), (950, 0.0), (951, 0.0546825618088638), (952, 0.00235868293696814), (953, 0.0017568248921778831), (954, 0.0), (955, 0.0), (956, 0.0), (957, 0.0019923964951648666), (958, 0.06016545347149373), (959, 0.06291653974276094), (960, 0.0), (961, 0.0), (962, 0.002068978153536294), (963, 0.0020396090269356303), (964, 0.0), (965, 0.0), (966, 0.0020601644276903993), (967, 0.03696230392071568), (968, 0.035033809603508596), (969, 0.0341710747008878), (970, 0.0), (971, 0.0), (972, 0.0), (973, 0.0021497077580388143), (974, 0.02929768394103995), (975, 0.031341151148825644), (976, 0.03940230446151288), (977, 0.0), (978, 0.0), (979, 0.027674359151888456), (980, 0.002255121400381191), (981, 0.001964376399275121), (982, 0.03442764523986451), (983, 0.0), (984, 0.0020755016122623224), (985, 0.0024960107403880086), (986, 0.033288767090781705), (987, 0.002263169111979195), (988, 0.00821314445181549), (989, 0.00813308291148863), (990, 0.0), (991, 0.0023421833808235687), (992, 0.0), (993, 0.0261494825579058), (994, 0.0253969422043557), (995, 0.0), (996, 0.0), (997, 0.0), (998, 0.0024735500864355832), (999, 0.002471525658086759), (1000, 0.007437374271605139), (1001, 0.0020795840706401294), (1002, 0.0020789705026957594), (1003, 0.0747967865156225), (1004, 0.001955738678597984), (1005, 0.03920123714173172), (1006, 0.0022796004338978978), (1007, 0.002297070515608524), (1008, 0.0), (1009, 0.0019356819115053632), (1010, 0.029203911599295352), (1011, 0.0), (1012, 0.0), (1013, 0.0), (1014, 0.0), (1015, 0.008938448203255301), (1016, 0.0), (1017, 0.008037204960240204), (1018, 0.07678208328370541), (1019, 0.038770599421298166), (1020, 0.0020933568412134776), (1021, 0.027120627776105723), (1022, 0.0), (1023, 0.00245268291319417), (1024, 0.006339731940395273), (1025, 0.0), (1026, 0.06356237058097926), (1027, 0.002086469213242037), (1028, 0.02813803104223694), (1029, 0.0), (1030, 0.03240703381253906), (1031, 0.0), (1032, 0.0020608842039315334), (1033, 0.002091473256857512), (1034, 0.03703733097978219), (1035, 0.008033029326196902), (1036, 0.002057920487230114), (1037, 0.0017749521562489135), (1038, 0.026038278638353254), (1039, 0.0), (1040, 0.0017042114007037967), (1041, 0.002048159225555362), (1042, 0.04719065998587904), (1043, 0.029753779970710593), (1044, 0.0021137196078496764), (1045, 0.0), (1046, 0.0), (1047, 0.006341879717864916), (1048, 0.0022674243706196267), (1049, 0.00258731407589387), (1050, 0.007044479082131331), (1051, 0.0), (1052, 0.05996759855769511), (1053, 0.009725831226925906), (1054, 0.005747677777247759), (1055, 0.0), (1056, 0.0), (1057, 0.0), (1058, 0.007460704650803726), (1059, 0.03313967729159595), (1060, 0.0021052301842411614), (1061, 0.005479866041304066), (1062, 0.0), (1063, 0.00588119427909681), (1064, 0.010018050958147586), (1065, 0.0019943096811690076), (1066, 0.0), (1067, 0.02984960336386713), (1068, 0.06351551169086196), (1069, 0.0), (1070, 0.0), (1071, 0.02770178899990031), (1072, 0.002161138305695161), (1073, 0.0), (1074, 0.08372244346919865), (1075, 0.027345525711748385), (1076, 0.005867445439470886), (1077, 0.0022291281680210124), (1078, 0.0068861958332931475), (1079, 0.002006524554284403), (1080, 0.16294958089491907), (1081, 0.0), (1082, 0.0), (1083, 0.08985160331053256), (1084, 0.03789645317025403), (1085, 0.03190556116368407), (1086, 0.0), (1087, 0.002218303250901885), (1088, 0.0262368653258997), (1089, 0.0), (1090, 0.0), (1091, 0.0), (1092, 0.005073475115493975), (1093, 0.0), (1094, 0.0), (1095, 0.0), (1096, 0.04089563832552186), (1097, 0.017072179212006572), (1098, 0.001779267514677302), (1099, 0.0), (1100, 0.03803492343022116), (1101, 0.0954333190284544), (1102, 0.0021655605884468706), (1103, 0.06744939855534508), (1104, 0.006406777095081747), (1105, 0.0), (1106, 0.016445424890231413), (1107, 0.03681212304718691), (1108, 0.0), (1109, 0.0024194839954967814), (1110, 0.002144735514055842), (1111, 0.022396130663584816), (1112, 0.002173244444575863), (1113, 0.0), (1114, 0.01741188817374812), (1115, 0.009781936943263007), (1116, 0.006448455469434367), (1117, 0.002096119039892838), (1118, 0.0), (1119, 0.00882842481885079), (1120, 0.0), (1121, 0.002733664553317517), (1122, 0.0022214406808584615), (1123, 0.0020737225915214586), (1124, 0.002262150296160506), (1125, 0.005849224161644877), (1126, 0.0), (1127, 0.0), (1128, 0.005964371602690635), (1129, 0.0), (1130, 0.06133479321313646), (1131, 0.002189250745061114), (1132, 0.013643273058149486), (1133, 0.03122938396897492), (1134, 0.0), (1135, 0.0), (1136, 0.016572957786988446), (1137, 0.004997561989264171), (1138, 0.038503122977667545), (1139, 0.0), (1140, 0.03584641240415736), (1141, 0.00883674052425332), (1142, 0.0), (1143, 0.036054241330740075), (1144, 0.0017396114657171554), (1145, 0.003017246445314567), (1146, 0.0), (1147, 0.0), (1148, 0.009336132630521063), (1149, 0.0), (1150, 0.0), (1151, 0.0), (1152, 0.0), (1153, 0.06582998747945368), (1154, 0.0), (1155, 0.0), (1156, 0.07707593397440575), (1157, 0.0), (1158, 0.0), (1159, 0.0), (1160, 0.007848552397960971), (1161, 0.0019696452740495763), (1162, 0.006640762919790123), (1163, 0.04817935658450528), (1164, 0.0), (1165, 0.0), (1166, 0.0), (1167, 0.05260753851551101), (1168, 0.002620171661609455), (1169, 0.002553692020474955), (1170, 0.0021844204560492308), (1171, 0.0), (1172, 0.0), (1173, 0.06630163162746802), (1174, 0.002230627719173318), (1175, 0.0653712579316527), (1176, 0.0022272848009141605), (1177, 0.03153698757320202), (1178, 0.0), (1179, 0.0021816663196463047), (1180, 0.0), (1181, 0.0), (1182, 0.0022261997314521422), (1183, 0.007675184888635242), (1184, 0.03443638208296613), (1185, 0.006412869600592362), (1186, 0.0019159013272621315), (1187, 0.0025636050020906432), (1188, 0.0022901987376376556), (1189, 0.0), (1190, 0.0), (1191, 0.0021905742870986468), (1192, 0.002286105970458001), (1193, 0.0), (1194, 0.005318162092644244), (1195, 0.0), (1196, 0.0), (1197, 0.015375043256738339), (1198, 0.0), (1199, 0.0019248127688468398), (1200, 0.0), (1201, 0.0), (1202, 0.05768523701283368), (1203, 0.0020486847399192164), (1204, 0.0022138231270588194), (1205, 0.0), (1206, 0.0020397352900068046), (1207, 0.0), (1208, 0.002781813698972866), (1209, 0.001818289551705752), (1210, 0.025107735049031504), (1211, 0.0), (1212, 0.0), (1213, 0.005346992345547894), (1214, 0.0051040034509248705), (1215, 0.0018676855047205054), (1216, 0.021852455611423918), (1217, 0.001894304127243878), (1218, 0.0), (1219, 0.00195745368002786), (1220, 0.0019693706599585876), (1221, 0.03434244590712008), (1222, 0.014018259602387267), (1223, 0.0021904084421882275), (1224, 0.008631644204767632), (1225, 0.00230185234436107), (1226, 0.13635062764869207), (1227, 0.0), (1228, 0.0), (1229, 0.002277964313193923), (1230, 0.0058424552432468115), (1231, 0.0058328122450103876), (1232, 0.008332684276744313), (1233, 0.0), (1234, 0.008756202084682422), (1235, 0.0), (1236, 0.0055356334294197175), (1237, 0.0075061633533837786), (1238, 0.017289342285628957), (1239, 0.031012381802176702), (1240, 0.0), (1241, 0.0017937475607359827), (1242, 0.015297580629449047), (1243, 0.07565198385814084), (1244, 0.0), (1245, 0.0021150600485843117), (1246, 0.0), (1247, 0.0021074838577943237), (1248, 0.06808360789081513), (1249, 0.027133048863213386), (1250, 0.0), (1251, 0.0019308139295420848), (1252, 0.008192518572844091), (1253, 0.030859922798233873), (1254, 0.002236266451811325), (1255, 0.09563869087323362), (1256, 0.0), (1257, 0.002150131202861483), (1258, 0.0), (1259, 0.005563463055667995), (1260, 0.006789925091741905), (1261, 0.06715375557482355), (1262, 0.0), (1263, 0.0), (1264, 0.00996050723282653), (1265, 0.0), (1266, 0.0), (1267, 0.01682831559282184), (1268, 0.0), (1269, 0.0), (1270, 0.0), (1271, 0.0), (1272, 0.06167315169104448), (1273, 0.0020766193212690184), (1274, 0.0), (1275, 0.009541092690455676), (1276, 0.004540117564132575), (1277, 0.0016316873920430807), (1278, 0.0), (1279, 0.014656463177164791), (1280, 0.0), (1281, 0.11844510935932337), (1282, 0.043421153681258394), (1283, 0.0), (1284, 0.0021240407088004656), (1285, 0.016009606786796773), (1286, 0.002139092458232462), (1287, 0.0), (1288, 0.0), (1289, 0.01721374710311685), (1290, 0.012718261766899105), (1291, 0.0), (1292, 0.005985725941464862), (1293, 0.0), (1294, 0.002239944249844405), (1295, 0.13169891222180655), (1296, 0.03787523198738658), (1297, 0.02096977880430429), (1298, 0.002169880587295421), (1299, 0.0), (1300, 0.005146946320846588), (1301, 0.0316505308893571), (1302, 0.0), (1303, 0.006666866461738337), (1304, 0.002182693933971266), (1305, 0.0018038594017041902), (1306, 0.04315762058102715), (1307, 0.0), (1308, 0.002001870499974682), (1309, 0.0), (1310, 0.0), (1311, 0.0), (1312, 0.001841358538817244), (1313, 0.0021501269068016945), (1314, 0.09508973944401528), (1315, 0.0), (1316, 0.0), (1317, 0.006699676430423988), (1318, 0.0344919381395384), (1319, 0.0021407285302243962), (1320, 0.004778249232223841), (1321, 0.0), (1322, 0.0), (1323, 0.0), (1324, 0.03571185897454228), (1325, 0.008962504289275083), (1326, 0.0), (1327, 0.0), (1328, 0.0), (1329, 0.0543470942255568), (1330, 0.005975239867311793), (1331, 0.0), (1332, 0.0), (1333, 0.0), (1334, 0.008488466922723963), (1335, 0.008351232385671321), (1336, 0.0), (1337, 0.008438460319090063), (1338, 0.008132839756680946), (1339, 0.04205499504045141), (1340, 0.02843152359266349), (1341, 0.02944895434396541), (1342, 0.026134316823362147), (1343, 0.0072359241426760154), (1344, 0.03022917402696692), (1345, 0.0), (1346, 0.0), (1347, 0.03022944993784919), (1348, 0.005302010661797245), (1349, 0.0024585213009621163), (1350, 0.0021254281657712383), (1351, 0.019143718118962066), (1352, 0.0018534471725950568), (1353, 0.09030388033440219), (1354, 0.0), (1355, 0.002234447580079567), (1356, 0.0018467926751637486), (1357, 0.0020107872791652113), (1358, 0.0), (1359, 0.029257092794047406), (1360, 0.007525686749708549), (1361, 0.06823853658314999), (1362, 0.06977184920492549), (1363, 0.0), (1364, 0.002265663440201802), (1365, 0.001842547478331924), (1366, 0.0019682317289615716), (1367, 0.05409332200727302), (1368, 0.0), (1369, 0.006767847082808985), (1370, 0.0018813951433110454), (1371, 0.006761528591937427), (1372, 0.002046819541855718), (1373, 0.0), (1374, 0.0), (1375, 0.029899122107313016), (1376, 0.0), (1377, 0.00667026674451747), (1378, 0.00218011576977324), (1379, 0.031099826424079213), (1380, 0.0), (1381, 0.0), (1382, 0.0022521942767134637), (1383, 0.002463068710908025), (1384, 0.0), (1385, 0.0082792972377703), (1386, 0.0), (1387, 0.00746468496420599), (1388, 0.006113433042473512), (1389, 0.017608939113825595), (1390, 0.0), (1391, 0.0), (1392, 0.029765848684731075), (1393, 0.006391335359777361), (1394, 0.08917915131633371), (1395, 0.0), (1396, 0.0), (1397, 0.0018868898774653936), (1398, 0.002525884407892527), (1399, 0.0), (1400, 0.002300036920390469), (1401, 0.0), (1402, 0.058087932627948875), (1403, 0.0016764378827763427), (1404, 0.002062541498742674), (1405, 0.0), (1406, 0.005948988629021539), (1407, 0.05102981160158163), (1408, 0.002125083746701087), (1409, 0.002334319749056593), (1410, 0.0022052875400280494), (1411, 0.0021561515699604628), (1412, 0.00579363983382502), (1413, 0.002214435324206767), (1414, 0.0019465852563177034), (1415, 0.0017877054736864736), (1416, 0.0020851182180808775), (1417, 0.006454659062417046), (1418, 0.0), (1419, 0.023522935237425595), (1420, 0.04589487416250288), (1421, 0.002103492556544781), (1422, 0.0021244829998316884), (1423, 0.0019364781941015863), (1424, 0.0), (1425, 0.0), (1426, 0.0), (1427, 0.0017886445619738126), (1428, 0.029667321728761187), (1429, 0.03273196853247454), (1430, 0.029100921475623837), (1431, 0.0), (1432, 0.006340455582563418), (1433, 0.002029974190578465), (1434, 0.001992132333469047), (1435, 0.0), (1436, 0.04440473808253275), (1437, 0.0), (1438, 0.008189026222170555), (1439, 0.002284607957255116), (1440, 0.008396550339494897), (1441, 0.0), (1442, 0.004320357852252256), (1443, 0.0), (1444, 0.0), (1445, 0.0), (1446, 0.0020909782265085396), (1447, 0.0), (1448, 0.030934513114851337), (1449, 0.0), (1450, 0.0018803328306956362), (1451, 0.038801109895237273), (1452, 0.0), (1453, 0.0), (1454, 0.11410737861746875), (1455, 0.053198101345184434), (1456, 0.017546589558270893), (1457, 0.0), (1458, 0.0), (1459, 0.0), (1460, 0.0), (1461, 0.006155036507873698), (1462, 0.002001347213304046), (1463, 0.032278727061582795), (1464, 0.0017873432700366372), (1465, 0.0018917229546730357), (1466, 0.0), (1467, 0.0), (1468, 0.06121135768289863), (1469, 0.0647993052278766), (1470, 0.0), (1471, 0.006131890962131193), (1472, 0.002207336880629145), (1473, 0.0), (1474, 0.002433357289365669), (1475, 0.0022746631987577786), (1476, 0.002210627878136523), (1477, 0.0020125588170911437), (1478, 0.007918266912760048), (1479, 0.07104477736542843), (1480, 0.09027284052543222), (1481, 0.00800315967581254), (1482, 0.0), (1483, 0.008204761431206721), (1484, 0.10647399056129338), (1485, 0.028236214725877687), (1486, 0.0), (1487, 0.0), (1488, 0.002187454941047456), (1489, 0.002451800908687047), (1490, 0.0), (1491, 0.0), (1492, 0.056964518734896774), (1493, 0.07460048597786889), (1494, 0.028049281818655736), (1495, 0.0), (1496, 0.0), (1497, 0.002490214074392309), (1498, 0.002425804034720659), (1499, 0.002442551470771402), (1500, 0.002155897101027089), (1501, 0.0), (1502, 0.0), (1503, 0.0019783205434627184), (1504, 0.06802251014992244), (1505, 0.09740303840044207), (1506, 0.00983105717419831), (1507, 0.006970454872407567), (1508, 0.0), (1509, 0.03713006835788131), (1510, 0.002202777073972044), (1511, 0.018903066225637904), (1512, 0.0), (1513, 0.008613733592999561), (1514, 0.0020193419100246967), (1515, 0.021088754593575978), (1516, 0.0022471270287820273), (1517, 0.0), (1518, 0.002349983544542007), (1519, 0.002017732454595857), (1520, 0.0), (1521, 0.0), (1522, 0.0), (1523, 0.0), (1524, 0.0), (1525, 0.0), (1526, 0.0), (1527, 0.028597902898664297), (1528, 0.0019818432881236955), (1529, 0.0), (1530, 0.0), (1531, 0.0), (1532, 0.059415274978607), (1533, 0.065706958587428), (1534, 0.02474488619710062), (1535, 0.0), (1536, 0.06432188230515784), (1537, 0.0023360833510753473), (1538, 0.0019805515834145906), (1539, 0.001945635618293227), (1540, 0.007110571032365782), (1541, 0.0), (1542, 0.024325481503653622), (1543, 0.018048533151981357), (1544, 0.07213400700883033), (1545, 0.03001149417988859), (1546, 0.0), (1547, 0.0025413202910621944), (1548, 0.0), (1549, 0.028878400465771507), (1550, 0.03301217440060289), (1551, 0.03075961991239796), (1552, 0.0), (1553, 0.11645618158131676), (1554, 0.0), (1555, 0.022433898043491208), (1556, 0.0), (1557, 0.0), (1558, 0.0020283121336641496), (1559, 0.054172041481592104), (1560, 0.0), (1561, 0.030082022549081468), (1562, 0.15031127357002314), (1563, 0.0), (1564, 0.0), (1565, 0.0018650649813073622), (1566, 0.0), (1567, 0.02128289340575339), (1568, 0.031509327877897154), (1569, 0.030568796437177217), (1570, 0.0022947165581582306), (1571, 0.0018039715465114916), (1572, 0.01527523739093489), (1573, 0.0), (1574, 0.002201896227487823), (1575, 0.03350981879340098), (1576, 0.0), (1577, 0.0), (1578, 0.017612182956851897), (1579, 0.0), (1580, 0.002407719734316964), (1581, 0.0), (1582, 0.10558047761394922), (1583, 0.0), (1584, 0.0), (1585, 0.03825480139941729), (1586, 0.0), (1587, 0.0), (1588, 0.0), (1589, 0.030657066722863287), (1590, 0.0), (1591, 0.007049567083491245), (1592, 0.030353133433167485), (1593, 0.0026442748741106535), (1594, 0.03748348505759662), (1595, 0.06661628023511748), (1596, 0.026604171693090577), (1597, 0.029565429920635974), (1598, 0.002153919137774337), (1599, 0.0), (1600, 0.0), (1601, 0.0), (1602, 0.0), (1603, 0.0), (1604, 0.0), (1605, 0.0019712467048247865), (1606, 0.0), (1607, 0.0), (1608, 0.0019259872666458448), (1609, 0.0), (1610, 0.0), (1611, 0.0), (1612, 0.023997029473989392), (1613, 0.03255343590658911), (1614, 0.08558396772677182), (1615, 0.0), (1616, 0.03344918244024177), (1617, 0.0021301718558703504), (1618, 0.0), (1619, 0.002325294387141427), (1620, 0.007731891901555949), (1621, 0.008151661826949172), (1622, 0.0), (1623, 0.038251232748733974), (1624, 0.0017755719989220617), (1625, 0.001962053547039047), (1626, 0.05053178906558775), (1627, 0.0018651642202976119), (1628, 0.001996491056498968), (1629, 0.0085355456080001), (1630, 0.0057755802326613795), (1631, 0.0), (1632, 0.0), (1633, 0.06992124806769529), (1634, 0.047835881163473024), (1635, 0.0), (1636, 0.01722932431200287), (1637, 0.0023405137378012123), (1638, 0.0), (1639, 0.0), (1640, 0.0), (1641, 0.002023384741131094), (1642, 0.002019442572404558), (1643, 0.050670733473750555), (1644, 0.0), (1645, 0.03234236521522468), (1646, 0.0), (1647, 0.1692855094838092), (1648, 0.0016294688401720177), (1649, 0.0), (1650, 0.002023299261169259), (1651, 0.0), (1652, 0.0), (1653, 0.00212778895083079), (1654, 0.029873800350294313), (1655, 0.002654189007668869), (1656, 0.0025016068492306805), (1657, 0.0), (1658, 0.002415733862676426), (1659, 0.0), (1660, 0.019751625121917117), (1661, 0.0), (1662, 0.0), (1663, 0.002055573543447509), (1664, 0.0), (1665, 0.007742241367583162), (1666, 0.0021517287896451022), (1667, 0.0076206774349317895), (1668, 0.0), (1669, 0.0), (1670, 0.0022965440881744163), (1671, 0.013898879779321704), (1672, 0.00199746214179345), (1673, 0.0), (1674, 0.006639976931936443), (1675, 0.001987767168978382), (1676, 0.0), (1677, 0.0017166393463696242), (1678, 0.008221654922247648), (1679, 0.0), (1680, 0.039129570385589396), (1681, 0.006682678502025351), (1682, 0.002047593463762265), (1683, 0.0023349049557273844), (1684, 0.0), (1685, 0.0023085567520742334), (1686, 0.0), (1687, 0.008767243241616736), (1688, 0.002224977289167973), (1689, 0.0490997774364937), (1690, 0.001965878235824946), (1691, 0.001861783328273598), (1692, 0.0), (1693, 0.0020486830114069964), (1694, 0.036060967828089346), (1695, 0.0), (1696, 0.0), (1697, 0.0), (1698, 0.0), (1699, 0.027077684104558453), (1700, 0.0), (1701, 0.0), (1702, 0.0), (1703, 0.002257591927250588), (1704, 0.0), (1705, 0.006518095130081303), (1706, 0.0022018418091427124), (1707, 0.04010808307921237), (1708, 0.0023435430113066097), (1709, 0.0), (1710, 0.01855678265234459), (1711, 0.0027362383948560183), (1712, 0.002332304260623827), (1713, 0.0), (1714, 0.0), (1715, 0.0), (1716, 0.00927350251803353), (1717, 0.0022471873591045047), (1718, 0.0), (1719, 0.0019692156160324463), (1720, 0.0311716318740617), (1721, 0.011391655761992116), (1722, 0.0022034031474347728), (1723, 0.0), (1724, 0.0), (1725, 0.024229279569914768), (1726, 0.0), (1727, 0.008597391627937705), (1728, 0.0), (1729, 0.0), (1730, 0.001989275188447876), (1731, 0.0), (1732, 0.0), (1733, 0.0023924402179714985), (1734, 0.0), (1735, 0.006277244496324398), (1736, 0.008656373020467184), (1737, 0.0), (1738, 0.005778482266166704), (1739, 0.007434973627440833), (1740, 0.008435114547010156), (1741, 0.0), (1742, 0.002063118098650431), (1743, 0.0018572694979374848), (1744, 0.0020815550733429304), (1745, 0.0), (1746, 0.0), (1747, 0.026053966874361546), (1748, 0.0025546368237669816), (1749, 0.0), (1750, 0.027969589314413866), (1751, 0.0), (1752, 0.02587561214719286), (1753, 0.034257597177256044), (1754, 0.059444007457993706), (1755, 0.0), (1756, 0.05449274595217303), (1757, 0.0), (1758, 0.0), (1759, 0.002061653905717006), (1760, 0.002017371131717239), (1761, 0.0), (1762, 0.0019465396032046264), (1763, 0.001868520112914706), (1764, 0.0018913564236976935), (1765, 0.0022567311434625887), (1766, 0.0), (1767, 0.0), (1768, 0.002243370666497807), (1769, 0.0), (1770, 0.025160477237422124), (1771, 0.0), (1772, 0.0), (1773, 0.016383709557156134), (1774, 0.0063136562631844455), (1775, 0.03265653991656422), (1776, 0.007282266712800502), (1777, 0.01717959151430315), (1778, 0.0), (1779, 0.05344706186152989), (1780, 0.0014233790376078411), (1781, 0.0051791500220681325), (1782, 0.030619949749521497), (1783, 0.0), (1784, 0.06100028482532566), (1785, 0.03395200693326056), (1786, 0.0), (1787, 0.0), (1788, 0.0), (1789, 0.005620752610490769), (1790, 0.0), (1791, 0.0), (1792, 0.002564193097906418), (1793, 0.0020450839430807763), (1794, 0.0), (1795, 0.04341899967742316), (1796, 0.007544601437097731), (1797, 0.0053363821233393454), (1798, 0.002342422372973863), (1799, 0.0), (1800, 0.0), (1801, 0.016451874796139444), (1802, 0.10724988146950976), (1803, 0.0), (1804, 0.029364904150691602), (1805, 0.021343643128763447), (1806, 0.006645290337364421), (1807, 0.0021402446569870476), (1808, 0.0019568593279820456), (1809, 0.0), (1810, 0.0), (1811, 0.002164422084891431), (1812, 0.0), (1813, 0.0021183575354562544), (1814, 0.0020090537264467537), (1815, 0.00704615761931255), (1816, 0.04006603151166526), (1817, 0.03055366641089001), (1818, 0.0), (1819, 0.0020328085469074396), (1820, 0.0), (1821, 0.008677111188451676), (1822, 0.002303332780839419), (1823, 0.0), (1824, 0.06518275010368885), (1825, 0.0), (1826, 0.001973071843623581), (1827, 0.058575156527995706), (1828, 0.0018827388731733922), (1829, 0.08422748225692915), (1830, 0.0019333635175652717), (1831, 0.033102021301717036), (1832, 0.04539436753065283), (1833, 0.0018683935561546931), (1834, 0.0), (1835, 0.0), (1836, 0.0), (1837, 0.0), (1838, 0.02697100751626874), (1839, 0.0), (1840, 0.01583874980437409), (1841, 0.0), (1842, 0.0), (1843, 0.002474812567719291), (1844, 0.01835906060272614), (1845, 0.0203787634552803), (1846, 0.0), (1847, 0.006284551584151185), (1848, 0.025941758243571953), (1849, 0.0), (1850, 0.0), (1851, 0.0022716143084879343), (1852, 0.04544331798660274), (1853, 0.008752516586577582), (1854, 0.007894865929889345), (1855, 0.0), (1856, 0.0), (1857, 0.0), (1858, 0.044271988418645616), (1859, 0.0), (1860, 0.0022439684847875567), (1861, 0.006267750458392127), (1862, 0.0024437161362269796), (1863, 0.027029155246522857), (1864, 0.002098659584406846), (1865, 0.023549425334161544), (1866, 0.0023825419864682436), (1867, 0.0), (1868, 0.0), (1869, 0.0019755543137322112), (1870, 0.0), (1871, 0.0017366633666429602), (1872, 0.002206887875956448), (1873, 0.03132765930000561), (1874, 0.008936296533536357), (1875, 0.0020036993735872105), (1876, 0.0021945036349806644), (1877, 0.00208212621517063), (1878, 0.002071760521812618), (1879, 0.0), (1880, 0.0), (1881, 0.0), (1882, 0.01852200381514563), (1883, 0.0), (1884, 0.0020394182994917134), (1885, 0.0025566111913646722), (1886, 0.0017342761448030464), (1887, 0.03085496544860032), (1888, 0.030743705917997508), (1889, 0.0), (1890, 0.0024211353965184913), (1891, 0.0021630366588579228), (1892, 0.001981327637048569), (1893, 0.002301382745592161), (1894, 0.0), (1895, 0.022042580823895177), (1896, 0.002314752716636573), (1897, 0.002365786659351508), (1898, 0.0), (1899, 0.0), (1900, 0.0), (1901, 0.0), (1902, 0.0022934756873485536), (1903, 0.03356465717909198), (1904, 0.0), (1905, 0.0023788495345296564), (1906, 0.0), (1907, 0.002348671224688961), (1908, 0.0), (1909, 0.00247661378155906), (1910, 0.0), (1911, 0.0), (1912, 0.0), (1913, 0.030884924290947816), (1914, 0.0), (1915, 0.029763444525998356), (1916, 0.002299347938991483), (1917, 0.0), (1918, 0.0023047689311567715), (1919, 0.09081471755039462), (1920, 0.03519332310243699), (1921, 0.001950026965382585), (1922, 0.008347246282568846), (1923, 0.00918339201495986), (1924, 0.0024927740319769984), (1925, 0.0), (1926, 0.0), (1927, 0.016473760259162806), (1928, 0.0), (1929, 0.002080120104108527), (1930, 0.0), (1931, 0.0022293553840819816), (1932, 0.0), (1933, 0.03365702759254826), (1934, 0.0019482800856599398), (1935, 0.0), (1936, 0.03421662009542802), (1937, 0.011957868937670264), (1938, 0.0), (1939, 0.0), (1940, 0.0), (1941, 0.0), (1942, 0.008412732327178077), (1943, 0.03313001641207138), (1944, 0.08066459629505676), (1945, 0.006133134846895202), (1946, 0.0022421695731365244), (1947, 0.0025329750102810362), (1948, 0.0), (1949, 0.006310443872598335), (1950, 0.0017822683072234527), (1951, 0.0023150174589741607), (1952, 0.0), (1953, 0.0), (1954, 0.0019328468086201901), (1955, 0.0), (1956, 0.05640878030993175), (1957, 0.0), (1958, 0.006213057292242308), (1959, 0.0023602776910070376), (1960, 0.02093048469924557), (1961, 0.0), (1962, 0.0), (1963, 0.0), (1964, 0.12220110779486906), (1965, 0.0), (1966, 0.0), (1967, 0.008032996166762053), (1968, 0.002562433914011356), (1969, 0.002105711448256823), (1970, 0.10544894418678681), (1971, 0.02476777567126807), (1972, 0.0), (1973, 0.005726063551038545), (1974, 0.08875762661572105), (1975, 0.0), (1976, 0.0), (1977, 0.0019427196642392433), (1978, 0.02789417148214479), (1979, 0.0), (1980, 0.0019570712890819523), (1981, 0.02953199567061032), (1982, 0.0), (1983, 0.07380182522135471), (1984, 0.0), (1985, 0.04353607833424289), (1986, 0.006019815041596355), (1987, 0.005587384984598242), (1988, 0.0), (1989, 0.006641469455403782), (1990, 0.0), (1991, 0.0), (1992, 0.005686616284269022), (1993, 0.029881319688634247), (1994, 0.0), (1995, 0.002346232387015429), (1996, 0.021058534912996148), (1997, 0.015597114025005904), (1998, 0.0), (1999, 0.0), (2000, 0.026678746342934195), (2001, 0.031423959425797635), (2002, 0.0), (2003, 0.03023559819596083), (2004, 0.017767447562458846), (2005, 0.0), (2006, 0.0), (2007, 0.0), (2008, 0.002121952434364767), (2009, 0.0), (2010, 0.0017231323817339824), (2011, 0.0019840689975144698), (2012, 0.0), (2013, 0.0), (2014, 0.031127586264517), (2015, 0.0), (2016, 0.008584153825231262), (2017, 0.047029454893297254), (2018, 0.0), (2019, 0.0), (2020, 0.0), (2021, 0.0), (2022, 0.03654659599268859), (2023, 0.013518809186728032), (2024, 0.007918256986364848), (2025, 0.0), (2026, 0.006082090120565534), (2027, 0.00210474552139681), (2028, 0.0), (2029, 0.06646199223284123), (2030, 0.0), (2031, 0.043552932217288544), (2032, 0.0), (2033, 0.0), (2034, 0.0017976654606310825), (2035, 0.0018484638583651128), (2036, 0.0), (2037, 0.04620635554126003), (2038, 0.0), (2039, 0.0018353997017421257), (2040, 0.03498588859977604), (2041, 0.0), (2042, 0.0), (2043, 0.0), (2044, 0.0), (2045, 0.002217489131795191), (2046, 0.0), (2047, 0.0019281291250287786), (2048, 0.0022458026688045364), (2049, 0.002405501007659067), (2050, 0.0), (2051, 0.0024790676815437196), (2052, 0.0), (2053, 0.00853697521037273), (2054, 0.0), (2055, 0.007494317148668672), (2056, 0.055356440398195116), (2057, 0.03625426128061014), (2058, 0.0), (2059, 0.0), (2060, 0.002159812767068846), (2061, 0.002210007477502567), (2062, 0.0), (2063, 0.0), (2064, 0.0), (2065, 0.00742894735681589), (2066, 0.00684749673980362), (2067, 0.0021950875225662907), (2068, 0.002073380981343323), (2069, 0.03289333903454678), (2070, 0.007072769444290364), (2071, 0.0), (2072, 0.0022609772534164215), (2073, 0.002223789569825888), (2074, 0.0), (2075, 0.0028590338820124643), (2076, 0.006973981258989301), (2077, 0.03596021676270367), (2078, 0.0), (2079, 0.0), (2080, 0.007989241037341986), (2081, 0.0), (2082, 0.006603438919731264), (2083, 0.0022834628521780647), (2084, 0.023652557228554517), (2085, 0.032607246781071166), (2086, 0.0), (2087, 0.002134119172253742), (2088, 0.0022860631591650354), (2089, 0.002563910096452959), (2090, 0.0), (2091, 0.0022123387878947966), (2092, 0.0), (2093, 0.011259037976059892), (2094, 0.0), (2095, 0.0), (2096, 0.035508606921917533), (2097, 0.008998206344496372), (2098, 0.029535255283005452), (2099, 0.0020394400752121915), (2100, 0.06329646642715059), (2101, 0.0), (2102, 0.0021331148224687075), (2103, 0.0021246418177946653), (2104, 0.10605341917403852), (2105, 0.0023234744027301486), (2106, 0.0), (2107, 0.0), (2108, 0.002421819398371104), (2109, 0.002199485265108083), (2110, 0.02155690947944386), (2111, 0.0021373285762525326), (2112, 0.009126555377434628), (2113, 0.0), (2114, 0.018451062718532724), (2115, 0.0), (2116, 0.002354961341377542), (2117, 0.002092973696809834), (2118, 0.03504098270302353), (2119, 0.005646627788269873), (2120, 0.0), (2121, 0.022942100631243523), (2122, 0.002202752607962536), (2123, 0.02027688470333994), (2124, 0.0), (2125, 0.0), (2126, 0.00852760793156979), (2127, 0.0018317494759076186), (2128, 0.0), (2129, 0.031021527876141493), (2130, 0.0), (2131, 0.0666294240263708), (2132, 0.0018228869276232218), (2133, 0.0020638259641875337), (2134, 0.002440621807915806), (2135, 0.0), (2136, 0.0), (2137, 0.0030925585979111065), (2138, 0.0), (2139, 0.0), (2140, 0.0), (2141, 0.0020855598709071505), (2142, 0.056191059719220796), (2143, 0.0020861666168511166), (2144, 0.0022009313065043438), (2145, 0.0), (2146, 0.0018646979503907143), (2147, 0.0), (2148, 0.0022615977213519636), (2149, 0.0020387160603063804), (2150, 0.0), (2151, 0.0023263875967275338), (2152, 0.02661383694654059), (2153, 0.0), (2154, 0.010591594985563786), (2155, 0.0022201115265293274), (2156, 0.015500945016266551), (2157, 0.0018347347187621728), (2158, 0.043587523885195094), (2159, 0.002406053181332765), (2160, 0.0), (2161, 0.0), (2162, 0.042488629710845986), (2163, 0.0019469381745640263), (2164, 0.0), (2165, 0.0), (2166, 0.00205494050347016), (2167, 0.0), (2168, 0.0), (2169, 0.0021960732687863684), (2170, 0.0430948408509781), (2171, 0.0), (2172, 0.0), (2173, 0.002148614919222818), (2174, 0.008196261571349547), (2175, 0.0), (2176, 0.002408716896881947), (2177, 0.0), (2178, 0.005920625128640622), (2179, 0.0), (2180, 0.035775092195534076), (2181, 0.03236115576863712), (2182, 0.0), (2183, 0.0), (2184, 0.005717855309665346), (2185, 0.0), (2186, 0.0), (2187, 0.0025042250656858193), (2188, 0.0026629169442851687), (2189, 0.003062906950854257), (2190, 0.0023519595911604867), (2191, 0.0019568373049253882), (2192, 0.0021973605257282155), (2193, 0.002201817506299183), (2194, 0.0), (2195, 0.002176215613782094), (2196, 0.04184046346807277), (2197, 0.048994326206806486), (2198, 0.0), (2199, 0.002840311056129426), (2200, 0.0), (2201, 0.00202976815358568), (2202, 0.0), (2203, 0.0), (2204, 0.0304163611412043), (2205, 0.0), (2206, 0.005818137802206589), (2207, 0.0), (2208, 0.0), (2209, 0.0024291717132025707), (2210, 0.014595983235063654), (2211, 0.0018283033895053129), (2212, 0.031599541983058005), (2213, 0.05072154793641495), (2214, 0.008990585451049162), (2215, 0.0), (2216, 0.008103963728582603), (2217, 0.024891218712764247), (2218, 0.038386409906440405), (2219, 0.012847005411387313), (2220, 0.0), (2221, 0.0018139570430728683), (2222, 0.030239397393774875), (2223, 0.002480915536893468), (2224, 0.00784641796138395), (2225, 0.0), (2226, 0.01848490365065934), (2227, 0.0546973703768243), (2228, 0.06893595740536322), (2229, 0.009036522239044392), (2230, 0.0022408500561457195), (2231, 0.0), (2232, 0.0), (2233, 0.0), (2234, 0.021519298001841644), (2235, 0.006254709481102126), (2236, 0.001979982835825517), (2237, 0.0019146432033685966), (2238, 0.0), (2239, 0.0), (2240, 0.020301416016196516), (2241, 0.0), (2242, 0.0020739549179735915), (2243, 0.0), (2244, 0.0), (2245, 0.0), (2246, 0.04123033112824656), (2247, 0.0), (2248, 0.0019616364006787485), (2249, 0.018204967565695923), (2250, 0.10516331075249888), (2251, 0.003035925205943156), (2252, 0.006558330859795504), (2253, 0.0), (2254, 0.008873318661151302), (2255, 0.0028151067076073334), (2256, 0.02812016481334654), (2257, 0.002809246727495299), (2258, 0.03393700882141998), (2259, 0.0), (2260, 0.002334145972224096), (2261, 0.0), (2262, 0.0), (2263, 0.0), (2264, 0.03802169083497799), (2265, 0.001980835831039554), (2266, 0.0026867006824873125), (2267, 0.0), (2268, 0.002107300532069685), (2269, 0.136230871816428), (2270, 0.0018852601113827784), (2271, 0.0), (2272, 0.0), (2273, 0.0), (2274, 0.0), (2275, 0.008243006342707875), (2276, 0.060575721844493766), (2277, 0.0022118347264072384), (2278, 0.0), (2279, 0.008056771163131915), (2280, 0.03703222219880967), (2281, 0.0), (2282, 0.0), (2283, 0.0), (2284, 0.008313512343508144), (2285, 0.0019633818586422725), (2286, 0.0027884657257009914), (2287, 0.0018203942563094141), (2288, 0.0023079527610002037), (2289, 0.002166859248166821), (2290, 0.0), (2291, 0.0), (2292, 0.0022223197424270135), (2293, 0.002378392198026848), (2294, 0.0), (2295, 0.008400364671147588), (2296, 0.0), (2297, 0.06452135551666602), (2298, 0.0), (2299, 0.0034892039272705184), (2300, 0.025149561784256307), (2301, 0.0019959474226297702), (2302, 0.0024783331053021876), (2303, 0.0020578897559692406), (2304, 0.006800997529464742), (2305, 0.0), (2306, 0.023917371793191124), (2307, 0.0), (2308, 0.0), (2309, 0.0020843355881447383), (2310, 0.0029173495370654044), (2311, 0.015730250170775187), (2312, 0.0), (2313, 0.0022152898890910357), (2314, 0.0), (2315, 0.0), (2316, 0.006519833970657948), (2317, 0.0020189088104665283), (2318, 0.029683266900039577), (2319, 0.0022667247435985516), (2320, 0.0025365883988029644), (2321, 0.047907029258161815), (2322, 0.06726855505011352), (2323, 0.09083445600056439), (2324, 0.0056304897928088895), (2325, 0.0), (2326, 0.0136692877164221), (2327, 0.0), (2328, 0.0), (2329, 0.0), (2330, 0.0), (2331, 0.0), (2332, 0.0), (2333, 0.0), (2334, 0.00851094874181185), (2335, 0.0), (2336, 0.006052763726994154), (2337, 0.0), (2338, 0.001971370054716618), (2339, 0.0), (2340, 0.09631001703777142), (2341, 0.0), (2342, 0.0), (2343, 0.0), (2344, 0.002186504304734312), (2345, 0.0), (2346, 0.00940166207557244), (2347, 0.06375995543448777), (2348, 0.002055236313727146), (2349, 0.0030211310476973828), (2350, 0.002803819320693448), (2351, 0.0), (2352, 0.026746995070421168), (2353, 0.06777259977194224), (2354, 0.002184144316317785), (2355, 0.03173273628741498), (2356, 0.07387009350354057), (2357, 0.0), (2358, 0.0), (2359, 0.0018211916916482085), (2360, 0.03051546642639412), (2361, 0.002314415075064832), (2362, 0.0020001352257198067), (2363, 0.007522188267469817), (2364, 0.0), (2365, 0.0), (2366, 0.03182026122249667), (2367, 0.002088640020768247), (2368, 0.03730158365443575), (2369, 0.0), (2370, 0.0022732372237287677), (2371, 0.0), (2372, 0.0), (2373, 0.0), (2374, 0.01915862774738201), (2375, 0.0023971057730642117), (2376, 0.0), (2377, 0.0), (2378, 0.002567847987328732), (2379, 0.0031489915276918965), (2380, 0.0), (2381, 0.0), (2382, 0.0018691239604228674), (2383, 0.0067680177518572035), (2384, 0.0), (2385, 0.0022981615730507453), (2386, 0.0022308069455726632), (2387, 0.002177223999362923), (2388, 0.005357652559207909), (2389, 0.014916130247906915), (2390, 0.0023919871666081673), (2391, 0.0023304597262623333), (2392, 0.002848954066190116), (2393, 0.002328546592737599), (2394, 0.002299147599179515), (2395, 0.0), (2396, 0.002201800054822904), (2397, 0.002219129798014228), (2398, 0.0), (2399, 0.002014127666457213), (2400, 0.0024679225328304365), (2401, 0.0021205822425653196), (2402, 0.0019760395020833065), (2403, 0.026663458442807108), (2404, 0.002967786150501378), (2405, 0.0022693831462942677), (2406, 0.009712825821855977), (2407, 0.0030161550196690706), (2408, 0.03099063942306313), (2409, 0.029807656206240308), (2410, 0.036727085027893645), (2411, 0.002470724946280636), (2412, 0.007179916319145773), (2413, 0.0), (2414, 0.0), (2415, 0.0026476663316161277), (2416, 0.0021504957344185317), (2417, 0.02213392562026252), (2418, 0.0023128726260691805), (2419, 0.002292381419707483), (2420, 0.0), (2421, 0.017037889644088863), (2422, 0.0021180411205708417), (2423, 0.0027498208842966264), (2424, 0.005517209228680785), (2425, 0.0028279109917283426), (2426, 0.0), (2427, 0.002534509351914693), (2428, 0.002407989507322384), (2429, 0.08943530662829052), (2430, 0.0022137762702329786), (2431, 0.0), (2432, 0.0), (2433, 0.0), (2434, 0.0026085035358251215), (2435, 0.0), (2436, 0.0024387141279123255), (2437, 0.002476640582871557), (2438, 0.023415548593630153), (2439, 0.0), (2440, 0.03621572345031562), (2441, 0.027110181725384437), (2442, 0.022112753688673208), (2443, 0.04466329281529158), (2444, 0.006208895017796242), (2445, 0.03177989746963429), (2446, 0.002026603049044642), (2447, 0.036952816170768094), (2448, 0.002849589349451213), (2449, 0.0), (2450, 0.0), (2451, 0.0), (2452, 0.0), (2453, 0.0020054207892142503), (2454, 0.0026347912842132745), (2455, 0.0), (2456, 0.0), (2457, 0.0019627714206032856), (2458, 0.0), (2459, 0.0026558125078420584), (2460, 0.0), (2461, 0.002115604347586668), (2462, 0.0), (2463, 0.04131998627263377), (2464, 0.009068773807514642), (2465, 0.06032639841835322), (2466, 0.002240850085927714), (2467, 0.0021051673394932853), (2468, 0.00711201136693203), (2469, 0.0017083487458251394), (2470, 0.0), (2471, 0.0), (2472, 0.0), (2473, 0.002078038914597837), (2474, 0.025685390897708608), (2475, 0.0023465145980183922), (2476, 0.0), (2477, 0.0361711205301293), (2478, 0.002504835844629422), (2479, 0.0), (2480, 0.06205538782006399), (2481, 0.0018170692723047438), (2482, 0.0020112346323884426), (2483, 0.0), (2484, 0.0029174415498599113), (2485, 0.0), (2486, 0.006949662377724469), (2487, 0.018506463959430758), (2488, 0.002666605973441687), (2489, 0.008426815513863605), (2490, 0.0031449025612614776), (2491, 0.0), (2492, 0.002195625172505478), (2493, 0.0), (2494, 0.00235246754395746), (2495, 0.0021817760228164665), (2496, 0.03559532182857264), (2497, 0.028904765369932015), (2498, 0.0), (2499, 0.0), (2500, 0.0), (2501, 0.0), (2502, 0.0019251307744206896), (2503, 0.0), (2504, 0.0), (2505, 0.002423227155178472), (2506, 0.0), (2507, 0.0023702703628599333), (2508, 0.0), (2509, 0.027511979225965738), (2510, 0.0), (2511, 0.0), (2512, 0.03307514549008681), (2513, 0.0), (2514, 0.0), (2515, 0.0), (2516, 0.03316079617771968), (2517, 0.0), (2518, 0.0), (2519, 0.006278639088300119), (2520, 0.0018915093772757237), (2521, 0.0), (2522, 0.008812764020116617), (2523, 0.0), (2524, 0.004904818968549079), (2525, 0.002054637380343527), (2526, 0.0017852694798563787), (2527, 0.001876659559464706), (2528, 0.0020262924762519514), (2529, 0.0031673685512489417), (2530, 0.002773264659466775), (2531, 0.002274003915923298), (2532, 0.0), (2533, 0.0021945670172685613), (2534, 0.000973354337860608), (2535, 0.0024183807527772758), (2536, 0.0), (2537, 0.0029932355570196994), (2538, 0.0013055389087046315), (2539, 0.0), (2540, 0.0020795851170347956), (2541, 0.0), (2542, 0.01575630117811214), (2543, 0.0), (2544, 0.0), (2545, 0.0022732733803718123), (2546, 0.008608054959421293), (2547, 0.0), (2548, 0.060822864268083504), (2549, 0.0), (2550, 0.028920371388913), (2551, 0.0), (2552, 0.0183153859622579), (2553, 0.032638632023918285), (2554, 0.002201187328142352), (2555, 0.00496250952730638), (2556, 0.0020232508160301092), (2557, 0.0027061390006512445), (2558, 0.033483061081186614), (2559, 0.00286834555588921), (2560, 0.002504279532437706), (2561, 0.0022763982870976688), (2562, 0.0), (2563, 0.03036131276290964), (2564, 0.0), (2565, 0.002314648013055902), (2566, 0.0), (2567, 0.0), (2568, 0.0026686210142576705), (2569, 0.0021560460234422625), (2570, 0.002568109581507876), (2571, 0.03234526486675615), (2572, 0.0020669195036769135), (2573, 0.0), (2574, 0.03050772845123218), (2575, 0.0), (2576, 0.0), (2577, 0.0), (2578, 0.07334991344664585), (2579, 0.002445767695675622), (2580, 0.016882032199386502), (2581, 0.007606350028179426), (2582, 0.0), (2583, 0.0), (2584, 0.0), (2585, 0.11564979892037484), (2586, 0.0), (2587, 0.001936339727950116), (2588, 0.0), (2589, 0.0), (2590, 0.0), (2591, 0.05811343531863658), (2592, 0.002415580056214494), (2593, 0.0020131274900872667), (2594, 0.0), (2595, 0.002366628192282577), (2596, 0.0), (2597, 0.0), (2598, 0.061284538076428766), (2599, 0.0), (2600, 0.007679452854613756), (2601, 0.0022755702618465178), (2602, 0.006861114006911867), (2603, 0.001832588580756396), (2604, 0.0), (2605, 0.0), (2606, 0.002197038375758874), (2607, 0.007411788340150218), (2608, 0.015247047872189265), (2609, 0.0023273354157670083), (2610, 0.002305946960178651), (2611, 0.001871933465347223), (2612, 0.0021073203019993775), (2613, 0.0025705418286266677), (2614, 0.04436319955185501), (2615, 0.0), (2616, 0.0), (2617, 0.09411071991129297), (2618, 0.02980688373136755), (2619, 0.022765281954430592), (2620, 0.0), (2621, 0.007194067211928783), (2622, 0.05310502863608431), (2623, 0.002470150563837681), (2624, 0.11013953054928374), (2625, 0.009500209762630446), (2626, 0.05697082571950769), (2627, 0.050975278420821946), (2628, 0.0028563811847234074), (2629, 0.041124697331249606), (2630, 0.0), (2631, 0.0), (2632, 0.002130680571179789), (2633, 0.0022907109664964684), (2634, 0.0020387950287630704), (2635, 0.0071322032649806435), (2636, 0.0016381422627798309), (2637, 0.0), (2638, 0.009395146761119699), (2639, 0.0), (2640, 0.002283017288391104), (2641, 0.0), (2642, 0.002102233052006621), (2643, 0.002821948704042529), (2644, 0.0), (2645, 0.04733292177025811), (2646, 0.0), (2647, 0.0022099600123654476), (2648, 0.0), (2649, 0.020278178195796973), (2650, 0.03478340365921723), (2651, 0.002064400348032424), (2652, 0.0022058935241506044), (2653, 0.002105570650076188), (2654, 0.015239815597441145), (2655, 0.0028915968949192327), (2656, 0.0), (2657, 0.0), (2658, 0.0), (2659, 0.024087352961364248), (2660, 0.030090832966115894), (2661, 0.05181197525602093), (2662, 0.0), (2663, 0.0), (2664, 0.0023262005679491036), (2665, 0.0), (2666, 0.0), (2667, 0.0), (2668, 0.008508083118242294), (2669, 0.0), (2670, 0.0), (2671, 0.0), (2672, 0.0), (2673, 0.0029026119965697874), (2674, 0.0020085572478704614), (2675, 0.03761356151488625), (2676, 0.0), (2677, 0.0), (2678, 0.003553572185438609), (2679, 0.0020647271650589844), (2680, 0.0), (2681, 0.0), (2682, 0.016241488303404585), (2683, 0.0), (2684, 0.0), (2685, 0.046767452198128834), (2686, 0.0), (2687, 0.0021467124860982015), (2688, 0.03078321959478632), (2689, 0.08407879779412451), (2690, 0.0), (2691, 0.0), (2692, 0.007180422705514563), (2693, 0.03708246226943038), (2694, 0.0029065034543553007), (2695, 0.00827909808241425), (2696, 0.0025364538821037496), (2697, 0.006769412586820754), (2698, 0.002125899661047469), (2699, 0.05202819487408788), (2700, 0.0), (2701, 0.0), (2702, 0.002493835638113254), (2703, 0.0), (2704, 0.0), (2705, 0.002362593722393482), (2706, 0.0020743907461544366), (2707, 0.002560885298398985), (2708, 0.0), (2709, 0.0), (2710, 0.038822968780469994), (2711, 0.0), (2712, 0.0023313245426966034), (2713, 0.0), (2714, 0.002309255480325854), (2715, 0.0), (2716, 0.002101716795302202), (2717, 0.0), (2718, 0.025548372400516054), (2719, 0.0), (2720, 0.04302557419559406), (2721, 0.001895944989043766), (2722, 0.003063110818291862), (2723, 0.0023401129161257227), (2724, 0.03436650882620124), (2725, 0.002333541054191296), (2726, 0.0), (2727, 0.007321158378181979), (2728, 0.001986086705581334), (2729, 0.0), (2730, 0.0), (2731, 0.0029288765990425126), (2732, 0.0), (2733, 0.0), (2734, 0.0), (2735, 0.0020146103135246806), (2736, 0.029800133444610452), (2737, 0.027959070267996225), (2738, 0.0025749532053475094), (2739, 0.04341973641946311), (2740, 0.0024567562093303274), (2741, 0.0019646200804062106), (2742, 0.027376612038602966), (2743, 0.001870739746181838), (2744, 0.002261378322610638), (2745, 0.0022023935741451194), (2746, 0.06914751422749313), (2747, 0.06172797218008001), (2748, 0.0023727081781282438), (2749, 0.0), (2750, 0.0), (2751, 0.005772214729960664), (2752, 0.00790879640526975), (2753, 0.0019222330190835748), (2754, 0.0), (2755, 0.0023072414736144456), (2756, 0.0), (2757, 0.0033396664605913804), (2758, 0.016055110949120148), (2759, 0.06414110724367961), (2760, 0.056754605376883996), (2761, 0.0018776736250149249), (2762, 0.07309110054501813), (2763, 0.0), (2764, 0.0031086308667097437), (2765, 0.002074048142313661), (2766, 0.06466654658350901), (2767, 0.0017023124072423925), (2768, 0.011754171450185587), (2769, 0.0025754384373187934), (2770, 0.024209371343432366), (2771, 0.007016402679186706), (2772, 0.002584707268071602), (2773, 0.0), (2774, 0.0), (2775, 0.002962157425357184), (2776, 0.024916067868239522), (2777, 0.03493458374498716), (2778, 0.002638381127657201), (2779, 0.0020829435613826017), (2780, 0.006302531955281812), (2781, 0.0), (2782, 0.0024288901393827458), (2783, 0.0021958709275522307), (2784, 0.008451762231349934), (2785, 0.0), (2786, 0.0023366448304348755), (2787, 0.0), (2788, 0.00619687251977345), (2789, 0.0), (2790, 0.032905909462845724), (2791, 0.005582351295256538), (2792, 0.00231167829185208), (2793, 0.0), (2794, 0.0), (2795, 0.010442541615921364), (2796, 0.0024970590911504646), (2797, 0.0026707062793075525), (2798, 0.002215721852743687), (2799, 0.0), (2800, 0.002061483659143466), (2801, 0.05762651094993176), (2802, 0.0021335789542792274), (2803, 0.001985681418197342), (2804, 0.017413334861769155), (2805, 0.027367545602316114), (2806, 0.0), (2807, 0.0), (2808, 0.008012409166373132), (2809, 0.004593412688741649), (2810, 0.0), (2811, 0.0), (2812, 0.002056333523935258), (2813, 0.0), (2814, 0.0), (2815, 0.012245695878183272), (2816, 0.0173023979022537), (2817, 0.0), (2818, 0.0), (2819, 0.03315385329048337), (2820, 0.0), (2821, 0.035541198790793), (2822, 0.061932082309071004), (2823, 0.0), (2824, 0.05499134714523267), (2825, 0.006013156620615654), (2826, 0.0021936199622753856), (2827, 0.029113289187450913), (2828, 0.0), (2829, 0.0), (2830, 0.0024283981819306108), (2831, 0.002184475797533941), (2832, 0.0028635076495609145), (2833, 0.005425647905096004), (2834, 0.0027070177166276096), (2835, 0.07838972441327985), (2836, 0.0), (2837, 0.0), (2838, 0.0027885065038559882), (2839, 0.017269812436774522), (2840, 0.0024335868447238696), (2841, 0.0012187535207589385), (2842, 0.02705868767205969), (2843, 0.0), (2844, 0.0199031520975047), (2845, 0.12145088644361528), (2846, 0.0025531295062370374), (2847, 0.0), (2848, 0.02391205554601613), (2849, 0.008741808249188316), (2850, 0.0), (2851, 0.0), (2852, 0.03855912221379635), (2853, 0.03331091483185261), (2854, 0.0024232864590187286), (2855, 0.0), (2856, 0.0), (2857, 0.0026933941984052315), (2858, 0.0030927312405146265), (2859, 0.002068662409330051), (2860, 0.0), (2861, 0.002892153592264454), (2862, 0.022458488996120695), (2863, 0.00224977761124248), (2864, 0.0), (2865, 0.0), (2866, 0.0), (2867, 0.0), (2868, 0.002018725248945739), (2869, 0.0), (2870, 0.0029579234560433583), (2871, 0.005412295067346497), (2872, 0.002511653150085516), (2873, 0.0), (2874, 0.005649347112120241), (2875, 0.0), (2876, 0.0018223458894247708), (2877, 0.0), (2878, 0.00230008533977113), (2879, 0.0026572992325401305), (2880, 0.0), (2881, 0.0024712209891065476), (2882, 0.0023710628602363745), (2883, 0.0029527284737863994), (2884, 0.0025188272539703833), (2885, 0.0), (2886, 0.007888990338752804), (2887, 0.0022109043185222312), (2888, 0.002363585387768453), (2889, 0.0030037056263828013), (2890, 0.002407703425287955), (2891, 0.0), (2892, 0.002071216742576045), (2893, 0.002474398568569634), (2894, 0.034355772404460486), (2895, 0.0026117526119029738), (2896, 0.0), (2897, 0.005814045269077207), (2898, 0.0), (2899, 0.0608914338782642), (2900, 0.002175030261162931), (2901, 0.0028014508512684763), (2902, 0.0016047790850453048), (2903, 0.009273006589610748), (2904, 0.01966235108737301), (2905, 0.0), (2906, 0.0), (2907, 0.0020236368458543008), (2908, 0.03668659084337713), (2909, 0.002128036682176347), (2910, 0.008090438742435127), (2911, 0.002270880343428649), (2912, 0.018304720901491055), (2913, 0.00998529253000742), (2914, 0.0024676617221443173), (2915, 0.0023728289541222777), (2916, 0.0024440476244377723), (2917, 0.0017186438002510852), (2918, 0.0219747783505184), (2919, 0.06615373685287716), (2920, 0.0019964196366841136), (2921, 0.0), (2922, 0.0), (2923, 0.0029399128943862866), (2924, 0.038826572700522255), (2925, 0.006639065470659246), (2926, 0.0022819356020554993), (2927, 0.0), (2928, 0.0), (2929, 0.015525804753310087), (2930, 0.0), (2931, 0.035790296457864), (2932, 0.010932813688890108), (2933, 0.001853001400618854), (2934, 0.04912295926145892), (2935, 0.0), (2936, 0.026188099216081288), (2937, 0.0031332170183885864), (2938, 0.0), (2939, 0.007581110799041674), (2940, 0.0023321759483966287), (2941, 0.0), (2942, 0.0018881063374047735), (2943, 0.0021741268691070305), (2944, 0.006300375675732147), (2945, 0.0021358705303832454), (2946, 0.0021473380758040613), (2947, 0.0), (2948, 0.007926744359262843), (2949, 0.07410897377178753), (2950, 0.037873832313917354), (2951, 0.0), (2952, 0.0), (2953, 0.0023095650586681168), (2954, 0.0019923228526372463), (2955, 0.022380597835933224), (2956, 0.0), (2957, 0.0026694151846478114), (2958, 0.0), (2959, 0.0), (2960, 0.0), (2961, 0.008139231252791873), (2962, 0.005792342838512712), (2963, 0.006499165655505319), (2964, 0.0023316456531550654), (2965, 0.05866351195715226), (2966, 0.002652511741971109), (2967, 0.0), (2968, 0.08446101818273755), (2969, 0.0018097001032943683), (2970, 0.0023257428761786544), (2971, 0.0052962958218643755), (2972, 0.0020567194545617878), (2973, 0.0), (2974, 0.002449763693440427), (2975, 0.0019169444594585485), (2976, 0.001954619174820785), (2977, 0.002234131072669009), (2978, 0.0746793227387888), (2979, 0.0), (2980, 0.0021399556720800485), (2981, 0.11272006071826501), (2982, 0.051571026011092896), (2983, 0.0), (2984, 0.0), (2985, 0.035063039695410254), (2986, 0.002580929511538736), (2987, 0.0025189981066443255), (2988, 0.03452939770190027), (2989, 0.0030403840513143635), (2990, 0.0), (2991, 0.0), (2992, 0.016231362462170558), (2993, 0.0026318000808396467), (2994, 0.006126391527167951), (2995, 0.002067962045765382), (2996, 0.009099885390875072), (2997, 0.0020623639453468583), (2998, 0.0361780607415766), (2999, 0.0021695961389643905), (3000, 0.034277736094670413), (3001, 0.0), (3002, 0.0), (3003, 0.0024238892218829927), (3004, 0.002687516583173423), (3005, 0.14425171534446568), (3006, 0.0), (3007, 0.002331019167811064), (3008, 0.0), (3009, 0.0), (3010, 0.03228347093034755), (3011, 0.030221464112653328), (3012, 0.009270683081814305), (3013, 0.002461436518694107), (3014, 0.0020598396203525856), (3015, 0.0027649737431758806), (3016, 0.020110912568221697), (3017, 0.0), (3018, 0.006356742425925029), (3019, 0.009626032724315428), (3020, 0.002648888869657979), (3021, 0.0), (3022, 0.0), (3023, 0.0), (3024, 0.0018049912077292977), (3025, 0.0), (3026, 0.0024107187107054564), (3027, 0.0170110625863007), (3028, 0.0021085400688069925), (3029, 0.0), (3030, 0.0029559115070799977), (3031, 0.0026653910923637556), (3032, 0.002442333554607559), (3033, 0.0), (3034, 0.0), (3035, 0.0020772172339598043), (3036, 0.0020744896787770312), (3037, 0.0023031900296114154), (3038, 0.0), (3039, 0.0), (3040, 0.0030471598674413894), (3041, 0.0), (3042, 0.0029564306231685002), (3043, 0.00936072989463889), (3044, 0.0023784443377841144), (3045, 0.00502663325082164), (3046, 0.002140068511541529), (3047, 0.031354775248642594), (3048, 0.0), (3049, 0.0), (3050, 0.001999093026692547), (3051, 0.03437491622459066), (3052, 0.0029803426764406964), (3053, 0.0), (3054, 0.0), (3055, 0.002969103888249731), (3056, 0.0018075971767063357), (3057, 0.002046910591248294), (3058, 0.0), (3059, 0.0), (3060, 0.0), (3061, 0.0), (3062, 0.002419064171719318), (3063, 0.0), (3064, 0.002374244360137774), (3065, 0.0018533536086224381), (3066, 0.0), (3067, 0.0021555487178495825), (3068, 0.0), (3069, 0.0021308019122887553), (3070, 0.026339337329107912), (3071, 0.051886088977578196), (3072, 0.0025360312752637122), (3073, 0.07219820722168124), (3074, 0.0026770396687913157), (3075, 0.0021191384058109413), (3076, 0.039504241570076086), (3077, 0.029555471458507163), (3078, 0.0), (3079, 0.0), (3080, 0.024428810533953852), (3081, 0.0025678795011369842), (3082, 0.0), (3083, 0.08728023461197622), (3084, 0.0288775228224495), (3085, 0.09988855839501072), (3086, 0.008932619239103642), (3087, 0.0), (3088, 0.0), (3089, 0.0), (3090, 0.0), (3091, 0.0018263394424699886), (3092, 0.12089627069158185), (3093, 0.002147363260054031), (3094, 0.002553083452444526), (3095, 0.027566639919927364), (3096, 0.0018967200368460396), (3097, 0.015829825975808773), (3098, 0.01903392203208528), (3099, 0.046403374585747136), (3100, 0.0), (3101, 0.07513440335395058), (3102, 0.03189724868190775), (3103, 0.0), (3104, 0.0), (3105, 0.0), (3106, 0.0), (3107, 0.0), (3108, 0.0019583668226372496), (3109, 0.03677358854404714), (3110, 0.006847438287175216), (3111, 0.02996402201932237), (3112, 0.002346294834151249), (3113, 0.002225496295130785), (3114, 0.0), (3115, 0.0), (3116, 0.0023977214004633264), (3117, 0.03587824441130392), (3118, 0.005648611637312913), (3119, 0.011336193909419616), (3120, 0.0076555477372694716), (3121, 0.015616800636929325), (3122, 0.002081532383946345), (3123, 0.0026614663813926084), (3124, 0.0), (3125, 0.002192746520234264), (3126, 0.0), (3127, 0.04065170714804021), (3128, 0.0027505021104556834), (3129, 0.02688873630570789), (3130, 0.0), (3131, 0.0), (3132, 0.0), (3133, 0.0), (3134, 0.0), (3135, 0.0), (3136, 0.0), (3137, 0.02439180103059663), (3138, 0.0), (3139, 0.00308925714496258), (3140, 0.00274600010331655), (3141, 0.030152214846519757), (3142, 0.05168637005165254), (3143, 0.0), (3144, 0.0), (3145, 0.0), (3146, 0.0024406394364131587), (3147, 0.06456992797939358), (3148, 0.0024704577674590014), (3149, 0.10085603153650119), (3150, 0.002282928460567168), (3151, 0.0020784801223569364), (3152, 0.0017027006890052195), (3153, 0.002246857591884295), (3154, 0.017570738261459825), (3155, 0.008325462106468971), (3156, 0.0), (3157, 0.002428647128469825), (3158, 0.028070913780178303), (3159, 0.002700514375121413), (3160, 0.0), (3161, 0.0), (3162, 0.0), (3163, 0.0), (3164, 0.0), (3165, 0.0025061582147311986), (3166, 0.0030266494623791274), (3167, 0.029981891521365933), (3168, 0.0), (3169, 0.0), (3170, 0.002075793244023821), (3171, 0.007865726376027345), (3172, 0.0), (3173, 0.002148834999967807), (3174, 0.002176143633851354), (3175, 0.033536551878527554), (3176, 0.0), (3177, 0.0), (3178, 0.0034498092413925985), (3179, 0.10111659788375708), (3180, 0.0), (3181, 0.0), (3182, 0.041299553837435096), (3183, 0.0023893586606047027), (3184, 0.0023435888691195235), (3185, 0.0), (3186, 0.0024740576747420443), (3187, 0.0022961495480492), (3188, 0.03126101268285079), (3189, 0.0), (3190, 0.0), (3191, 0.0), (3192, 0.006724421670366273), (3193, 0.0), (3194, 0.002059495533758582), (3195, 0.0021472646609369166), (3196, 0.0024467530722739974), (3197, 0.0), (3198, 0.0022540592901302546), (3199, 0.0016897011057050557), (3200, 0.0550375496254468), (3201, 0.0), (3202, 0.018181302494320744), (3203, 0.0), (3204, 0.0), (3205, 0.0), (3206, 0.0026399604141617546), (3207, 0.0), (3208, 0.03629671289703867), (3209, 0.0), (3210, 0.008340744441257888), (3211, 0.050174411339723515), (3212, 0.0), (3213, 0.0), (3214, 0.002083105309029572), (3215, 0.0), (3216, 0.0021713255906755753), (3217, 0.0), (3218, 0.0023262011000551135), (3219, 0.002851502410390512), (3220, 0.002132514883693113), (3221, 0.0), (3222, 0.0), (3223, 0.0), (3224, 0.002271698668544709), (3225, 0.07107589615310585), (3226, 0.004013649971950559), (3227, 0.002200051166303403), (3228, 0.02294154662795995), (3229, 0.0), (3230, 0.002519057829686327), (3231, 0.0), (3232, 0.005321920791804963), (3233, 0.002244720587360032), (3234, 0.036594044125707256), (3235, 0.0405763217256206), (3236, 0.0), (3237, 0.002155147298566259), (3238, 0.001877764741611157), (3239, 0.0027509570353714038), (3240, 0.00421704483257656), (3241, 0.0022763576364387174), (3242, 0.002290838233270694), (3243, 0.06066830669179138), (3244, 0.0), (3245, 0.0061500426083403855), (3246, 0.0020917754000005736), (3247, 0.0), (3248, 0.0024334572172976456), (3249, 0.0027290161076135525), (3250, 0.0), (3251, 0.0), (3252, 0.0018181371170157886), (3253, 0.0), (3254, 0.0017840752806353687), (3255, 0.0), (3256, 0.0), (3257, 0.0026291640795597605), (3258, 0.002372658634227625), (3259, 0.006419386051520081), (3260, 0.018547501103448147), (3261, 0.0), (3262, 0.0028075567277381103), (3263, 0.0), (3264, 0.002303952795462549), (3265, 0.0), (3266, 0.0), (3267, 0.0075029880483674476), (3268, 0.02208004168268846), (3269, 0.0023602580357174256), (3270, 0.0), (3271, 0.0023576154525293677), (3272, 0.0), (3273, 0.0024291882758931023), (3274, 0.0024584758713592286), (3275, 0.009664661856866357), (3276, 0.003293769570238506), (3277, 0.0), (3278, 0.00198402942224507), (3279, 0.05363546054137725), (3280, 0.005667021707515922), (3281, 0.0), (3282, 0.0028296990378711864), (3283, 0.07256224023198679), (3284, 0.001998390817891963), (3285, 0.0722245234384752), (3286, 0.0), (3287, 0.0), (3288, 0.0), (3289, 0.06638349884647142), (3290, 0.00224548042564732), (3291, 0.0029321885420116843), (3292, 0.002848381846559908), (3293, 0.007826473244403722), (3294, 0.0), (3295, 0.0), (3296, 0.002481699293605425), (3297, 0.11198538394153806), (3298, 0.002107728650529773), (3299, 0.0021681802226424587), (3300, 0.002050499351512108), (3301, 0.0017086641004243393), (3302, 0.0026585278612411035), (3303, 0.002220453979857771), (3304, 0.001975744812339589), (3305, 0.0), (3306, 0.01316115637236725), (3307, 0.002534572744224674), (3308, 0.03963485114076243), (3309, 0.0), (3310, 0.03264907020528481), (3311, 0.0019737729014742736), (3312, 0.007069840838873211), (3313, 0.0017814134994490723), (3314, 0.0023141411155310214), (3315, 0.05535879895300949), (3316, 0.001678436973086227), (3317, 0.006772671488843874), (3318, 0.0962039366606653), (3319, 0.0), (3320, 0.03879727130769626), (3321, 0.0), (3322, 0.0028082214173989735), (3323, 0.0), (3324, 0.0), (3325, 0.0038984222902347103), (3326, 0.0023109940821247573), (3327, 0.02161547814922133), (3328, 0.08796620081562107), (3329, 0.03060638832371837), (3330, 0.0021745380837474384), (3331, 0.08980445581247587), (3332, 0.0), (3333, 0.0695857068603318), (3334, 0.006404294961456095), (3335, 0.03382605538258259), (3336, 0.058302888968068116), (3337, 0.0025176545789031687), (3338, 0.0), (3339, 0.0), (3340, 0.0), (3341, 0.00218807918481962), (3342, 0.0020261392675297797), (3343, 0.016705241458024874), (3344, 0.05501126377476049), (3345, 0.0), (3346, 0.002176168620795082), (3347, 0.0018313568025086781), (3348, 0.00211162126906955), (3349, 0.00226375129275122), (3350, 0.016497188293217894), (3351, 0.0022772817172004166), (3352, 0.032194970536353514), (3353, 0.0022684512052774147), (3354, 0.002747126353905552), (3355, 0.0025102826619508344), (3356, 0.012612389142606564), (3357, 0.0027122088106170533), (3358, 0.002648992905942678), (3359, 0.0025393104185458), (3360, 0.029738184563123188), (3361, 0.0), (3362, 0.05129264264882043), (3363, 0.0027212630298426277), (3364, 0.0025188870306928597), (3365, 0.0015387326829460406), (3366, 0.0), (3367, 0.0), (3368, 0.01632615411087048), (3369, 0.018069845389683883), (3370, 0.008026359135627001), (3371, 0.0), (3372, 0.00229158398692614), (3373, 0.009306816611672908), (3374, 0.008206230144536645), (3375, 0.016875724054352607), (3376, 0.001863244304869871), (3377, 0.08036772481676806), (3378, 0.0), (3379, 0.002139220488302394), (3380, 0.05750089215048221), (3381, 0.0021559145538604), (3382, 0.031497383948978316), (3383, 0.026495273961856594), (3384, 0.007136126525380429), (3385, 0.0), (3386, 0.03392205198516534), (3387, 0.034560446972106626), (3388, 0.0022989445642669017), (3389, 0.06379040476420801), (3390, 0.0020789549853068964), (3391, 0.045543879624380716), (3392, 0.02224489712747136), (3393, 0.001876611533718965), (3394, 0.05458764001629884), (3395, 0.0), (3396, 0.002516788514087), (3397, 0.0), (3398, 0.0), (3399, 0.0020385345441617684), (3400, 0.0), (3401, 0.0), (3402, 0.002126283281670972), (3403, 0.012577314028752496), (3404, 0.0), (3405, 0.0), (3406, 0.03533184288641267), (3407, 0.043131334260154995), (3408, 0.03871553384554565), (3409, 0.0018615709132958462), (3410, 0.025314530127026787), (3411, 0.0), (3412, 0.0021280419917268237), (3413, 0.0026208055360074996), (3414, 0.0024424826211027883), (3415, 0.07227291100921357), (3416, 0.006081232410338888), (3417, 0.002403184941967843), (3418, 0.007504133121288008), (3419, 0.00251806141678128), (3420, 0.0), (3421, 0.0376571232205632), (3422, 0.0), (3423, 0.0024966618948353593), (3424, 0.0), (3425, 0.002528236108076107), (3426, 0.0), (3427, 0.0), (3428, 0.0), (3429, 0.0), (3430, 0.019256171343652772), (3431, 0.0017521856768818592), (3432, 0.0), (3433, 0.060991986318359), (3434, 0.002321323886057651), (3435, 0.03315325436321113), (3436, 0.0021959977730548574), (3437, 0.008656447053016774), (3438, 0.0), (3439, 0.0), (3440, 0.0), (3441, 0.0021640475149731363), (3442, 0.0), (3443, 0.017170304200516722), (3444, 0.0), (3445, 0.0022346160276002676), (3446, 0.0), (3447, 0.002132131556265869), (3448, 0.0), (3449, 0.002357826034174302), (3450, 0.016672828891034146), (3451, 0.0), (3452, 0.002034641459641191), (3453, 0.006695058026404349), (3454, 0.0), (3455, 0.0020034729696670798), (3456, 0.031472895847867215), (3457, 0.0), (3458, 0.02293638751089603), (3459, 0.0), (3460, 0.030785367530780393), (3461, 0.0), (3462, 0.0), (3463, 0.03228443946798433), (3464, 0.006451066736038734), (3465, 0.00578160804788181), (3466, 0.040923510265245065), (3467, 0.0), (3468, 0.0), (3469, 0.0), (3470, 0.0), (3471, 0.02661900034310291), (3472, 0.0), (3473, 0.0), (3474, 0.030420956987088226), (3475, 0.027182332682467617), (3476, 0.0), (3477, 0.03834999185625059), (3478, 0.0021819739972691442), (3479, 0.0029139654049078986), (3480, 0.0), (3481, 0.0), (3482, 0.0), (3483, 0.008755007386889124), (3484, 0.0), (3485, 0.0), (3486, 0.0), (3487, 0.002097891310046259), (3488, 0.0), (3489, 0.0), (3490, 0.0), (3491, 0.002190535068449745), (3492, 0.0021792840303472578), (3493, 0.0022837752663250966), (3494, 0.0), (3495, 0.0), (3496, 0.0023421349969818504), (3497, 0.002384030468903614), (3498, 0.06189015643405373), (3499, 0.02550137409145726), (3500, 0.018174793006851507), (3501, 0.0022179541874958134), (3502, 0.0), (3503, 0.002092293363589611), (3504, 0.007920135729500899), (3505, 0.0), (3506, 0.002516561881267083), (3507, 0.006309988043489592), (3508, 0.05134100388583107), (3509, 0.0), (3510, 0.0337397301001839), (3511, 0.024351907955453753), (3512, 0.0033458593463661693), (3513, 0.0), (3514, 0.0022779015507859075), (3515, 0.0), (3516, 0.04409248411215425), (3517, 0.002259227372377834), (3518, 0.0), (3519, 0.0), (3520, 0.0), (3521, 0.0026880824001116145), (3522, 0.0), (3523, 0.0031279034487530113), (3524, 0.03938948043867126), (3525, 0.0), (3526, 0.0022330059499179543), (3527, 0.002255486346890288), (3528, 0.07127978743308702), (3529, 0.0), (3530, 0.0), (3531, 0.00590388167870907), (3532, 0.0), (3533, 0.06381581260783306), (3534, 0.033736694529947146), (3535, 0.007207726375892553), (3536, 0.00226399341291601), (3537, 0.0027063999220567135), (3538, 0.0017398295898071014), (3539, 0.0), (3540, 0.002544922301505275), (3541, 0.0021948744109939844), (3542, 0.002232479726321862), (3543, 0.0), (3544, 0.0026560152678232227), (3545, 0.0), (3546, 0.0016279160941943837), (3547, 0.0), (3548, 0.001794338133368288), (3549, 0.0), (3550, 0.0), (3551, 0.002202224914740272), (3552, 0.0035487487635406253), (3553, 0.00819523274190891), (3554, 0.0), (3555, 0.0), (3556, 0.0019509660083546038), (3557, 0.0021396966548687326), (3558, 0.0020144221175246173), (3559, 0.05788238428874569), (3560, 0.00245164406445236), (3561, 0.0029578813830980475), (3562, 0.0), (3563, 0.0019886671189935346), (3564, 0.0021904344464229106), (3565, 0.002159434447496892), (3566, 0.0), (3567, 0.016021355524899555), (3568, 0.0), (3569, 0.0018707635361054915), (3570, 0.02266637942572466), (3571, 0.0022311910272779867), (3572, 0.0), (3573, 0.0), (3574, 0.0), (3575, 0.001762764994426759), (3576, 0.0), (3577, 0.0026965525451043137), (3578, 0.0), (3579, 0.0018624845859353527), (3580, 0.05859529562098757), (3581, 0.0), (3582, 0.005863842749444758), (3583, 0.0), (3584, 0.02353748798847118), (3585, 0.0), (3586, 0.006550734418760553), (3587, 0.002457922841009978), (3588, 0.020545568831127146), (3589, 0.03184092693806654), (3590, 0.0023177963540253633), (3591, 0.0), (3592, 0.0), (3593, 0.0024357337823685257), (3594, 0.04590039874037261), (3595, 0.04513635046102527), (3596, 0.002159423967286943), (3597, 0.04448915697126423), (3598, 0.0), (3599, 0.0022782441752190598), (3600, 0.0), (3601, 0.02570061781431373), (3602, 0.0), (3603, 0.0), (3604, 0.0), (3605, 0.0), (3606, 0.0022247401650494396), (3607, 0.0), (3608, 0.0014212246540581787), (3609, 0.0), (3610, 0.0), (3611, 0.03803926535181904), (3612, 0.00827205942686069), (3613, 0.0026913139741910697), (3614, 0.11528636816009594), (3615, 0.002054738491847345), (3616, 0.0027133660082250145), (3617, 0.0), (3618, 0.002312858283447308), (3619, 0.0), (3620, 0.0026569675057851244), (3621, 0.0025675405562545256), (3622, 0.0), (3623, 0.002250884719361267), (3624, 0.002161749818444573), (3625, 0.0), (3626, 0.0016740233699399315), (3627, 0.0020188766609594267), (3628, 0.0), (3629, 0.0018739046611039264), (3630, 0.0), (3631, 0.0), (3632, 0.0), (3633, 0.0), (3634, 0.001844843328122153), (3635, 0.0029500397648202755), (3636, 0.002248607854464413), (3637, 0.06597919188099657), (3638, 0.0027204198487617106), (3639, 0.002497198784605266), (3640, 0.03531737155536468), (3641, 0.0021072998366989033), (3642, 0.06012375082687635), (3643, 0.0022166554372205108), (3644, 0.0), (3645, 0.006232628129642004), (3646, 0.0020631948393640067), (3647, 0.0021467768323412957), (3648, 0.0), (3649, 0.0), (3650, 0.06669816564833608), (3651, 0.002496085789959913), (3652, 0.00672571586327761), (3653, 0.0022242258828463757), (3654, 0.0022947730568454575), (3655, 0.0018989086229782657), (3656, 0.0020108941251546354), (3657, 0.0018413308449319171), (3658, 0.0227212046030585), (3659, 0.07837599821383862), (3660, 0.007973985303608823), (3661, 0.002488525856793578), (3662, 0.0), (3663, 0.0), (3664, 0.0), (3665, 0.002176776267229726), (3666, 0.002265565273698337), (3667, 0.0033364106395871347), (3668, 0.001846864062627339), (3669, 0.0018491172574453222), (3670, 0.008339589505681548), (3671, 0.0), (3672, 0.0031005309466320243), (3673, 0.02711699939064842), (3674, 0.005138133206599034), (3675, 0.00985688267834913), (3676, 0.0), (3677, 0.0023951087591605746), (3678, 0.0023212683692572043), (3679, 0.0), (3680, 0.002467380640874968), (3681, 0.0), (3682, 0.0), (3683, 0.0), (3684, 0.005282595897117005), (3685, 0.0), (3686, 0.0), (3687, 0.002725301220157525), (3688, 0.0), (3689, 0.00225691239938546), (3690, 0.0), (3691, 0.03680105223178333), (3692, 0.0023493383974076097), (3693, 0.0), (3694, 0.008948848413740903), (3695, 0.0), (3696, 0.0021042399781287784), (3697, 0.0), (3698, 0.0), (3699, 0.008445814620829207), (3700, 0.0), (3701, 0.02791301995301845), (3702, 0.0), (3703, 0.0), (3704, 0.002357951653118053), (3705, 0.001974428647020127), (3706, 0.0021294471375380253), (3707, 0.04126275830348072), (3708, 0.007027992597383426), (3709, 0.0), (3710, 0.0), (3711, 0.00560820159612859), (3712, 0.016489682506307442), (3713, 0.005074960597492072), (3714, 0.002384964254012201), (3715, 0.0), (3716, 0.05194640925648018), (3717, 0.0), (3718, 0.0), (3719, 0.002129723880304955), (3720, 0.0), (3721, 0.0), (3722, 0.0), (3723, 0.02762890370686187), (3724, 0.0), (3725, 0.0020316699849968678), (3726, 0.0), (3727, 0.002163402659972963), (3728, 0.002333261822206234), (3729, 0.002528707386337213), (3730, 0.0), (3731, 0.0051909573486290045), (3732, 0.0), (3733, 0.002078119897043593), (3734, 0.0020579764917634693), (3735, 0.0), (3736, 0.0), (3737, 0.0024364376297685395), (3738, 0.028626108170060834), (3739, 0.0022059572499449225), (3740, 0.0), (3741, 0.007070545226757413), (3742, 0.0019930589922655417), (3743, 0.0), (3744, 0.0), (3745, 0.0025667416533960647), (3746, 0.0), (3747, 0.033055109154099135), (3748, 0.0), (3749, 0.0023790715142422178), (3750, 0.031162455366350227), (3751, 0.001793413479976048), (3752, 0.0), (3753, 0.0), (3754, 0.04734011003335122), (3755, 0.0019284104130480434), (3756, 0.006763798808927975), (3757, 0.002353718531562413), (3758, 0.0), (3759, 0.0), (3760, 0.0), (3761, 0.0), (3762, 0.002842652411584001), (3763, 0.0025715126256487804), (3764, 0.0), (3765, 0.002119528277755485), (3766, 0.00986092152063499), (3767, 0.002004361564327603), (3768, 0.006540728490844721), (3769, 0.048182750556353425), (3770, 0.0022817247079537184), (3771, 0.002363345013949208), (3772, 0.0024830739213511804), (3773, 0.0), (3774, 0.03351305934289626), (3775, 0.005648664225544845), (3776, 0.0), (3777, 0.008736645849933632), (3778, 0.0022664547919842384), (3779, 0.0026348003491263824), (3780, 0.020916671043635406), (3781, 0.0023378797050778747), (3782, 0.0), (3783, 0.0), (3784, 0.002076871071431489), (3785, 0.019370569735800456), (3786, 0.0), (3787, 0.0), (3788, 0.0), (3789, 0.0), (3790, 0.0), (3791, 0.0), (3792, 0.002218955015145684), (3793, 0.0), (3794, 0.005765284352940335), (3795, 0.0019518322983424847), (3796, 0.0), (3797, 0.03704731091152295), (3798, 0.02273336355549475), (3799, 0.0020683325537808705), (3800, 0.0), (3801, 0.0074083580492053415), (3802, 0.03426926333924611), (3803, 0.040318795753118315), (3804, 0.002434009596624332), (3805, 0.0), (3806, 0.026402640216959778), (3807, 0.03935812877078234), (3808, 0.0), (3809, 0.002235578285489403), (3810, 0.0), (3811, 0.021808911391810976), (3812, 0.017020198253129774), (3813, 0.002380753190358108), (3814, 0.030783335266240868), (3815, 0.046982421337882864), (3816, 0.0), (3817, 0.0), (3818, 0.0), (3819, 0.007807397019716635), (3820, 0.0), (3821, 0.0018298972764186285), (3822, 0.0024499672667682598), (3823, 0.04332795123950077), (3824, 0.020917967157529815), (3825, 0.0), (3826, 0.0020976899450727703), (3827, 0.002139369598941954), (3828, 0.01045766034338449), (3829, 0.01757250928458007), (3830, 0.027572763867895835), (3831, 0.0), (3832, 0.002663727665598345), (3833, 0.06356620859333188), (3834, 0.0), (3835, 0.0013141378494059609), (3836, 0.0), (3837, 0.0), (3838, 0.018712557105130697), (3839, 0.05109471013398715), (3840, 0.0), (3841, 0.0019567549763869277), (3842, 0.03402583978895234), (3843, 0.0), (3844, 0.0), (3845, 0.0022758999153365145), (3846, 0.0), (3847, 0.03241417264021132), (3848, 0.002768240272756239), (3849, 0.024402886802044898), (3850, 0.0), (3851, 0.0), (3852, 0.0), (3853, 0.059102543479296), (3854, 0.0076466421123881755), (3855, 0.0018514278875867078), (3856, 0.05417078679939422), (3857, 0.07703718331972823), (3858, 0.0), (3859, 0.015816802569686914), (3860, 0.036824905878708084), (3861, 0.0), (3862, 0.008635997629023982), (3863, 0.001960713979351921), (3864, 0.0), (3865, 0.0), (3866, 0.002515137712377782), (3867, 0.0024787269890297935), (3868, 0.03203338705297043), (3869, 0.0), (3870, 0.0), (3871, 0.0), (3872, 0.03015821839071051), (3873, 0.0023331405274287327), (3874, 0.0026681923348103012), (3875, 0.001773514582434707), (3876, 0.002002904538117691), (3877, 0.021811345246589352), (3878, 0.0028677805917155237), (3879, 0.0), (3880, 0.0019036410613762528), (3881, 0.0), (3882, 0.024347785915548186), (3883, 0.009425584190543493), (3884, 0.0025386814140579603), (3885, 0.0), (3886, 0.0), (3887, 0.0), (3888, 0.008181647522614226), (3889, 0.03630812689410744), (3890, 0.002110966538096139), (3891, 0.0), (3892, 0.0028364831472677517), (3893, 0.0023571794620043953), (3894, 0.001913633933028196), (3895, 0.00191008039070092), (3896, 0.0), (3897, 0.0), (3898, 0.01859019115915834), (3899, 0.006628168914935339), (3900, 0.002098163495818749), (3901, 0.002631455426535599), (3902, 0.0022702834478423336), (3903, 0.0024992652032603062), (3904, 0.002333845892837894), (3905, 0.006438641059844033), (3906, 0.0021467866456945416), (3907, 0.0), (3908, 0.0), (3909, 0.0), (3910, 0.029392113177493125), (3911, 0.0026072703583196626), (3912, 0.0), (3913, 0.0020143915572056765), (3914, 0.0), (3915, 0.06733045721537542), (3916, 0.0), (3917, 0.002098944505027805), (3918, 0.0), (3919, 0.034997294842171796), (3920, 0.0022600906694337946), (3921, 0.0), (3922, 0.0026935834937775014), (3923, 0.0), (3924, 0.009089664348218382), (3925, 0.003247802608877903), (3926, 0.0), (3927, 0.016305695164343027), (3928, 0.0018226273046342755), (3929, 0.0), (3930, 0.0), (3931, 0.0), (3932, 0.00402499621854975), (3933, 0.0), (3934, 0.0), (3935, 0.002571123449581926), (3936, 0.0), (3937, 0.0), (3938, 0.033933484947553834), (3939, 0.002906132343484468), (3940, 0.0), (3941, 0.0077488156754327315), (3942, 0.0), (3943, 0.0), (3944, 0.013479571837623088), (3945, 0.0063536703173036075), (3946, 0.014161051120714634), (3947, 0.007034087085127303), (3948, 0.0), (3949, 0.008367247336230583), (3950, 0.0), (3951, 0.0025459811182324417), (3952, 0.0025022475767447843), (3953, 0.0019852839912638805), (3954, 0.002059297615833235), (3955, 0.0), (3956, 0.12591503772020757), (3957, 0.04720008833939813), (3958, 0.026838707400767367), (3959, 0.044397872848478966), (3960, 0.002473674742711513), (3961, 0.00912683448569045), (3962, 0.0024505743758974096), (3963, 0.0), (3964, 0.018675846269555194), (3965, 0.045860034024033734), (3966, 0.0), (3967, 0.0024120773248095914), (3968, 0.0), (3969, 0.0), (3970, 0.0), (3971, 0.0), (3972, 0.0), (3973, 0.020857344273820737), (3974, 0.00196390006920938), (3975, 0.0), (3976, 0.03393747640964954), (3977, 0.0), (3978, 0.013692885749107923), (3979, 0.0), (3980, 0.0), (3981, 0.0), (3982, 0.021910990702749263), (3983, 0.0016346572891763058), (3984, 0.00869617783816132), (3985, 0.029918407499000328), (3986, 0.001963244317448364), (3987, 0.0023239507451205655), (3988, 0.0), (3989, 0.0), (3990, 0.0030117453752843224), (3991, 0.0), (3992, 0.00934697266130441), (3993, 0.04820082400428072), (3994, 0.0), (3995, 0.0), (3996, 0.01993813549424268), (3997, 0.0), (3998, 0.0), (3999, 0.010181623156781918), (4000, 0.0082018779346172), (4001, 0.0), (4002, 0.0025340034878919646), (4003, 0.03814174021258896), (4004, 0.008385799071394116), (4005, 0.0023315000224744973), (4006, 0.03127824839343687), (4007, 0.008655129226218456), (4008, 0.024284046181744203), (4009, 0.015451014583110273), (4010, 0.0), (4011, 0.0020491994961873566), (4012, 0.0), (4013, 0.021328235220834692), (4014, 0.00220771526401654), (4015, 0.0017999147401468268), (4016, 0.002175961597096585), (4017, 0.002960959280992332), (4018, 0.026674925496701456), (4019, 0.002828540239480019), (4020, 0.03284407798648305), (4021, 0.0), (4022, 0.05932993364939369), (4023, 0.0025767881961807817), (4024, 0.0023563044936591847), (4025, 0.002263672973194962), (4026, 0.0), (4027, 0.0), (4028, 0.03803908148216563), (4029, 0.030670527103721878), (4030, 0.0025539168914603897), (4031, 0.0), (4032, 0.0025460501687076314), (4033, 0.008723441769988545), (4034, 0.0), (4035, 0.0), (4036, 0.035397983052975056), (4037, 0.0), (4038, 0.002332708235931985), (4039, 0.0), (4040, 0.0), (4041, 0.0), (4042, 0.0024099467290495213), (4043, 0.0), (4044, 0.0), (4045, 0.03949432465275869), (4046, 0.002392027864271134), (4047, 0.0), (4048, 0.04900259979464637), (4049, 0.0022144626906972255), (4050, 0.03457220300316511), (4051, 0.002434310321166035), (4052, 0.0023060797628564993), (4053, 0.03909493770391259), (4054, 0.04035983871599156), (4055, 0.0), (4056, 0.03329774667755983), (4057, 0.0), (4058, 0.0), (4059, 0.05319035809504746), (4060, 0.03146290387655133), (4061, 0.0), (4062, 0.002642815136153425), (4063, 0.06199600075472453), (4064, 0.0), (4065, 0.0), (4066, 0.001916185911743572), (4067, 0.04596256561645202), (4068, 0.008400596405656895), (4069, 0.01825935868695352), (4070, 0.02504990919463248), (4071, 0.0), (4072, 0.0), (4073, 0.0), (4074, 0.030128436410706495), (4075, 0.0025460025705291364), (4076, 0.0), (4077, 0.0), (4078, 0.0), (4079, 0.0022619248989125644), (4080, 0.001956414110132117), (4081, 0.0021940456936040986), (4082, 0.0030824140796808287), (4083, 0.002278000902979147), (4084, 0.021502357553089137), (4085, 0.002076742441897655), (4086, 0.0), (4087, 0.002371960093566858), (4088, 0.012475745312194088), (4089, 0.034858723292894994), (4090, 0.0), (4091, 0.0), (4092, 0.002469250355588012), (4093, 0.006226467068416204), (4094, 0.006523376271863693), (4095, 0.02719563904241199), (4096, 0.005273374318574267), (4097, 0.046945676271673384), (4098, 0.002236614964924693), (4099, 0.0), (4100, 0.0), (4101, 0.00238150687561302), (4102, 0.0027704347800077667), (4103, 0.0), (4104, 0.02050589698376807), (4105, 0.03309763466189003), (4106, 0.0), (4107, 0.0026942709421348358), (4108, 0.0), (4109, 0.04169665972753589), (4110, 0.0), (4111, 0.002335839868234269), (4112, 0.0), (4113, 0.0024235322504143953), (4114, 0.0), (4115, 0.0), (4116, 0.009014977009688072), (4117, 0.002490764641139808), (4118, 0.006564004504536773), (4119, 0.026426401205057078), (4120, 0.0), (4121, 0.006923074069190479), (4122, 0.007559527468061245), (4123, 0.008730890551328545), (4124, 0.007824217240161281), (4125, 0.06836753077264357), (4126, 0.0025390288042479027), (4127, 0.0), (4128, 0.0), (4129, 0.0021119929571010053), (4130, 0.002384878255075551), (4131, 0.0), (4132, 0.0023486451978594544), (4133, 0.0023791944371206438), (4134, 0.0), (4135, 0.002212917895073262), (4136, 0.002273030737529586), (4137, 0.0022019969690494847), (4138, 0.0024185565744476436), (4139, 0.0021070314018731607), (4140, 0.002384055806722638), (4141, 0.012799751907404257), (4142, 0.0027896551762104436), (4143, 0.0019613562473055593), (4144, 0.0), (4145, 0.002563103824260481), (4146, 0.0), (4147, 0.002656829974209577), (4148, 0.06841155042030864), (4149, 0.0), (4150, 0.0355262252326942), (4151, 0.003748922191314384), (4152, 0.00208177508222628), (4153, 0.057040140770644364), (4154, 0.0019716551681948184), (4155, 0.03198359042645254), (4156, 0.0019126661246570088), (4157, 0.0), (4158, 0.0), (4159, 0.05866216051197556), (4160, 0.002446399145385483), (4161, 0.0023473671022866487), (4162, 0.0), (4163, 0.002529737875793284), (4164, 0.005558877047727138), (4165, 0.005613263926923469), (4166, 0.0), (4167, 0.0), (4168, 0.0), (4169, 0.035661915217594334), (4170, 0.0), (4171, 0.0015420841755295817), (4172, 0.0028845981053102388), (4173, 0.03694286532017995), (4174, 0.03378904820472903), (4175, 0.002323392395225877), (4176, 0.030784070934522192), (4177, 0.028765938522858192), (4178, 0.0415446362602051), (4179, 0.0), (4180, 0.0), (4181, 0.0), (4182, 0.045505239100160945), (4183, 0.0021162984873917537), (4184, 0.006111768102639859), (4185, 0.0), (4186, 0.0), (4187, 0.009382408259654982), (4188, 0.0), (4189, 0.008458157999433915), (4190, 0.0), (4191, 0.0), (4192, 0.03226006998127809), (4193, 0.0284617170558912), (4194, 0.0), (4195, 0.0), (4196, 0.0), (4197, 0.02358404260615114), (4198, 0.0), (4199, 0.0), (4200, 0.0018040277364813524), (4201, 0.0), (4202, 0.0030510156696119057), (4203, 0.009584862097716636), (4204, 0.0), (4205, 0.0019489345186449484), (4206, 0.0020726184412342063), (4207, 0.0), (4208, 0.0), (4209, 0.0026737429945741017), (4210, 0.0), (4211, 0.0), (4212, 0.0), (4213, 0.0020748157227390394), (4214, 0.0), (4215, 0.0), (4216, 0.036127607195665074), (4217, 0.0), (4218, 0.0), (4219, 0.0), (4220, 0.022567176006745206), (4221, 0.002917290738220263), (4222, 0.002926333223794491), (4223, 0.0), (4224, 0.0), (4225, 0.019844208204173302), (4226, 0.03421476284621382), (4227, 0.00671949399671965), (4228, 0.002155668158055454), (4229, 0.0), (4230, 0.0027957710053059994), (4231, 0.008820707177809741), (4232, 0.0071886519903899835), (4233, 0.04301818617071798), (4234, 0.0), (4235, 0.005577174032303475), (4236, 0.0), (4237, 0.03074004285730903), (4238, 0.0), (4239, 0.0), (4240, 0.0), (4241, 0.0), (4242, 0.017834627519719218), (4243, 0.0024840007074626073), (4244, 0.009473012395398155), (4245, 0.0023443319243853403), (4246, 0.013592531976603494), (4247, 0.001917784037741721), (4248, 0.0), (4249, 0.002251336757080605), (4250, 0.0), (4251, 0.0), (4252, 0.0), (4253, 0.0), (4254, 0.0020487669863094643), (4255, 0.0022119100948089945), (4256, 0.022234245528329383), (4257, 0.002055477181009028), (4258, 0.0), (4259, 0.0024236641354417193), (4260, 0.0), (4261, 0.00451601808021878), (4262, 0.034757328931931196), (4263, 0.07490377749663661), (4264, 0.028095242451495948), (4265, 0.006441872468787243), (4266, 0.002201757649594086), (4267, 0.0025054904409962477), (4268, 0.008235502038934504), (4269, 0.0023404544093442716), (4270, 0.0), (4271, 0.0), (4272, 0.0), (4273, 0.0022328401400128445), (4274, 0.02869734190335463), (4275, 0.03244984156293341), (4276, 0.0), (4277, 0.0019985859316262425), (4278, 0.0), (4279, 0.0), (4280, 0.002585929575725447), (4281, 0.036171723147262774), (4282, 0.0020085192727237224), (4283, 0.0022241771038589825), (4284, 0.002140917648925387), (4285, 0.0), (4286, 0.10157416294190584), (4287, 0.0022542459110680493), (4288, 0.11808148844105258), (4289, 0.006478594480117542), (4290, 0.0), (4291, 0.0), (4292, 0.029487090322297488), (4293, 0.009227081300487243), (4294, 0.0), (4295, 0.002491230871789142), (4296, 0.0019005877729636413), (4297, 0.0), (4298, 0.0026768708395889084), (4299, 0.0632344087900406), (4300, 0.0), (4301, 0.0016188501658483188), (4302, 0.0), (4303, 0.0), (4304, 0.09324028308972869), (4305, 0.02719721773049359), (4306, 0.002697615363773059), (4307, 0.0), (4308, 0.002392838064968615), (4309, 0.032676156992063304), (4310, 0.0), (4311, 0.001772731968240122), (4312, 0.0), (4313, 0.0), (4314, 0.0), (4315, 0.0), (4316, 0.0), (4317, 0.0), (4318, 0.002305660797048741), (4319, 0.0), (4320, 0.002176427636938632), (4321, 0.06166896108881815), (4322, 0.08438697342947583), (4323, 0.0), (4324, 0.034694947690150794), (4325, 0.005645831419648227), (4326, 0.0020004752877909064), (4327, 0.050919603862451535), (4328, 0.0), (4329, 0.03213506022894489), (4330, 0.00218318573015908), (4331, 0.0), (4332, 0.0), (4333, 0.002455258478005736), (4334, 0.002255179814137252), (4335, 0.006933193992722746), (4336, 0.002107594293992025), (4337, 0.07308885404775473), (4338, 0.018264713523877305), (4339, 0.0), (4340, 0.0022567124438350344), (4341, 0.0), (4342, 0.0), (4343, 0.017327659029571604), (4344, 0.0018651797481111223), (4345, 0.0020696944474369603), (4346, 0.0), (4347, 0.0), (4348, 0.002006588282212338), (4349, 0.0021455549586848074), (4350, 0.0019667031027006013), (4351, 0.049418678731493026), (4352, 0.0), (4353, 0.0), (4354, 0.0022825721985176967), (4355, 0.0023245320146094775), (4356, 0.0020292503621802504), (4357, 0.0023258916963958243), (4358, 0.0), (4359, 0.059137945781192004), (4360, 0.0), (4361, 0.0022701122643818666), (4362, 0.0021364836127694097), (4363, 0.0022852946344650176), (4364, 0.0), (4365, 0.0), (4366, 0.005473049197679894), (4367, 0.0), (4368, 0.0024556959358419317), (4369, 0.038516488915385574), (4370, 0.0), (4371, 0.0023398415867347997), (4372, 0.0), (4373, 0.0), (4374, 0.03755717483119345), (4375, 0.056624895365659164), (4376, 0.0), (4377, 0.0), (4378, 0.0), (4379, 0.03810662165304876), (4380, 0.01238906443193483), (4381, 0.002115333576958623), (4382, 0.00210988698279205), (4383, 0.0), (4384, 0.0), (4385, 0.019075625845483897), (4386, 0.0018818540038082327), (4387, 0.00806278907238232), (4388, 0.0), (4389, 0.0), (4390, 0.031032790995773402), (4391, 0.0022050931257990816), (4392, 0.0), (4393, 0.0), (4394, 0.0021651957690477196), (4395, 0.0021227164320370604), (4396, 0.0024412039969611693), (4397, 0.0024283717955755697), (4398, 0.0025213151476353624), (4399, 0.03163974133699083), (4400, 0.0027815198407673387), (4401, 0.002437845710814975), (4402, 0.0020175986873638635), (4403, 0.050429361015266794), (4404, 0.031974661199616096), (4405, 0.0), (4406, 0.0), (4407, 0.06302089908750144), (4408, 0.0), (4409, 0.0021690610953772546), (4410, 0.0), (4411, 0.023325645184864977), (4412, 0.002555994356054713), (4413, 0.0), (4414, 0.0), (4415, 0.0), (4416, 0.0025683909550471185), (4417, 0.0), (4418, 0.0028657051584670286), (4419, 0.002274705176504265), (4420, 0.002300780925647451), (4421, 0.0), (4422, 0.024903283152215554), (4423, 0.002829413388066067), (4424, 0.0), (4425, 0.0), (4426, 0.0), (4427, 0.03344107743967609), (4428, 0.002071892282252584), (4429, 0.0018945144282770659), (4430, 0.002284504111141761), (4431, 0.002333483808371752), (4432, 0.0019098191415327804), (4433, 0.057883669228685514), (4434, 0.0), (4435, 0.008308346085430268), (4436, 0.006563629924206352), (4437, 0.0), (4438, 0.0), (4439, 0.0), (4440, 0.007784331773162992), (4441, 0.0), (4442, 0.00802049121526206), (4443, 0.0026729600897973495), (4444, 0.0028582591869778396), (4445, 0.0016380249805613763), (4446, 0.0023935847263326865), (4447, 0.0), (4448, 0.0022787075095261327), (4449, 0.05407060961343731), (4450, 0.0053957836810166115), (4451, 0.0), (4452, 0.0), (4453, 0.0), (4454, 0.0), (4455, 0.0), (4456, 0.0), (4457, 0.0), (4458, 0.0026023367393713994), (4459, 0.024094530864365218), (4460, 0.0), (4461, 0.00210055586207772), (4462, 0.032218621515751764), (4463, 0.0), (4464, 0.0), (4465, 0.016452851611487282), (4466, 0.03258893682832425), (4467, 0.0), (4468, 0.0), (4469, 0.010331456962206158), (4470, 0.002249587174157433), (4471, 0.002313832837171019), (4472, 0.002109205315609317), (4473, 0.020148378520543058), (4474, 0.008706483531791053), (4475, 0.007435793963454459), (4476, 0.0018671146718106572), (4477, 0.009660437280022563), (4478, 0.0), (4479, 0.0020096221348015987), (4480, 0.0), (4481, 0.005815734051544224), (4482, 0.03104069735770932), (4483, 0.0), (4484, 0.0029091822689204625), (4485, 0.0), (4486, 0.03586043160626086), (4487, 0.0021497008475087004), (4488, 0.0), (4489, 0.0023141818228604024), (4490, 0.0025876487515919025), (4491, 0.0), (4492, 0.0), (4493, 0.0), (4494, 0.0024649874977400615), (4495, 0.002337132864383243), (4496, 0.0), (4497, 0.0022844176262716174), (4498, 0.07694515365825656), (4499, 0.0), (4500, 0.0), (4501, 0.002204466880558297), (4502, 0.007552216195632011), (4503, 0.008339422912941477), (4504, 0.002105927783090636), (4505, 0.020009961847374864), (4506, 0.0), (4507, 0.0025062361030384495), (4508, 0.0), (4509, 0.0), (4510, 0.006460667446952377), (4511, 0.0021702106117816337), (4512, 0.006820277900821932), (4513, 0.0), (4514, 0.0), (4515, 0.0), (4516, 0.002502063900895153), (4517, 0.0336811591206618), (4518, 0.020299719892558934), (4519, 0.0), (4520, 0.002160008898042854), (4521, 0.0027235021051286233), (4522, 0.0023778549291808945), (4523, 0.08049392782315394), (4524, 0.0), (4525, 0.0), (4526, 0.0), (4527, 0.0), (4528, 0.0023696198670146978), (4529, 0.0029255746193419035), (4530, 0.0021339504387153175), (4531, 0.00916389278522273), (4532, 0.0), (4533, 0.027865617972229764), (4534, 0.030438910384877553), (4535, 0.0024422118299725157), (4536, 0.002084637745341078), (4537, 0.0), (4538, 0.025199143026429904), (4539, 0.0), (4540, 0.002344524564664972), (4541, 0.0), (4542, 0.030942348632800314), (4543, 0.005862943975644151), (4544, 0.00272196973598129), (4545, 0.002361231267479132), (4546, 0.002820421903818187), (4547, 0.0), (4548, 0.0), (4549, 0.0), (4550, 0.0021152873144727885), (4551, 0.009151132552598659), (4552, 0.0), (4553, 0.005322406454054474), (4554, 0.009829229290549324), (4555, 0.003288543629792494), (4556, 0.0), (4557, 0.0396548964385874), (4558, 0.0), (4559, 0.0), (4560, 0.0), (4561, 0.0), (4562, 0.0), (4563, 0.0022374508981846783), (4564, 0.0), (4565, 0.0), (4566, 0.002300156180836109), (4567, 0.0020853957885453188), (4568, 0.0), (4569, 0.0), (4570, 0.0), (4571, 0.0034671984198121827), (4572, 0.0026779152333632743), (4573, 0.002115235601240958), (4574, 0.0023362807593548065), (4575, 0.0023086744870023466), (4576, 0.0021193046360644843), (4577, 0.0), (4578, 0.0), (4579, 0.002351890034004618), (4580, 0.0), (4581, 0.006143624569550028), (4582, 0.027916271220440485), (4583, 0.06042651392591287), (4584, 0.002565222034467201), (4585, 0.0), (4586, 0.0), (4587, 0.02982814459077551), (4588, 0.0), (4589, 0.0025539041624687694), (4590, 0.001953827225521964), (4591, 0.002029349545865833), (4592, 0.0), (4593, 0.0024262809656696647), (4594, 0.002570069994653819), (4595, 0.0), (4596, 0.014738427271170937), (4597, 0.0), (4598, 0.07790679016287391), (4599, 0.0), (4600, 0.0), (4601, 0.0023882621004384934), (4602, 0.0023939767284815575), (4603, 0.002035339167094322), (4604, 0.0021937548134993825), (4605, 0.0024236926403656722), (4606, 0.0027623670973100775), (4607, 0.003168463682000833), (4608, 0.0019362885467954305), (4609, 0.0), (4610, 0.006939816673331002), (4611, 0.0029083788494921946), (4612, 0.0027163452013481606), (4613, 0.0), (4614, 0.0020841681715351363), (4615, 0.0), (4616, 0.041753957510864755), (4617, 0.011309252026778654), (4618, 0.0), (4619, 0.009123360831034261), (4620, 0.0019936332667027626), (4621, 0.0363816441661111), (4622, 0.0), (4623, 0.006064949205585809), (4624, 0.0022880461589724396), (4625, 0.02827043210099666), (4626, 0.0017641039383855443), (4627, 0.0018722716701764992), (4628, 0.06460604698033082), (4629, 0.002276209593432107), (4630, 0.0), (4631, 0.0), (4632, 0.0025724187874753557), (4633, 0.03050703013852705), (4634, 0.017639635190210914), (4635, 0.0), (4636, 0.0018400527501982037), (4637, 0.009811876957323776), (4638, 0.001990395380921822), (4639, 0.0), (4640, 0.002186004227966755), (4641, 0.002131521351899414), (4642, 0.0), (4643, 0.002244442349314725), (4644, 0.0), (4645, 0.0), (4646, 0.0), (4647, 0.0), (4648, 0.0), (4649, 0.0020038338518411952), (4650, 0.0025145844513250093), (4651, 0.0), (4652, 0.0016677943901375206), (4653, 0.03826436602488043), (4654, 0.0), (4655, 0.0), (4656, 0.006563694985437098), (4657, 0.0023467131194543746), (4658, 0.007949573184068501), (4659, 0.0), (4660, 0.0026906335844444954), (4661, 0.0019341297175982787), (4662, 0.0), (4663, 0.0382530659985477), (4664, 0.0), (4665, 0.0), (4666, 0.0), (4667, 0.01959383713597981), (4668, 0.002149972040783736), (4669, 0.009005936853011062), (4670, 0.002090114066660254), (4671, 0.0), (4672, 0.0), (4673, 0.008008813805046028), (4674, 0.001752489539517523), (4675, 0.0), (4676, 0.0), (4677, 0.02435704788534323), (4678, 0.0), (4679, 0.012621046835547732), (4680, 0.00233294924548775), (4681, 0.0), (4682, 0.0), (4683, 0.031402082741284205), (4684, 0.03814947688927337), (4685, 0.002142205840228438), (4686, 0.002195271484245517), (4687, 0.0021335227428669577), (4688, 0.0694328002300732), (4689, 0.0), (4690, 0.0), (4691, 0.0), (4692, 0.002723691094013223), (4693, 0.002119502512171383), (4694, 0.002563750364339063), (4695, 0.0), (4696, 0.002858558454907583), (4697, 0.0), (4698, 0.0), (4699, 0.03777336097263112), (4700, 0.0), (4701, 0.0026005480217722826), (4702, 0.0), (4703, 0.0), (4704, 0.002980837003525098), (4705, 0.0031196498844413764), (4706, 0.002424144733431457), (4707, 0.0068175711481229615), (4708, 0.0), (4709, 0.008273672164940203), (4710, 0.0027580596050715976), (4711, 0.0), (4712, 0.030158858557950464), (4713, 0.002525879214673397), (4714, 0.0), (4715, 0.0021875980922564553), (4716, 0.0), (4717, 0.0025764324566259905), (4718, 0.002447148233525338), (4719, 0.004225989687398567), (4720, 0.0), (4721, 0.038951661714637646), (4722, 0.015563235783281624), (4723, 0.0026678222425464454), (4724, 0.010193121056184116), (4725, 0.020413285867996126), (4726, 0.025525225185940414), (4727, 0.0065389638793699745), (4728, 0.0), (4729, 0.0020958965197006795), (4730, 0.0), (4731, 0.002470448629609688), (4732, 0.0023798882840161753), (4733, 0.0018206073253370105), (4734, 0.0023580354040217727), (4735, 0.00978484921626476), (4736, 0.016711965081580172), (4737, 0.0), (4738, 0.0), (4739, 0.016862012676943934), (4740, 0.0), (4741, 0.0), (4742, 0.0), (4743, 0.0021289909701673734), (4744, 0.0017688223238032303), (4745, 0.0), (4746, 0.0), (4747, 0.007005264862883252), (4748, 0.0018897317766346144), (4749, 0.002928280019717452), (4750, 0.0), (4751, 0.0), (4752, 0.017261884702656296), (4753, 0.0024880486274863386), (4754, 0.0), (4755, 0.0), (4756, 0.002264801897384745), (4757, 0.0022913862997224403), (4758, 0.0), (4759, 0.0)]\n"
          ]
        }
      ]
    },
    {
      "cell_type": "code",
      "source": [
        "len(Recommendation_Score)"
      ],
      "metadata": {
        "id": "vuQ4KB21wRMa",
        "colab": {
          "base_uri": "https://localhost:8080/"
        },
        "outputId": "e4d6b9d1-78d2-4a5c-9d31-1b457a63065f"
      },
      "execution_count": null,
      "outputs": [
        {
          "output_type": "execute_result",
          "data": {
            "text/plain": [
              "4760"
            ]
          },
          "metadata": {},
          "execution_count": 30
        }
      ]
    },
    {
      "cell_type": "markdown",
      "source": [
        "#**Get All Movies Sort Based on Recommendation Score wrt Favorite Movie**"
      ],
      "metadata": {
        "id": "pY8g9K56wjFC"
      }
    },
    {
      "cell_type": "code",
      "source": [
        "# sorting the movies based on their similarity score\n",
        "Sorted_Similar_Movies = sorted(Recommendation_Score, key = lambda x:x[1], reverse = True)\n",
        "print(Sorted_Similar_Movies)"
      ],
      "metadata": {
        "id": "4Engy8zbwiRm",
        "colab": {
          "base_uri": "https://localhost:8080/"
        },
        "outputId": "65b7da9f-c392-4acb-9585-42af4d936c08"
      },
      "execution_count": null,
      "outputs": [
        {
          "output_type": "stream",
          "name": "stdout",
          "text": [
            "[(256, 1.0000000000000002), (1647, 0.1692855094838092), (1080, 0.16294958089491907), (1562, 0.15031127357002314), (3005, 0.14425171534446568), (940, 0.14257083334273743), (1226, 0.13635062764869207), (2269, 0.136230871816428), (1295, 0.13169891222180655), (3956, 0.12591503772020757), (541, 0.12319762487733692), (1964, 0.12220110779486906), (2845, 0.12145088644361528), (3092, 0.12089627069158185), (705, 0.11925186240845363), (1281, 0.11844510935932337), (4288, 0.11808148844105258), (1553, 0.11645618158131676), (2585, 0.11564979892037484), (3614, 0.11528636816009594), (1454, 0.11410737861746875), (2981, 0.11272006071826501), (3297, 0.11198538394153806), (2624, 0.11013953054928374), (1802, 0.10724988146950976), (1484, 0.10647399056129338), (2104, 0.10605341917403852), (1582, 0.10558047761394922), (1970, 0.10544894418678681), (2250, 0.10516331075249888), (4286, 0.10157416294190584), (3179, 0.10111659788375708), (3149, 0.10085603153650119), (3085, 0.09988855839501072), (1505, 0.09740303840044207), (2340, 0.09631001703777142), (3318, 0.0962039366606653), (1255, 0.09563869087323362), (1101, 0.0954333190284544), (1314, 0.09508973944401528), (810, 0.09502290080546422), (2617, 0.09411071991129297), (4304, 0.09324028308972869), (2323, 0.09083445600056439), (1919, 0.09081471755039462), (1353, 0.09030388033440219), (1480, 0.09027284052543222), (1083, 0.08985160331053256), (856, 0.0898472057890078), (3331, 0.08980445581247587), (2429, 0.08943530662829052), (1394, 0.08917915131633371), (1974, 0.08875762661572105), (3328, 0.08796620081562107), (3083, 0.08728023461197622), (636, 0.087214415086999), (709, 0.08673960564135581), (1614, 0.08558396772677182), (892, 0.0853101448302066), (2968, 0.08446101818273755), (4322, 0.08438697342947583), (1829, 0.08422748225692915), (237, 0.08410563378075099), (2689, 0.08407879779412451), (1074, 0.08372244346919865), (1944, 0.08066459629505676), (4523, 0.08049392782315394), (3377, 0.08036772481676806), (901, 0.07957411004959102), (412, 0.07848834210133943), (2835, 0.07838972441327985), (3659, 0.07837599821383862), (4598, 0.07790679016287391), (270, 0.07749050615572219), (1156, 0.07707593397440575), (3857, 0.07703718331972823), (4498, 0.07694515365825656), (1018, 0.07678208328370541), (1243, 0.07565198385814084), (3101, 0.07513440335395058), (4263, 0.07490377749663661), (1003, 0.0747967865156225), (2978, 0.0746793227387888), (1493, 0.07460048597786889), (2949, 0.07410897377178753), (2356, 0.07387009350354057), (1983, 0.07380182522135471), (2578, 0.07334991344664585), (2762, 0.07309110054501813), (4337, 0.07308885404775473), (893, 0.07268898884375449), (418, 0.07264681557098072), (3283, 0.07256224023198679), (3415, 0.07227291100921357), (3285, 0.0722245234384752), (3073, 0.07219820722168124), (1544, 0.07213400700883033), (873, 0.0719364015489196), (285, 0.07174900026306327), (3528, 0.07127978743308702), (3225, 0.07107589615310585), (1479, 0.07104477736542843), (192, 0.07005901857926851), (1633, 0.06992124806769529), (1362, 0.06977184920492549), (3333, 0.0695857068603318), (4688, 0.0694328002300732), (2746, 0.06914751422749313), (2228, 0.06893595740536322), (930, 0.06875333070329206), (4148, 0.06841155042030864), (517, 0.06840584740878766), (4125, 0.06836753077264357), (1361, 0.06823853658314999), (1248, 0.06808360789081513), (1504, 0.06802251014992244), (515, 0.06800639114182717), (2353, 0.06777259977194224), (1103, 0.06744939855534508), (3915, 0.06733045721537542), (2322, 0.06726855505011352), (1261, 0.06715375557482355), (500, 0.06696735863482084), (126, 0.06685903282990628), (3650, 0.06669816564833608), (2131, 0.0666294240263708), (1595, 0.06661628023511748), (2029, 0.06646199223284123), (3289, 0.06638349884647142), (1173, 0.06630163162746802), (2919, 0.06615373685287716), (3637, 0.06597919188099657), (1153, 0.06582998747945368), (198, 0.06572225114594524), (1533, 0.065706958587428), (96, 0.06558477591803506), (1175, 0.0653712579316527), (1824, 0.06518275010368885), (422, 0.06489162993182492), (900, 0.06485000576322526), (1469, 0.0647993052278766), (2766, 0.06466654658350901), (4628, 0.06460604698033082), (708, 0.06457958633708724), (3147, 0.06456992797939358), (213, 0.06455435464042221), (2297, 0.06452135551666602), (1536, 0.06432188230515784), (2759, 0.06414110724367961), (769, 0.06392736120019152), (3533, 0.06381581260783306), (3389, 0.06379040476420801), (2347, 0.06375995543448777), (3833, 0.06356620859333188), (1026, 0.06356237058097926), (1068, 0.06351551169086196), (304, 0.06331955869386356), (2100, 0.06329646642715059), (4299, 0.0632344087900406), (4407, 0.06302089908750144), (959, 0.06291653974276094), (805, 0.06288801966555949), (2480, 0.06205538782006399), (4063, 0.06199600075472453), (2822, 0.061932082309071004), (3498, 0.06189015643405373), (2747, 0.06172797218008001), (1272, 0.06167315169104448), (4321, 0.06166896108881815), (1130, 0.06133479321313646), (733, 0.06131195432360988), (33, 0.06129604264732633), (2598, 0.061284538076428766), (1468, 0.06121135768289863), (4, 0.061144232726418446), (1784, 0.06100028482532566), (3433, 0.060991986318359), (694, 0.06091292198450466), (2899, 0.0608914338782642), (2548, 0.060822864268083504), (106, 0.060692990411505894), (3243, 0.06066830669179138), (2276, 0.060575721844493766), (211, 0.060572472945053725), (773, 0.06055145194634373), (655, 0.06048904192018803), (4583, 0.06042651392591287), (703, 0.06040919873591193), (2465, 0.06032639841835322), (958, 0.06016545347149373), (3642, 0.06012375082687635), (1052, 0.05996759855769511), (638, 0.05970093175947834), (1754, 0.059444007457993706), (524, 0.059423253302952346), (1532, 0.059415274978607), (445, 0.05937649458260528), (4022, 0.05932993364939369), (4359, 0.059137945781192004), (3853, 0.059102543479296), (2965, 0.05866351195715226), (4159, 0.05866216051197556), (3580, 0.05859529562098757), (1827, 0.058575156527995706), (3336, 0.058302888968068116), (2591, 0.05811343531863658), (1402, 0.058087932627948875), (4433, 0.057883669228685514), (3559, 0.05788238428874569), (1202, 0.05768523701283368), (816, 0.05767554637409045), (2801, 0.05762651094993176), (3380, 0.05750089215048221), (397, 0.05723057472403548), (120, 0.05718172266621863), (4153, 0.057040140770644364), (695, 0.05697260493308626), (2626, 0.05697082571950769), (1492, 0.056964518734896774), (2760, 0.056754605376883996), (4375, 0.056624895365659164), (44, 0.056611102670555156), (1956, 0.05640878030993175), (2142, 0.056191059719220796), (688, 0.05561096027777177), (3315, 0.05535879895300949), (2056, 0.055356440398195116), (3200, 0.0550375496254468), (3344, 0.05501126377476049), (2824, 0.05499134714523267), (2227, 0.0546973703768243), (951, 0.0546825618088638), (3394, 0.05458764001629884), (1756, 0.05449274595217303), (1329, 0.0543470942255568), (1559, 0.054172041481592104), (3856, 0.05417078679939422), (1367, 0.05409332200727302), (4449, 0.05407060961343731), (3279, 0.05363546054137725), (1779, 0.05344706186152989), (786, 0.0534397797887238), (1455, 0.053198101345184434), (4059, 0.05319035809504746), (2622, 0.05310502863608431), (1167, 0.05260753851551101), (742, 0.05207129409155326), (2699, 0.05202819487408788), (3716, 0.05194640925648018), (3071, 0.051886088977578196), (141, 0.05181728604472949), (2661, 0.05181197525602093), (3142, 0.05168637005165254), (20, 0.05162660237533076), (2982, 0.051571026011092896), (3508, 0.05134100388583107), (3362, 0.05129264264882043), (3839, 0.05109471013398715), (1407, 0.05102981160158163), (704, 0.051010270316117774), (2627, 0.050975278420821946), (4327, 0.050919603862451535), (142, 0.050908828034154065), (2213, 0.05072154793641495), (1643, 0.050670733473750555), (1626, 0.05053178906558775), (4403, 0.050429361015266794), (3211, 0.050174411339723515), (562, 0.05006069741594733), (144, 0.04957735056337628), (4351, 0.049418678731493026), (2934, 0.04912295926145892), (1689, 0.0490997774364937), (4048, 0.04900259979464637), (2197, 0.048994326206806486), (824, 0.04829963518927088), (3993, 0.04820082400428072), (3769, 0.048182750556353425), (1163, 0.04817935658450528), (36, 0.048070546709399024), (2321, 0.047907029258161815), (1634, 0.047835881163473024), (99, 0.047386401483155385), (3754, 0.04734011003335122), (2645, 0.04733292177025811), (3957, 0.04720008833939813), (1042, 0.04719065998587904), (272, 0.047161792003036926), (2017, 0.047029454893297254), (3815, 0.046982421337882864), (4097, 0.046945676271673384), (2685, 0.046767452198128834), (566, 0.046516016826038724), (3099, 0.046403374585747136), (2037, 0.04620635554126003), (854, 0.04606131233370612), (4067, 0.04596256561645202), (3594, 0.04590039874037261), (1420, 0.04589487416250288), (3965, 0.045860034024033734), (3391, 0.045543879624380716), (109, 0.04551419202942347), (4182, 0.045505239100160945), (1852, 0.04544331798660274), (1832, 0.04539436753065283), (3595, 0.04513635046102527), (2443, 0.04466329281529158), (3597, 0.04448915697126423), (1436, 0.04440473808253275), (3959, 0.044397872848478966), (2614, 0.04436319955185501), (1858, 0.044271988418645616), (486, 0.04425396842219426), (3516, 0.04409248411215425), (844, 0.044037830970810946), (2158, 0.043587523885195094), (2031, 0.043552932217288544), (1985, 0.04353607833424289), (1282, 0.043421153681258394), (2739, 0.04341973641946311), (1795, 0.04341899967742316), (3823, 0.04332795123950077), (1306, 0.04315762058102715), (3407, 0.043131334260154995), (2170, 0.0430948408509781), (790, 0.043079627426049316), (481, 0.043027865850380397), (2720, 0.04302557419559406), (4233, 0.04301818617071798), (770, 0.04256348403936264), (2162, 0.042488629710845986), (85, 0.042472505542808896), (382, 0.0423851007570961), (195, 0.042195400236525835), (1339, 0.04205499504045141), (2196, 0.04184046346807277), (4616, 0.041753957510864755), (4109, 0.04169665972753589), (4178, 0.0415446362602051), (874, 0.04150038134141263), (2463, 0.04131998627263377), (3182, 0.041299553837435096), (3707, 0.04126275830348072), (2246, 0.04123033112824656), (543, 0.04120807947165838), (2629, 0.041124697331249606), (447, 0.041083742665662185), (875, 0.04103027047396452), (456, 0.0409756229484473), (3466, 0.040923510265245065), (1096, 0.04089563832552186), (70, 0.040888532001355095), (3127, 0.04065170714804021), (205, 0.040619391509900626), (3235, 0.0405763217256206), (4054, 0.04035983871599156), (3803, 0.040318795753118315), (166, 0.040318247191175424), (367, 0.040204085659239365), (1707, 0.04010808307921237), (1816, 0.04006603151166526), (5, 0.03968330416088574), (234, 0.03966081640421784), (4557, 0.0396548964385874), (3308, 0.03963485114076243), (217, 0.03958729966003955), (64, 0.03951170108697503), (3076, 0.039504241570076086), (4045, 0.03949432465275869), (855, 0.03942528448269363), (976, 0.03940230446151288), (3524, 0.03938948043867126), (3807, 0.03935812877078234), (1005, 0.03920123714173172), (1680, 0.039129570385589396), (4053, 0.03909493770391259), (4721, 0.038951661714637646), (2924, 0.038826572700522255), (2710, 0.038822968780469994), (1451, 0.038801109895237273), (3320, 0.03879727130769626), (1019, 0.038770599421298166), (443, 0.03872257908920673), (3408, 0.03871553384554565), (157, 0.038612089574819215), (2852, 0.03855912221379635), (4369, 0.038516488915385574), (1138, 0.038503122977667545), (2218, 0.038386409906440405), (3477, 0.03834999185625059), (4653, 0.03826436602488043), (1585, 0.03825480139941729), (4663, 0.0382530659985477), (1623, 0.038251232748733974), (506, 0.038230362647046004), (440, 0.038219921546274904), (739, 0.03820217086332078), (4684, 0.03814947688927337), (4003, 0.03814174021258896), (4379, 0.03810662165304876), (3611, 0.03803926535181904), (4028, 0.03803908148216563), (1100, 0.03803492343022116), (2264, 0.03802169083497799), (1084, 0.03789645317025403), (1296, 0.03787523198738658), (2950, 0.037873832313917354), (52, 0.03783042263675596), (482, 0.03781369219772001), (4699, 0.03777336097263112), (751, 0.037766082201513784), (935, 0.03770937948411044), (3421, 0.0376571232205632), (2675, 0.03761356151488625), (633, 0.03758012011286104), (4374, 0.03755717483119345), (1594, 0.03748348505759662), (420, 0.037437757847771064), (408, 0.03740741449591358), (2368, 0.03730158365443575), (743, 0.037227546843273084), (1509, 0.03713006835788131), (2693, 0.03708246226943038), (3797, 0.03704731091152295), (1034, 0.03703733097978219), (2280, 0.03703222219880967), (749, 0.037020231034268304), (967, 0.03696230392071568), (2447, 0.036952816170768094), (4173, 0.03694286532017995), (613, 0.036848097052918166), (3860, 0.036824905878708084), (1107, 0.03681212304718691), (3691, 0.03680105223178333), (3109, 0.03677358854404714), (2410, 0.036727085027893645), (2908, 0.03668659084337713), (3234, 0.036594044125707256), (244, 0.03657120562028371), (2022, 0.03654659599268859), (325, 0.036546586905490654), (4621, 0.0363816441661111), (401, 0.03636568397049766), (883, 0.03635946326320248), (3889, 0.03630812689410744), (3208, 0.03629671289703867), (342, 0.03629116852548752), (2057, 0.03625426128061014), (2440, 0.03621572345031562), (2998, 0.0361780607415766), (4281, 0.036171723147262774), (2477, 0.0361711205301293), (4216, 0.036127607195665074), (1694, 0.036060967828089346), (1143, 0.036054241330740075), (791, 0.0359651861837499), (2077, 0.03596021676270367), (395, 0.035919197640393044), (3117, 0.03587824441130392), (27, 0.035867352228117405), (4486, 0.03586043160626086), (1140, 0.03584641240415736), (2931, 0.035790296457864), (2180, 0.035775092195534076), (460, 0.03571399309907643), (1324, 0.03571185897454228), (307, 0.03570265592220216), (4169, 0.035661915217594334), (74, 0.0356057670527094), (2496, 0.03559532182857264), (2821, 0.035541198790793), (4150, 0.0355262252326942), (2096, 0.035508606921917533), (4036, 0.035397983052975056), (3406, 0.03533184288641267), (3640, 0.03531737155536468), (470, 0.0353094002889586), (1920, 0.03519332310243699), (830, 0.035192550548499534), (2985, 0.035063039695410254), (845, 0.03504905359127372), (2118, 0.03504098270302353), (968, 0.035033809603508596), (3919, 0.034997294842171796), (2040, 0.03498588859977604), (204, 0.03497603590001751), (2777, 0.03493458374498716), (4089, 0.034858723292894994), (34, 0.03483684662317486), (2650, 0.03478340365921723), (4262, 0.034757328931931196), (4324, 0.034694947690150794), (265, 0.03460980250278607), (4050, 0.03457220300316511), (606, 0.034570842851108355), (3387, 0.034560446972106626), (216, 0.03453803634122963), (2988, 0.03452939770190027), (435, 0.03452689817915836), (377, 0.0344944636587228), (1318, 0.0344919381395384), (122, 0.034437047923655574), (1184, 0.03443638208296613), (982, 0.03442764523986451), (871, 0.03439869294746946), (3051, 0.03437491622459066), (2724, 0.03436650882620124), (946, 0.034360282409978515), (2894, 0.034355772404460486), (1221, 0.03434244590712008), (677, 0.03429864362691206), (3000, 0.034277736094670413), (3802, 0.03426926333924611), (1753, 0.034257597177256044), (115, 0.03423264610455312), (1936, 0.03421662009542802), (4226, 0.03421476284621382), (969, 0.0341710747008878), (487, 0.03410426803629752), (291, 0.03407546376677702), (3842, 0.03402583978895234), (1785, 0.03395200693326056), (3976, 0.03393747640964954), (2258, 0.03393700882141998), (3938, 0.033933484947553834), (3386, 0.03392205198516534), (317, 0.03386472192795396), (3335, 0.03382605538258259), (4174, 0.03378904820472903), (182, 0.03374561157007502), (3510, 0.0337397301001839), (3534, 0.033736694529947146), (792, 0.03368633265969359), (4517, 0.0336811591206618), (567, 0.033670859980845624), (1933, 0.03365702759254826), (697, 0.03361860370346848), (1903, 0.03356465717909198), (3175, 0.033536551878527554), (3774, 0.03351305934289626), (1575, 0.03350981879340098), (2558, 0.033483061081186614), (1616, 0.03344918244024177), (4427, 0.03344107743967609), (46, 0.03334926271263272), (2853, 0.03331091483185261), (4056, 0.03329774667755983), (986, 0.033288767090781705), (425, 0.0332121684915852), (2516, 0.03316079617771968), (2819, 0.03315385329048337), (3435, 0.03315325436321113), (1059, 0.03313967729159595), (1943, 0.03313001641207138), (1831, 0.033102021301717036), (4105, 0.03309763466189003), (2512, 0.03307514549008681), (3747, 0.033055109154099135), (61, 0.03305286044774592), (1550, 0.03301217440060289), (2790, 0.032905909462845724), (2069, 0.03289333903454678), (417, 0.03284762139916556), (4020, 0.03284407798648305), (1429, 0.03273196853247454), (4309, 0.032676156992063304), (149, 0.032672712847621015), (1775, 0.03265653991656422), (3310, 0.03264907020528481), (2553, 0.032638632023918285), (2085, 0.032607246781071166), (127, 0.03259788706998717), (4466, 0.03258893682832425), (1613, 0.03255343590658911), (4275, 0.03244984156293341), (3847, 0.03241417264021132), (189, 0.03240900606395247), (1030, 0.03240703381253906), (2181, 0.03236115576863712), (2571, 0.03234526486675615), (1645, 0.03234236521522468), (3463, 0.03228443946798433), (3010, 0.03228347093034755), (1463, 0.032278727061582795), (4192, 0.03226006998127809), (4462, 0.032218621515751764), (3352, 0.032194970536353514), (293, 0.03213861099018185), (4329, 0.03213506022894489), (3868, 0.03203338705297043), (93, 0.0320326096069166), (4155, 0.03198359042645254), (4404, 0.031974661199616096), (1085, 0.03190556116368407), (3102, 0.03189724868190775), (3589, 0.03184092693806654), (2366, 0.03182026122249667), (2445, 0.03177989746963429), (2355, 0.03173273628741498), (1301, 0.0316505308893571), (4399, 0.03163974133699083), (388, 0.03160449878274767), (2212, 0.031599541983058005), (1177, 0.03153698757320202), (1568, 0.031509327877897154), (3382, 0.031497383948978316), (3456, 0.031472895847867215), (828, 0.03147017109619595), (4060, 0.03146290387655133), (71, 0.03144307992477606), (2001, 0.031423959425797635), (4683, 0.031402082741284205), (886, 0.03138644614706668), (3047, 0.031354775248642594), (975, 0.031341151148825644), (1873, 0.03132765930000561), (4006, 0.03127824839343687), (3188, 0.03126101268285079), (1133, 0.03122938396897492), (659, 0.031185083117429496), (1720, 0.0311716318740617), (3750, 0.031162455366350227), (2014, 0.031127586264517), (579, 0.031112635281965437), (1379, 0.031099826424079213), (4482, 0.03104069735770932), (4390, 0.031032790995773402), (2129, 0.031021527876141493), (1239, 0.031012381802176702), (2408, 0.03099063942306313), (4542, 0.030942348632800314), (1448, 0.030934513114851337), (375, 0.030929860669102253), (415, 0.030922314531950792), (1913, 0.030884924290947816), (15, 0.030879578299686183), (1253, 0.030859922798233873), (1887, 0.03085496544860032), (88, 0.030833708704343585), (3460, 0.030785367530780393), (4176, 0.030784070934522192), (3814, 0.030783335266240868), (2688, 0.03078321959478632), (1551, 0.03075961991239796), (1888, 0.030743705917997508), (4237, 0.03074004285730903), (94, 0.03071270494023146), (927, 0.030698735176868133), (4029, 0.030670527103721878), (1589, 0.030657066722863287), (84, 0.030643241537529033), (1782, 0.030619949749521497), (3329, 0.03060638832371837), (1569, 0.030568796437177217), (746, 0.03056206824851325), (1817, 0.03055366641089001), (2360, 0.03051546642639412), (2574, 0.03050772845123218), (4633, 0.03050703013852705), (4534, 0.030438910384877553), (3474, 0.030420956987088226), (2204, 0.0304163611412043), (2563, 0.03036131276290964), (1592, 0.030353133433167485), (277, 0.030351199422271335), (878, 0.030267384106000328), (2222, 0.030239397393774875), (2003, 0.03023559819596083), (1347, 0.03022944993784919), (1344, 0.03022917402696692), (3011, 0.030221464112653328), (4712, 0.030158858557950464), (3872, 0.03015821839071051), (3141, 0.030152214846519757), (4074, 0.030128436410706495), (2660, 0.030090832966115894), (1561, 0.030082022549081468), (427, 0.030019234609617165), (1545, 0.03001149417988859), (3167, 0.029981891521365933), (3111, 0.02996402201932237), (3985, 0.029918407499000328), (1375, 0.029899122107313016), (73, 0.029893200690170527), (1993, 0.029881319688634247), (1654, 0.029873800350294313), (1067, 0.02984960336386713), (4587, 0.02982814459077551), (2409, 0.029807656206240308), (2618, 0.02980688373136755), (2736, 0.029800133444610452), (1392, 0.029765848684731075), (1915, 0.029763444525998356), (1043, 0.029753779970710593), (3360, 0.029738184563123188), (463, 0.02969883806772706), (2318, 0.029683266900039577), (1428, 0.029667321728761187), (499, 0.029630543995358596), (2, 0.02962710596389098), (1597, 0.029565429920635974), (3077, 0.029555471458507163), (2098, 0.029535255283005452), (1981, 0.02953199567061032), (4292, 0.029487090322297488), (605, 0.029458469162386956), (1341, 0.02944895434396541), (3, 0.029431364469359046), (43, 0.02941378081879961), (3910, 0.029392113177493125), (647, 0.029374204520475716), (1804, 0.029364904150691602), (974, 0.02929768394103995), (1359, 0.029257092794047406), (565, 0.029231320664952837), (928, 0.029223022977270183), (1010, 0.029203911599295352), (924, 0.029161473293230652), (163, 0.029124513057993334), (2827, 0.029113289187450913), (1430, 0.029100921475623837), (240, 0.028968272443195792), (248, 0.028952920809113113), (658, 0.028950841659324555), (335, 0.02893324450558005), (2550, 0.028920371388913), (2497, 0.028904765369932015), (131, 0.028884798766601855), (1549, 0.028878400465771507), (3084, 0.0288775228224495), (309, 0.028814722012587918), (4177, 0.028765938522858192), (4274, 0.02869734190335463), (160, 0.0286863902133003), (3738, 0.028626108170060834), (1527, 0.028597902898664297), (870, 0.028572961502451134), (4193, 0.0284617170558912), (1340, 0.02843152359266349), (551, 0.02827669823838521), (4625, 0.02827043210099666), (1485, 0.028236214725877687), (1028, 0.02813803104223694), (2256, 0.02812016481334654), (4264, 0.028095242451495948), (3158, 0.028070913780178303), (1494, 0.028049281818655736), (1750, 0.027969589314413866), (2737, 0.027959070267996225), (4582, 0.027916271220440485), (3701, 0.02791301995301845), (1978, 0.02789417148214479), (4533, 0.027865617972229764), (604, 0.02776122559797142), (1071, 0.02770178899990031), (979, 0.027674359151888456), (3723, 0.02762890370686187), (3830, 0.027572763867895835), (3095, 0.027566639919927364), (2509, 0.027511979225965738), (756, 0.02748206278218042), (2742, 0.027376612038602966), (2805, 0.027367545602316114), (1075, 0.027345525711748385), (753, 0.027235394862788382), (4305, 0.02719721773049359), (4095, 0.02719563904241199), (3475, 0.027182332682467617), (825, 0.02715957660723505), (1249, 0.027133048863213386), (1021, 0.027120627776105723), (3673, 0.02711699939064842), (483, 0.027110548922848754), (2441, 0.027110181725384437), (1699, 0.027077684104558453), (2842, 0.02705868767205969), (1863, 0.027029155246522857), (1838, 0.02697100751626874), (490, 0.026961277343460117), (429, 0.02691009115634036), (719, 0.026896035156661738), (3129, 0.02688873630570789), (3958, 0.026838707400767367), (2352, 0.026746995070421168), (2000, 0.026678746342934195), (4018, 0.026674925496701456), (2403, 0.026663458442807108), (3471, 0.02661900034310291), (2152, 0.02661383694654059), (1596, 0.026604171693090577), (806, 0.026497956358325254), (3383, 0.026495273961856594), (4119, 0.026426401205057078), (3806, 0.026402640216959778), (3070, 0.026339337329107912), (51, 0.026293521438765073), (575, 0.026255068401174784), (1088, 0.0262368653258997), (2936, 0.026188099216081288), (646, 0.026183171003752257), (726, 0.026168875513665184), (993, 0.0261494825579058), (1342, 0.026134316823362147), (1747, 0.026053966874361546), (1038, 0.026038278638353254), (1848, 0.025941758243571953), (209, 0.02590950754049507), (1752, 0.02587561214719286), (582, 0.02581940252122079), (3601, 0.02570061781431373), (2474, 0.025685390897708608), (438, 0.02558528395530564), (2718, 0.025548372400516054), (4726, 0.025525225185940414), (3499, 0.02550137409145726), (734, 0.025499132489630073), (994, 0.0253969422043557), (3410, 0.025314530127026787), (4538, 0.025199143026429904), (1770, 0.025160477237422124), (2300, 0.025149561784256307), (1210, 0.025107735049031504), (4070, 0.02504990919463248), (294, 0.02491910869431929), (2776, 0.024916067868239522), (4422, 0.024903283152215554), (2217, 0.024891218712764247), (807, 0.02484868697676295), (1971, 0.02476777567126807), (1534, 0.02474488619710062), (667, 0.024701525840094753), (396, 0.024674635626141073), (740, 0.024626905997950664), (238, 0.024578721779399817), (3080, 0.024428810533953852), (3849, 0.024402886802044898), (3137, 0.02439180103059663), (4677, 0.02435704788534323), (3511, 0.024351907955453753), (3882, 0.024347785915548186), (1542, 0.024325481503653622), (212, 0.02429323038903414), (4008, 0.024284046181744203), (1725, 0.024229279569914768), (2770, 0.024209371343432366), (929, 0.02415031781339598), (252, 0.024117473710621527), (4459, 0.024094530864365218), (2659, 0.024087352961364248), (79, 0.024023311724516473), (1612, 0.023997029473989392), (2306, 0.023917371793191124), (2848, 0.02391205554601613), (2084, 0.023652557228554517), (4197, 0.02358404260615114), (1865, 0.023549425334161544), (3584, 0.02353748798847118), (1419, 0.023522935237425595), (2438, 0.023415548593630153), (692, 0.023369808923726844), (4411, 0.023325645184864977), (19, 0.023250788764979873), (2121, 0.022942100631243523), (3228, 0.02294154662795995), (3458, 0.02293638751089603), (124, 0.022819652831294054), (2619, 0.022765281954430592), (3798, 0.02273336355549475), (3658, 0.0227212046030585), (3570, 0.02266637942572466), (4220, 0.022567176006745206), (138, 0.022559224771183474), (2862, 0.022458488996120695), (1555, 0.022433898043491208), (1111, 0.022396130663584816), (2955, 0.022380597835933224), (3392, 0.02224489712747136), (4256, 0.022234245528329383), (2417, 0.02213392562026252), (2442, 0.022112753688673208), (3268, 0.02208004168268846), (1895, 0.022042580823895177), (2918, 0.0219747783505184), (3982, 0.021910990702749263), (1216, 0.021852455611423918), (3877, 0.021811345246589352), (3811, 0.021808911391810976), (3327, 0.02161547814922133), (2110, 0.02155690947944386), (2234, 0.021519298001841644), (4084, 0.021502357553089137), (1805, 0.021343643128763447), (4013, 0.021328235220834692), (1567, 0.02128289340575339), (1515, 0.021088754593575978), (1996, 0.021058534912996148), (1297, 0.02096977880430429), (266, 0.02094953981881253), (1960, 0.02093048469924557), (3824, 0.020917967157529815), (3780, 0.020916671043635406), (3973, 0.020857344273820737), (364, 0.02073202596757284), (3588, 0.020545568831127146), (4104, 0.02050589698376807), (787, 0.020477917602548405), (580, 0.02047073801660294), (664, 0.020445852119667953), (4725, 0.020413285867996126), (1845, 0.0203787634552803), (2240, 0.020301416016196516), (4518, 0.020299719892558934), (2649, 0.020278178195796973), (2123, 0.02027688470333994), (4473, 0.020148378520543058), (3016, 0.020110912568221697), (4505, 0.020009961847374864), (3996, 0.01993813549424268), (2844, 0.0199031520975047), (621, 0.019878760885264222), (4225, 0.019844208204173302), (1660, 0.019751625121917117), (2904, 0.01966235108737301), (4667, 0.01959383713597981), (631, 0.019437009537631847), (3785, 0.019370569735800456), (3430, 0.019256171343652772), (2374, 0.01915862774738201), (1351, 0.019143718118962066), (4385, 0.019075625845483897), (3098, 0.01903392203208528), (1511, 0.018903066225637904), (346, 0.018784367416278078), (3838, 0.018712557105130697), (3964, 0.018675846269555194), (3898, 0.01859019115915834), (365, 0.018569777938612288), (1710, 0.01855678265234459), (3260, 0.018547501103448147), (1882, 0.01852200381514563), (2487, 0.018506463959430758), (2226, 0.01848490365065934), (2114, 0.018451062718532724), (168, 0.01839017210791034), (1844, 0.01835906060272614), (2552, 0.0183153859622579), (2912, 0.018304720901491055), (4338, 0.018264713523877305), (4069, 0.01825935868695352), (2249, 0.018204967565695923), (3202, 0.018181302494320744), (3500, 0.018174793006851507), (3369, 0.018069845389683883), (1543, 0.018048533151981357), (578, 0.017841619515907747), (4242, 0.017834627519719218), (2004, 0.017767447562458846), (4634, 0.017639635190210914), (1578, 0.017612182956851897), (1389, 0.017608939113825595), (3829, 0.01757250928458007), (3154, 0.017570738261459825), (1456, 0.017546589558270893), (899, 0.017426103007144506), (2804, 0.017413334861769155), (1114, 0.01741188817374812), (4343, 0.017327659029571604), (2816, 0.0173023979022537), (1238, 0.017289342285628957), (2839, 0.017269812436774522), (4752, 0.017261884702656296), (1636, 0.01722932431200287), (1289, 0.01721374710311685), (95, 0.017201409449247883), (1777, 0.01717959151430315), (3443, 0.017170304200516722), (1097, 0.017072179212006572), (2421, 0.017037889644088863), (3812, 0.017020198253129774), (3027, 0.0170110625863007), (804, 0.017002784528546207), (2580, 0.016882032199386502), (3375, 0.016875724054352607), (4739, 0.016862012676943934), (1267, 0.01682831559282184), (4736, 0.016711965081580172), (135, 0.01670777328296252), (3343, 0.016705241458024874), (3450, 0.016672828891034146), (184, 0.01664666109675624), (22, 0.016603765519491834), (1136, 0.016572957786988446), (3350, 0.016497188293217894), (3712, 0.016489682506307442), (1927, 0.016473760259162806), (4465, 0.016452851611487282), (1801, 0.016451874796139444), (1106, 0.016445424890231413), (1773, 0.016383709557156134), (90, 0.016352104174793953), (3368, 0.01632615411087048), (3927, 0.016305695164343027), (2682, 0.016241488303404585), (2992, 0.016231362462170558), (2758, 0.016055110949120148), (3567, 0.016021355524899555), (1285, 0.016009606786796773), (1840, 0.01583874980437409), (3097, 0.015829825975808773), (3859, 0.015816802569686914), (2542, 0.01575630117811214), (2311, 0.015730250170775187), (123, 0.0157063766401466), (426, 0.015640882623628536), (3121, 0.015616800636929325), (1997, 0.015597114025005904), (4722, 0.015563235783281624), (2929, 0.015525804753310087), (2156, 0.015500945016266551), (4009, 0.015451014583110273), (1197, 0.015375043256738339), (1242, 0.015297580629449047), (1572, 0.01527523739093489), (2608, 0.015247047872189265), (2654, 0.015239815597441145), (68, 0.015225091209410837), (327, 0.015000732156365819), (2389, 0.014916130247906915), (4596, 0.014738427271170937), (1279, 0.014656463177164791), (2210, 0.014595983235063654), (795, 0.014388750381206373), (3946, 0.014161051120714634), (1222, 0.014018259602387267), (1671, 0.013898879779321704), (3978, 0.013692885749107923), (2326, 0.0136692877164221), (1132, 0.013643273058149486), (4246, 0.013592531976603494), (2023, 0.013518809186728032), (3944, 0.013479571837623088), (3306, 0.01316115637236725), (2219, 0.012847005411387313), (4141, 0.012799751907404257), (1290, 0.012718261766899105), (4679, 0.012621046835547732), (3356, 0.012612389142606564), (3403, 0.012577314028752496), (4088, 0.012475745312194088), (145, 0.012410383018406763), (4380, 0.01238906443193483), (2815, 0.012245695878183272), (181, 0.012092821701321178), (1937, 0.011957868937670264), (2768, 0.011754171450185587), (1721, 0.011391655761992116), (3119, 0.011336193909419616), (4617, 0.011309252026778654), (2093, 0.011259037976059892), (947, 0.011154168388344527), (2932, 0.010932813688890108), (2154, 0.010591594985563786), (3828, 0.01045766034338449), (2795, 0.010442541615921364), (4469, 0.010331456962206158), (4724, 0.010193121056184116), (3999, 0.010181623156781918), (1064, 0.010018050958147586), (2913, 0.00998529253000742), (1264, 0.00996050723282653), (3766, 0.00986092152063499), (3675, 0.00985688267834913), (1506, 0.00983105717419831), (4554, 0.009829229290549324), (4637, 0.009811876957323776), (4735, 0.00978484921626476), (1115, 0.009781936943263007), (1053, 0.009725831226925906), (2406, 0.009712825821855977), (3275, 0.009664661856866357), (937, 0.009660765476895096), (4477, 0.009660437280022563), (3019, 0.009626032724315428), (4203, 0.009584862097716636), (860, 0.009580668804823682), (1275, 0.009541092690455676), (2625, 0.009500209762630446), (274, 0.009494363349839583), (4244, 0.009473012395398155), (876, 0.009438231858285445), (3883, 0.009425584190543493), (2346, 0.00940166207557244), (2638, 0.009395146761119699), (4187, 0.009382408259654982), (3043, 0.00936072989463889), (3992, 0.00934697266130441), (1148, 0.009336132630521063), (683, 0.009334978190190132), (281, 0.009334744215567304), (3373, 0.009306816611672908), (533, 0.009300431265358363), (1716, 0.00927350251803353), (2903, 0.009273006589610748), (3012, 0.009270683081814305), (701, 0.00923037744150668), (4293, 0.009227081300487243), (458, 0.009226483706360556), (1923, 0.00918339201495986), (888, 0.009164433328319632), (4531, 0.00916389278522273), (4551, 0.009151132552598659), (3961, 0.00912683448569045), (2112, 0.009126555377434628), (4619, 0.009123360831034261), (254, 0.00911402137382691), (48, 0.009111086676461908), (2996, 0.009099885390875072), (3924, 0.009089664348218382), (450, 0.00907336526275215), (2464, 0.009068773807514642), (2229, 0.009036522239044392), (896, 0.009033166818201564), (673, 0.009023531093528844), (675, 0.00901753104644189), (4116, 0.009014977009688072), (4669, 0.009005936853011062), (2097, 0.008998206344496372), (2214, 0.008990585451049162), (1325, 0.008962504289275083), (3694, 0.008948848413740903), (1015, 0.008938448203255301), (1874, 0.008936296533536357), (3086, 0.008932619239103642), (210, 0.008911795027451585), (2254, 0.008873318661151302), (485, 0.008861370033252514), (21, 0.008842640644176428), (1141, 0.00883674052425332), (1119, 0.00882842481885079), (4231, 0.008820707177809741), (2522, 0.008812764020116617), (622, 0.008786406843556437), (206, 0.008771504585078364), (1687, 0.008767243241616736), (1234, 0.008756202084682422), (3483, 0.008755007386889124), (1853, 0.008752516586577582), (2849, 0.008741808249188316), (3777, 0.008736645849933632), (4123, 0.008730890551328545), (4033, 0.008723441769988545), (4474, 0.008706483531791053), (3984, 0.00869617783816132), (1821, 0.008677111188451676), (173, 0.008666231332180602), (502, 0.008656615652600107), (3437, 0.008656447053016774), (1736, 0.008656373020467184), (4007, 0.008655129226218456), (3862, 0.008635997629023982), (1224, 0.008631644204767632), (879, 0.008626809570730724), (1513, 0.008613733592999561), (2546, 0.008608054959421293), (1727, 0.008597391627937705), (2016, 0.008584153825231262), (584, 0.00855601070722855), (2053, 0.00853697521037273), (1629, 0.0085355456080001), (2126, 0.00852760793156979), (2334, 0.00851094874181185), (2668, 0.008508083118242294), (1334, 0.008488466922723963), (4189, 0.008458157999433915), (652, 0.00845781311732337), (2784, 0.008451762231349934), (3699, 0.008445814620829207), (1337, 0.008438460319090063), (1740, 0.008435114547010156), (2489, 0.008426815513863605), (1942, 0.008412732327178077), (4068, 0.008400596405656895), (2295, 0.008400364671147588), (1440, 0.008396550339494897), (544, 0.008391202589300092), (4004, 0.008385799071394116), (3949, 0.008367247336230583), (864, 0.00835544967184872), (1335, 0.008351232385671321), (1922, 0.008347246282568846), (3210, 0.008340744441257888), (3670, 0.008339589505681548), (4503, 0.008339422912941477), (1232, 0.008332684276744313), (3155, 0.008325462106468971), (2284, 0.008313512343508144), (4435, 0.008308346085430268), (172, 0.008295117290488919), (1385, 0.0082792972377703), (2695, 0.00827909808241425), (4709, 0.008273672164940203), (3612, 0.00827205942686069), (479, 0.00825913383947159), (370, 0.008255503566394335), (280, 0.008247277772907582), (2275, 0.008243006342707875), (4268, 0.008235502038934504), (1678, 0.008221654922247648), (988, 0.00821314445181549), (3374, 0.008206230144536645), (1483, 0.008204761431206721), (4000, 0.0082018779346172), (105, 0.008200810927177733), (2174, 0.008196261571349547), (3553, 0.00819523274190891), (1252, 0.008192518572844091), (894, 0.008191220500298028), (1438, 0.008189026222170555), (3888, 0.008181647522614226), (534, 0.00816688702124389), (1621, 0.008151661826949172), (282, 0.008146158715441568), (2961, 0.008139231252791873), (989, 0.00813308291148863), (1338, 0.008132839756680946), (2216, 0.008103963728582603), (2910, 0.008090438742435127), (475, 0.008087476952766392), (4387, 0.00806278907238232), (799, 0.008060914434876448), (2279, 0.008056771163131915), (1017, 0.008037204960240204), (1035, 0.008033029326196902), (1967, 0.008032996166762053), (3370, 0.008026359135627001), (4442, 0.00802049121526206), (676, 0.008016503476062196), (643, 0.008012783501631432), (2808, 0.008012409166373132), (4673, 0.008008813805046028), (1481, 0.00800315967581254), (2080, 0.007989241037341986), (87, 0.007982360491561945), (3660, 0.007973985303608823), (112, 0.007960751185829973), (4658, 0.007949573184068501), (18, 0.007928946144468162), (2948, 0.007926744359262843), (3504, 0.007920135729500899), (1478, 0.007918266912760048), (2024, 0.007918256986364848), (2752, 0.00790879640526975), (1854, 0.007894865929889345), (2886, 0.007888990338752804), (3171, 0.007865726376027345), (1160, 0.007848552397960971), (2224, 0.00784641796138395), (3293, 0.007826473244403722), (4124, 0.007824217240161281), (434, 0.007822793791890662), (3819, 0.007807397019716635), (939, 0.007799333791365687), (276, 0.0077966509792700995), (4440, 0.007784331773162992), (236, 0.007767105603748939), (287, 0.007758860197166156), (3941, 0.0077488156754327315), (1665, 0.007742241367583162), (1620, 0.007731891901555949), (866, 0.0076871189541231994), (111, 0.007681347415118708), (2600, 0.007679452854613756), (1183, 0.007675184888635242), (948, 0.007664185961936841), (3120, 0.0076555477372694716), (3854, 0.0076466421123881755), (558, 0.007624898982331962), (1667, 0.0076206774349317895), (669, 0.007608316872618559), (2581, 0.007606350028179426), (829, 0.007596047185111811), (2939, 0.007581110799041674), (4122, 0.007559527468061245), (4502, 0.007552216195632011), (1796, 0.007544601437097731), (199, 0.007539707684377056), (1360, 0.007525686749708549), (2363, 0.007522188267469817), (1237, 0.0075061633533837786), (3418, 0.007504133121288008), (3267, 0.0075029880483674476), (2055, 0.007494317148668672), (1387, 0.00746468496420599), (1058, 0.007460704650803726), (842, 0.0074427920534530885), (1000, 0.007437374271605139), (4475, 0.007435793963454459), (1739, 0.007434973627440833), (2065, 0.00742894735681589), (2607, 0.007411788340150218), (3801, 0.0074083580492053415), (2727, 0.007321158378181979), (368, 0.007306380521987338), (1776, 0.007282266712800502), (851, 0.007243854229256758), (1343, 0.0072359241426760154), (461, 0.007208236103459259), (3535, 0.007207726375892553), (653, 0.007194382869340664), (2621, 0.007194067211928783), (4232, 0.0071886519903899835), (2692, 0.007180422705514563), (2412, 0.007179916319145773), (904, 0.007165233297159389), (147, 0.00715393605906402), (3384, 0.007136126525380429), (2635, 0.0071322032649806435), (2468, 0.00711201136693203), (1540, 0.007110571032365782), (251, 0.007087288157212569), (2070, 0.007072769444290364), (3741, 0.007070545226757413), (3312, 0.007069840838873211), (190, 0.0070563587974498305), (1591, 0.007049567083491245), (1815, 0.00704615761931255), (1050, 0.007044479082131331), (905, 0.007041267331231246), (3947, 0.007034087085127303), (3708, 0.007027992597383426), (2771, 0.007016402679186706), (4747, 0.007005264862883252), (760, 0.006982804384721503), (2076, 0.006973981258989301), (547, 0.006971585083727752), (1507, 0.006970454872407567), (38, 0.006956187745381804), (2486, 0.006949662377724469), (4610, 0.006939816673331002), (4335, 0.006933193992722746), (4121, 0.006923074069190479), (1078, 0.0068861958332931475), (207, 0.006875283186042717), (89, 0.006863126910999211), (2602, 0.006861114006911867), (2066, 0.00684749673980362), (3110, 0.006847438287175216), (682, 0.006845796858362038), (139, 0.0068293958021897), (40, 0.006828028267454018), (4512, 0.006820277900821932), (4707, 0.0068175711481229615), (2304, 0.006800997529464742), (1260, 0.006789925091741905), (3317, 0.006772671488843874), (2697, 0.006769412586820754), (2383, 0.0067680177518572035), (1369, 0.006767847082808985), (3756, 0.006763798808927975), (1371, 0.006761528591937427), (385, 0.00673827009106517), (3652, 0.00672571586327761), (3192, 0.006724421670366273), (942, 0.006722337038070185), (4227, 0.00671949399671965), (1317, 0.006699676430423988), (3453, 0.006695058026404349), (162, 0.006685501347064364), (1681, 0.006682678502025351), (1377, 0.00667026674451747), (1303, 0.006666866461738337), (1806, 0.006645290337364421), (1989, 0.006641469455403782), (1162, 0.006640762919790123), (1674, 0.006639976931936443), (2925, 0.006639065470659246), (678, 0.006635772794530378), (3899, 0.006628168914935339), (757, 0.006605072425092513), (2082, 0.006603438919731264), (4118, 0.006564004504536773), (4656, 0.006563694985437098), (4436, 0.006563629924206352), (2252, 0.006558330859795504), (3586, 0.006550734418760553), (3768, 0.006540728490844721), (4727, 0.0065389638793699745), (4094, 0.006523376271863693), (2316, 0.006519833970657948), (1705, 0.006518095130081303), (180, 0.0065045075625957014), (2963, 0.006499165655505319), (10, 0.006486699078583746), (4289, 0.006478594480117542), (4510, 0.006460667446952377), (1417, 0.006454659062417046), (3464, 0.006451066736038734), (1116, 0.006448455469434367), (4265, 0.006441872468787243), (3905, 0.006438641059844033), (3259, 0.006419386051520081), (654, 0.006415426970482348), (1185, 0.006412869600592362), (1104, 0.006406777095081747), (3334, 0.006404294961456095), (474, 0.006395838000823163), (853, 0.006393321714767732), (1393, 0.006391335359777361), (143, 0.0063853067942377375), (3018, 0.006356742425925029), (3945, 0.0063536703173036075), (201, 0.0063506830595032706), (1047, 0.006341879717864916), (1432, 0.006340455582563418), (1024, 0.006339731940395273), (224, 0.006326524732860605), (1774, 0.0063136562631844455), (1949, 0.006310443872598335), (3507, 0.006309988043489592), (2780, 0.006302531955281812), (2944, 0.006300375675732147), (918, 0.006299193376693308), (1847, 0.006284551584151185), (2519, 0.006278639088300119), (1735, 0.006277244496324398), (1861, 0.006267750458392127), (137, 0.0062668232618054015), (2235, 0.006254709481102126), (869, 0.006240894330514451), (3645, 0.006232628129642004), (4093, 0.006226467068416204), (42, 0.006226103746286325), (908, 0.006218345749509167), (1958, 0.006213057292242308), (2444, 0.006208895017796242), (2788, 0.00619687251977345), (83, 0.006168212135977909), (1461, 0.006155036507873698), (3245, 0.0061500426083403855), (4581, 0.006143624569550028), (1945, 0.006133134846895202), (1471, 0.006131890962131193), (2994, 0.006126391527167951), (494, 0.0061148704219270425), (1388, 0.006113433042473512), (4184, 0.006111768102639859), (560, 0.006105337338027846), (931, 0.006082726514558535), (2026, 0.006082090120565534), (3416, 0.006081232410338888), (684, 0.00606760255113475), (4623, 0.006064949205585809), (2336, 0.006052763726994154), (81, 0.006030909144364157), (1986, 0.006019815041596355), (2825, 0.006013156620615654), (50, 0.006011163686360468), (530, 0.005991838576568722), (1292, 0.005985725941464862), (1330, 0.005975239867311793), (1128, 0.005964371602690635), (539, 0.0059563669463037145), (1406, 0.005948988629021539), (503, 0.005921154236583665), (2178, 0.005920625128640622), (3531, 0.00590388167870907), (72, 0.005903290685234333), (345, 0.005899390649521431), (108, 0.005883076466826229), (1063, 0.00588119427909681), (1076, 0.005867445439470886), (3582, 0.005863842749444758), (4543, 0.005862943975644151), (915, 0.005857180796400368), (1125, 0.005849224161644877), (1230, 0.0058424552432468115), (1231, 0.0058328122450103876), (2206, 0.005818137802206589), (4481, 0.005815734051544224), (2897, 0.005814045269077207), (542, 0.005798533110000569), (1412, 0.00579363983382502), (2962, 0.005792342838512712), (3465, 0.00578160804788181), (1738, 0.005778482266166704), (360, 0.005775725451277263), (1630, 0.0057755802326613795), (827, 0.005774500117204221), (2751, 0.005772214729960664), (3794, 0.005765284352940335), (1054, 0.005747677777247759), (1973, 0.005726063551038545), (2184, 0.005717855309665346), (311, 0.005713252808949595), (833, 0.005696608038106177), (1992, 0.005686616284269022), (3280, 0.005667021707515922), (532, 0.005652217818795581), (2874, 0.005649347112120241), (3775, 0.005648664225544845), (3118, 0.005648611637312913), (2119, 0.005646627788269873), (4325, 0.005645831419648227), (916, 0.005640130845080005), (2324, 0.0056304897928088895), (745, 0.005627845321695113), (1789, 0.005620752610490769), (4165, 0.005613263926923469), (3711, 0.00560820159612859), (1987, 0.005587384984598242), (2791, 0.005582351295256538), (4235, 0.005577174032303475), (801, 0.005575755745461924), (1259, 0.005563463055667995), (4164, 0.005558877047727138), (1236, 0.0055356334294197175), (148, 0.005523670028620002), (2424, 0.005517209228680785), (170, 0.005515114717250974), (632, 0.005501299857384825), (1061, 0.005479866041304066), (334, 0.005477161204267251), (4366, 0.005473049197679894), (501, 0.00546590568563408), (2833, 0.005425647905096004), (497, 0.005416693184405436), (333, 0.005414205029543299), (2871, 0.005412295067346497), (47, 0.00540280646327488), (4450, 0.0053957836810166115), (2388, 0.005357652559207909), (1213, 0.005346992345547894), (1797, 0.0053363821233393454), (4553, 0.005322406454054474), (3232, 0.005321920791804963), (1194, 0.005318162092644244), (862, 0.00530280937131877), (1348, 0.005302010661797245), (2971, 0.0052962958218643755), (3684, 0.005282595897117005), (4096, 0.005273374318574267), (629, 0.005256149926090654), (86, 0.00523480602103935), (3731, 0.0051909573486290045), (1781, 0.0051791500220681325), (1300, 0.005146946320846588), (3674, 0.005138133206599034), (1214, 0.0051040034509248705), (3713, 0.005074960597492072), (1092, 0.005073475115493975), (3045, 0.00502663325082164), (1137, 0.004997561989264171), (2555, 0.00496250952730638), (2524, 0.004904818968549079), (668, 0.004815603310596412), (1320, 0.004778249232223841), (369, 0.004658477890877434), (2809, 0.004593412688741649), (1276, 0.004540117564132575), (4261, 0.00451601808021878), (0, 0.004374333531035219), (1442, 0.004320357852252256), (4719, 0.004225989687398567), (3240, 0.00421704483257656), (3932, 0.00402499621854975), (3226, 0.004013649971950559), (788, 0.0040068094602509945), (3325, 0.0038984222902347103), (4151, 0.003748922191314384), (2678, 0.003553572185438609), (3552, 0.0035487487635406253), (611, 0.003505647935123708), (2299, 0.0034892039272705184), (4571, 0.0034671984198121827), (3178, 0.0034498092413925985), (3512, 0.0033458593463661693), (2757, 0.0033396664605913804), (3667, 0.0033364106395871347), (3276, 0.003293769570238506), (4555, 0.003288543629792494), (3925, 0.003247802608877903), (4607, 0.003168463682000833), (2529, 0.0031673685512489417), (2379, 0.0031489915276918965), (2490, 0.0031449025612614776), (2937, 0.0031332170183885864), (3523, 0.0031279034487530113), (4705, 0.0031196498844413764), (2764, 0.0031086308667097437), (3672, 0.0031005309466320243), (2858, 0.0030927312405146265), (2137, 0.0030925585979111065), (3139, 0.00308925714496258), (4082, 0.0030824140796808287), (2722, 0.003063110818291862), (2189, 0.003062906950854257), (4202, 0.0030510156696119057), (3040, 0.0030471598674413894), (2989, 0.0030403840513143635), (2251, 0.003035925205943156), (3166, 0.0030266494623791274), (2349, 0.0030211310476973828), (1145, 0.003017246445314567), (2407, 0.0030161550196690706), (3990, 0.0030117453752843224), (2889, 0.0030037056263828013), (2537, 0.0029932355570196994), (4704, 0.002980837003525098), (3052, 0.0029803426764406964), (735, 0.002979482074351404), (3055, 0.002969103888249731), (2404, 0.002967786150501378), (2775, 0.002962157425357184), (4017, 0.002960959280992332), (2870, 0.0029579234560433583), (3561, 0.0029578813830980475), (3042, 0.0029564306231685002), (3030, 0.0029559115070799977), (627, 0.0029545670336191166), (2883, 0.0029527284737863994), (3635, 0.0029500397648202755), (2923, 0.0029399128943862866), (3291, 0.0029321885420116843), (2731, 0.0029288765990425126), (4749, 0.002928280019717452), (4222, 0.002926333223794491), (4529, 0.0029255746193419035), (2484, 0.0029174415498599113), (2310, 0.0029173495370654044), (4221, 0.002917290738220263), (3479, 0.0029139654049078986), (4484, 0.0029091822689204625), (4611, 0.0029083788494921946), (2694, 0.0029065034543553007), (3939, 0.002906132343484468), (2673, 0.0029026119965697874), (2861, 0.002892153592264454), (2655, 0.0028915968949192327), (4172, 0.0028845981053102388), (2559, 0.00286834555588921), (3878, 0.0028677805917155237), (4418, 0.0028657051584670286), (2832, 0.0028635076495609145), (2075, 0.0028590338820124643), (4696, 0.002858558454907583), (4444, 0.0028582591869778396), (2628, 0.0028563811847234074), (3219, 0.002851502410390512), (2448, 0.002849589349451213), (2392, 0.002848954066190116), (3292, 0.002848381846559908), (3762, 0.002842652411584001), (2199, 0.002840311056129426), (3892, 0.0028364831472677517), (3282, 0.0028296990378711864), (4423, 0.002829413388066067), (4019, 0.002828540239480019), (2425, 0.0028279109917283426), (2643, 0.002821948704042529), (4546, 0.002820421903818187), (2255, 0.0028151067076073334), (2257, 0.002809246727495299), (3322, 0.0028082214173989735), (889, 0.002808122439263713), (3262, 0.0028075567277381103), (2350, 0.002803819320693448), (2901, 0.0028014508512684763), (4230, 0.0027957710053059994), (4142, 0.0027896551762104436), (2838, 0.0027885065038559882), (2286, 0.0027884657257009914), (1208, 0.002781813698972866), (4400, 0.0027815198407673387), (2530, 0.002773264659466775), (4102, 0.0027704347800077667), (3848, 0.002768240272756239), (3015, 0.0027649737431758806), (4606, 0.0027623670973100775), (4710, 0.0027580596050715976), (3239, 0.0027509570353714038), (3128, 0.0027505021104556834), (2423, 0.0027498208842966264), (3354, 0.002747126353905552), (3140, 0.00274600010331655), (526, 0.0027437897747098158), (1711, 0.0027362383948560183), (1121, 0.002733664553317517), (3249, 0.0027290161076135525), (3687, 0.002725301220157525), (4692, 0.002723691094013223), (4521, 0.0027235021051286233), (4544, 0.00272196973598129), (3363, 0.0027212630298426277), (3638, 0.0027204198487617106), (4612, 0.0027163452013481606), (3616, 0.0027133660082250145), (3357, 0.0027122088106170533), (2834, 0.0027070177166276096), (3537, 0.0027063999220567135), (2557, 0.0027061390006512445), (3159, 0.002700514375121413), (4306, 0.002697615363773059), (3577, 0.0026965525451043137), (4107, 0.0026942709421348358), (3922, 0.0026935834937775014), (2857, 0.0026933941984052315), (3613, 0.0026913139741910697), (4660, 0.0026906335844444954), (670, 0.002689029045580192), (3521, 0.0026880824001116145), (3004, 0.002687516583173423), (2266, 0.0026867006824873125), (4572, 0.0026779152333632743), (3074, 0.0026770396687913157), (4298, 0.0026768708395889084), (4209, 0.0026737429945741017), (4443, 0.0026729600897973495), (326, 0.0026721519884709654), (2797, 0.0026707062793075525), (2957, 0.0026694151846478114), (2568, 0.0026686210142576705), (3874, 0.0026681923348103012), (4723, 0.0026678222425464454), (2488, 0.002666605973441687), (3031, 0.0026653910923637556), (3832, 0.002663727665598345), (2188, 0.0026629169442851687), (3123, 0.0026614663813926084), (402, 0.0026599519394122834), (3302, 0.0026585278612411035), (2879, 0.0026572992325401305), (3620, 0.0026569675057851244), (4147, 0.002656829974209577), (3544, 0.0026560152678232227), (2459, 0.0026558125078420584), (1655, 0.002654189007668869), (2966, 0.002652511741971109), (3358, 0.002648992905942678), (3020, 0.002648888869657979), (2415, 0.0026476663316161277), (1593, 0.0026442748741106535), (4062, 0.002642815136153425), (3206, 0.0026399604141617546), (2778, 0.002638381127657201), (3779, 0.0026348003491263824), (2454, 0.0026347912842132745), (2993, 0.0026318000808396467), (3901, 0.002631455426535599), (3257, 0.0026291640795597605), (777, 0.0026224828471635665), (3413, 0.0026208055360074996), (1168, 0.002620171661609455), (2895, 0.0026117526119029738), (489, 0.002610180994351372), (2434, 0.0026085035358251215), (3911, 0.0026072703583196626), (4458, 0.0026023367393713994), (4701, 0.0026005480217722826), (949, 0.00259536613133217), (4490, 0.0025876487515919025), (1049, 0.00258731407589387), (4280, 0.002585929575725447), (2772, 0.002584707268071602), (2986, 0.002580929511538736), (4023, 0.0025767881961807817), (4717, 0.0025764324566259905), (2769, 0.0025754384373187934), (2738, 0.0025749532053475094), (431, 0.002573249549233726), (4632, 0.0025724187874753557), (3763, 0.0025715126256487804), (3935, 0.002571123449581926), (2613, 0.0025705418286266677), (4594, 0.002570069994653819), (4416, 0.0025683909550471185), (2570, 0.002568109581507876), (3081, 0.0025678795011369842), (2378, 0.002567847987328732), (3621, 0.0025675405562545256), (3745, 0.0025667416533960647), (4584, 0.002565222034467201), (1792, 0.002564193097906418), (2089, 0.002563910096452959), (4694, 0.002563750364339063), (1187, 0.0025636050020906432), (4145, 0.002563103824260481), (1968, 0.002562433914011356), (2707, 0.002560885298398985), (518, 0.0025579866197150036), (1885, 0.0025566111913646722), (4412, 0.002555994356054713), (1748, 0.0025546368237669816), (4030, 0.0025539168914603897), (4589, 0.0025539041624687694), (1169, 0.002553692020474955), (2846, 0.0025531295062370374), (3094, 0.002553083452444526), (4032, 0.0025460501687076314), (4075, 0.0025460025705291364), (3951, 0.0025459811182324417), (3540, 0.002544922301505275), (1547, 0.0025413202910621944), (3359, 0.0025393104185458), (4126, 0.0025390288042479027), (3884, 0.0025386814140579603), (2320, 0.0025365883988029644), (2696, 0.0025364538821037496), (3072, 0.0025360312752637122), (3307, 0.002534572744224674), (2427, 0.002534509351914693), (4002, 0.0025340034878919646), (1947, 0.0025329750102810362), (4163, 0.002529737875793284), (3729, 0.002528707386337213), (3425, 0.002528236108076107), (1398, 0.002525884407892527), (4713, 0.002525879214673397), (4398, 0.0025213151476353624), (3230, 0.002519057829686327), (2987, 0.0025189981066443255), (3364, 0.0025188870306928597), (2884, 0.0025188272539703833), (448, 0.0025185306266743476), (3419, 0.00251806141678128), (3337, 0.0025176545789031687), (3396, 0.002516788514087), (3506, 0.002516561881267083), (3866, 0.002515137712377782), (823, 0.0025150495237290225), (4650, 0.0025145844513250093), (2872, 0.002511653150085516), (3355, 0.0025102826619508344), (925, 0.00250889853362577), (508, 0.002508891648772856), (4507, 0.0025062361030384495), (3165, 0.0025061582147311986), (4267, 0.0025054904409962477), (2478, 0.002504835844629422), (2560, 0.002504279532437706), (2187, 0.0025042250656858193), (614, 0.0025034909197977585), (3952, 0.0025022475767447843), (847, 0.002502134720266687), (4516, 0.002502063900895153), (1656, 0.0025016068492306805), (721, 0.002500073193137507), (3903, 0.0024992652032603062), (3639, 0.002497198784605266), (2796, 0.0024970590911504646), (3423, 0.0024966618948353593), (3651, 0.002496085789959913), (985, 0.0024960107403880086), (2702, 0.002493835638113254), (1924, 0.0024927740319769984), (4295, 0.002491230871789142), (4117, 0.002490764641139808), (1497, 0.002490214074392309), (3661, 0.002488525856793578), (4753, 0.0024880486274863386), (4243, 0.0024840007074626073), (3772, 0.0024830739213511804), (3296, 0.002481699293605425), (2223, 0.002480915536893468), (2051, 0.0024790676815437196), (3867, 0.0024787269890297935), (2302, 0.0024783331053021876), (2437, 0.002476640582871557), (1909, 0.00247661378155906), (1843, 0.002474812567719291), (107, 0.0024747103429199526), (2893, 0.002474398568569634), (3186, 0.0024740576747420443), (3960, 0.002473674742711513), (998, 0.0024735500864355832), (999, 0.002471525658086759), (2881, 0.0024712209891065476), (2411, 0.002470724946280636), (3148, 0.0024704577674590014), (4731, 0.002470448629609688), (2623, 0.002470150563837681), (478, 0.0024694311782303105), (4092, 0.002469250355588012), (2400, 0.0024679225328304365), (2914, 0.0024676617221443173), (3680, 0.002467380640874968), (4494, 0.0024649874977400615), (1383, 0.002463068710908025), (235, 0.002462802037974031), (3013, 0.002461436518694107), (737, 0.00246102878182222), (576, 0.0024597008290645666), (1349, 0.0024585213009621163), (3274, 0.0024584758713592286), (3587, 0.002457922841009978), (419, 0.0024574713146047035), (2740, 0.0024567562093303274), (4368, 0.0024556959358419317), (4333, 0.002455258478005736), (1023, 0.00245268291319417), (1489, 0.002451800908687047), (3560, 0.00245164406445236), (813, 0.002450661467107315), (3962, 0.0024505743758974096), (3822, 0.0024499672667682598), (2974, 0.002449763693440427), (922, 0.002448028465154355), (4718, 0.002447148233525338), (3196, 0.0024467530722739974), (4160, 0.002446399145385483), (2579, 0.002445767695675622), (596, 0.0024447898107218748), (2916, 0.0024440476244377723), (1862, 0.0024437161362269796), (1499, 0.002442551470771402), (3414, 0.0024424826211027883), (3032, 0.002442333554607559), (4535, 0.0024422118299725157), (436, 0.0024412487376752182), (4396, 0.0024412039969611693), (3146, 0.0024406394364131587), (2134, 0.002440621807915806), (308, 0.002439947773800348), (2436, 0.0024387141279123255), (4401, 0.002437845710814975), (3737, 0.0024364376297685395), (3593, 0.0024357337823685257), (4051, 0.002434310321166035), (3804, 0.002434009596624332), (2840, 0.0024335868447238696), (3248, 0.0024334572172976456), (1474, 0.002433357289365669), (729, 0.0024331412958359384), (444, 0.0024311889871689468), (3273, 0.0024291882758931023), (2209, 0.0024291717132025707), (2782, 0.0024288901393827458), (3157, 0.002428647128469825), (2830, 0.0024283981819306108), (4397, 0.0024283717955755697), (41, 0.0024279218398710117), (4593, 0.0024262809656696647), (1498, 0.002425804034720659), (4706, 0.002424144733431457), (3003, 0.0024238892218829927), (4605, 0.0024236926403656722), (4259, 0.0024236641354417193), (4113, 0.0024235322504143953), (2854, 0.0024232864590187286), (2505, 0.002423227155178472), (2108, 0.002421819398371104), (1890, 0.0024211353965184913), (1109, 0.0024194839954967814), (3062, 0.002419064171719318), (4138, 0.0024185565744476436), (2535, 0.0024183807527772758), (1658, 0.002415733862676426), (2592, 0.002415580056214494), (3967, 0.0024120773248095914), (3026, 0.0024107187107054564), (4042, 0.0024099467290495213), (857, 0.0024095078267018094), (62, 0.0024090139669009085), (2176, 0.002408716896881947), (2428, 0.002407989507322384), (715, 0.0024077849939263415), (1580, 0.002407719734316964), (2890, 0.002407703425287955), (2159, 0.002406053181332765), (2049, 0.002405501007659067), (3417, 0.002403184941967843), (371, 0.002401016297824855), (587, 0.0023996898739844174), (3116, 0.0023977214004633264), (2375, 0.0023971057730642117), (476, 0.002395161698124296), (3677, 0.0023951087591605746), (4602, 0.0023939767284815575), (4446, 0.0023935847263326865), (4308, 0.002392838064968615), (1733, 0.0023924402179714985), (4046, 0.002392027864271134), (2390, 0.0023919871666081673), (3183, 0.0023893586606047027), (4601, 0.0023882621004384934), (253, 0.00238559385500088), (3714, 0.002384964254012201), (4130, 0.002384878255075551), (318, 0.002384526602250268), (4140, 0.002384055806722638), (3497, 0.002384030468903614), (1866, 0.0023825419864682436), (4101, 0.00238150687561302), (3813, 0.002380753190358108), (4732, 0.0023798882840161753), (4133, 0.0023791944371206438), (3749, 0.0023790715142422178), (1905, 0.0023788495345296564), (3044, 0.0023784443377841144), (2293, 0.002378392198026848), (4522, 0.0023778549291808945), (350, 0.0023754231692989253), (3064, 0.002374244360137774), (2915, 0.0023728289541222777), (2748, 0.0023727081781282438), (3258, 0.002372658634227625), (887, 0.0023725279414987532), (4087, 0.002371960093566858), (2882, 0.0023710628602363745), (2507, 0.0023702703628599333), (8, 0.002369653234793676), (4528, 0.0023696198670146978), (2595, 0.002366628192282577), (1897, 0.002365786659351508), (2888, 0.002363585387768453), (3771, 0.002363345013949208), (2705, 0.002362593722393482), (4545, 0.002361231267479132), (1959, 0.0023602776910070376), (3269, 0.0023602580357174256), (952, 0.00235868293696814), (794, 0.0023580501585335405), (4734, 0.0023580354040217727), (3704, 0.002357951653118053), (3449, 0.002357826034174302), (3271, 0.0023576154525293677), (3893, 0.0023571794620043953), (4024, 0.0023563044936591847), (2116, 0.002354961341377542), (3757, 0.002353718531562413), (728, 0.002353396651759696), (2494, 0.00235246754395746), (2190, 0.0023519595911604867), (4579, 0.002351890034004618), (1518, 0.002349983544542007), (3692, 0.0023493383974076097), (1907, 0.002348671224688961), (4132, 0.0023486451978594544), (430, 0.002348513085476505), (4161, 0.0023473671022866487), (4657, 0.0023467131194543746), (2475, 0.0023465145980183922), (3112, 0.002346294834151249), (1995, 0.002346232387015429), (4540, 0.002344524564664972), (4245, 0.0023443319243853403), (3184, 0.0023435888691195235), (1708, 0.0023435430113066097), (1798, 0.002342422372973863), (991, 0.0023421833808235687), (3496, 0.0023421349969818504), (1637, 0.0023405137378012123), (4269, 0.0023404544093442716), (2723, 0.0023401129161257227), (4371, 0.0023398415867347997), (3781, 0.0023378797050778747), (4495, 0.002337132864383243), (2786, 0.0023366448304348755), (4574, 0.0023362807593548065), (1537, 0.0023360833510753473), (872, 0.002335923238263643), (4111, 0.002335839868234269), (1683, 0.0023349049557273844), (1409, 0.002334319749056593), (2260, 0.002334145972224096), (3904, 0.002333845892837894), (2725, 0.002333541054191296), (4431, 0.002333483808371752), (3728, 0.002333261822206234), (3873, 0.0023331405274287327), (4680, 0.00233294924548775), (4038, 0.002332708235931985), (1712, 0.002332304260623827), (2940, 0.0023321759483966287), (227, 0.0023319021832630747), (2964, 0.0023316456531550654), (4005, 0.0023315000224744973), (2712, 0.0023313245426966034), (3007, 0.002331019167811064), (2391, 0.0023304597262623333), (12, 0.0023300836204128406), (2393, 0.002328546592737599), (2609, 0.0023273354157670083), (826, 0.0023270507569299655), (2151, 0.0023263875967275338), (3218, 0.0023262011000551135), (2664, 0.0023262005679491036), (4357, 0.0023258916963958243), (2970, 0.0023257428761786544), (1619, 0.002325294387141427), (4355, 0.0023245320146094775), (3987, 0.0023239507451205655), (2105, 0.0023234744027301486), (4175, 0.002323392395225877), (3434, 0.002321323886057651), (3678, 0.0023212683692572043), (680, 0.0023204866195591614), (246, 0.0023204678208535363), (3590, 0.0023177963540253633), (623, 0.0023174240727544897), (493, 0.002316685645193807), (612, 0.002316653912324407), (208, 0.0023165156022121355), (1951, 0.0023150174589741607), (1896, 0.002314752716636573), (2565, 0.002314648013055902), (2361, 0.002314415075064832), (4489, 0.0023141818228604024), (3314, 0.0023141411155310214), (4471, 0.002313832837171019), (2418, 0.0023128726260691805), (3618, 0.002312858283447308), (2792, 0.00231167829185208), (3326, 0.0023109940821247573), (2953, 0.0023095650586681168), (2714, 0.002309255480325854), (4575, 0.0023086744870023466), (1685, 0.0023085567520742334), (2288, 0.0023079527610002037), (2755, 0.0023072414736144456), (193, 0.002306975551281985), (4052, 0.0023060797628564993), (2610, 0.002305946960178651), (4318, 0.002305660797048741), (1918, 0.0023047689311567715), (3264, 0.002303952795462549), (1822, 0.002303332780839419), (3037, 0.0023031900296114154), (1225, 0.00230185234436107), (1893, 0.002301382745592161), (4420, 0.002300780925647451), (4566, 0.002300156180836109), (2878, 0.00230008533977113), (1400, 0.002300036920390469), (1916, 0.002299347938991483), (2394, 0.002299147599179515), (3388, 0.0022989445642669017), (783, 0.002298524258072237), (2385, 0.0022981615730507453), (1007, 0.002297070515608524), (1670, 0.0022965440881744163), (3187, 0.0022961495480492), (178, 0.0022953472779962112), (3654, 0.0022947730568454575), (1570, 0.0022947165581582306), (1902, 0.0022934756873485536), (2419, 0.002292381419707483), (262, 0.0022922250365797017), (3372, 0.00229158398692614), (4757, 0.0022913862997224403), (3242, 0.002290838233270694), (2633, 0.0022907109664964684), (1188, 0.0022901987376376556), (716, 0.00228809303311296), (4624, 0.0022880461589724396), (1192, 0.002286105970458001), (2088, 0.0022860631591650354), (564, 0.002285937607384478), (4363, 0.0022852946344650176), (255, 0.002284883466441151), (1439, 0.002284607957255116), (4430, 0.002284504111141761), (4497, 0.0022844176262716174), (3493, 0.0022837752663250966), (2083, 0.0022834628521780647), (2640, 0.002283017288391104), (3150, 0.002282928460567168), (4354, 0.0022825721985176967), (2926, 0.0022819356020554993), (3770, 0.0022817247079537184), (1006, 0.0022796004338978978), (660, 0.0022792409769369255), (4448, 0.0022787075095261327), (3599, 0.0022782441752190598), (4083, 0.002278000902979147), (1229, 0.002277964313193923), (3514, 0.0022779015507859075), (3351, 0.0022772817172004166), (2561, 0.0022763982870976688), (3241, 0.0022763576364387174), (4629, 0.002276209593432107), (3845, 0.0022758999153365145), (890, 0.002275650684473218), (2601, 0.0022755702618465178), (717, 0.0022754292586325167), (4419, 0.002274705176504265), (1475, 0.0022746631987577786), (2531, 0.002274003915923298), (23, 0.0022737977197068216), (2545, 0.0022732733803718123), (2370, 0.0022732372237287677), (4136, 0.002273030737529586), (3224, 0.002271698668544709), (1851, 0.0022716143084879343), (2911, 0.002270880343428649), (3902, 0.0022702834478423336), (884, 0.0022701346430103), (4361, 0.0022701122643818666), (2405, 0.0022693831462942677), (3353, 0.0022684512052774147), (1048, 0.0022674243706196267), (588, 0.0022673422807556287), (2319, 0.0022667247435985516), (3778, 0.0022664547919842384), (1364, 0.002265663440201802), (3666, 0.002265565273698337), (4756, 0.002264801897384745), (3536, 0.00226399341291601), (3349, 0.00226375129275122), (4025, 0.002263672973194962), (987, 0.002263169111979195), (1124, 0.002262150296160506), (4079, 0.0022619248989125644), (2148, 0.0022615977213519636), (2744, 0.002261378322610638), (2072, 0.0022609772534164215), (774, 0.0022608395541902837), (3920, 0.0022600906694337946), (637, 0.0022595245094921236), (11, 0.002259515957833609), (3517, 0.002259227372377834), (1703, 0.002257591927250588), (3689, 0.00225691239938546), (1765, 0.0022567311434625887), (4340, 0.0022567124438350344), (3527, 0.002255486346890288), (4334, 0.002255179814137252), (980, 0.002255121400381191), (4287, 0.0022542459110680493), (3198, 0.0022540592901302546), (1382, 0.0022521942767134637), (4249, 0.002251336757080605), (3623, 0.002250884719361267), (2863, 0.00224977761124248), (4470, 0.002249587174157433), (3636, 0.002248607854464413), (1717, 0.0022471873591045047), (1516, 0.0022471270287820273), (3153, 0.002246857591884295), (472, 0.002246343523894497), (2048, 0.0022458026688045364), (3290, 0.00224548042564732), (3233, 0.002244720587360032), (4643, 0.002244442349314725), (1860, 0.0022439684847875567), (1768, 0.002243370666497807), (1946, 0.0022421695731365244), (176, 0.0022420634455440694), (2466, 0.002240850085927714), (2230, 0.0022408500561457195), (865, 0.002240442552091087), (1294, 0.002239944249844405), (509, 0.0022376522732576506), (4563, 0.0022374508981846783), (4098, 0.002236614964924693), (1254, 0.002236266451811325), (3809, 0.002235578285489403), (3445, 0.0022346160276002676), (1355, 0.002234447580079567), (2977, 0.002234131072669009), (3526, 0.0022330059499179543), (4273, 0.0022328401400128445), (3542, 0.002232479726321862), (3571, 0.0022311910272779867), (2386, 0.0022308069455726632), (1174, 0.002230627719173318), (1931, 0.0022293553840819816), (1077, 0.0022291281680210124), (933, 0.002228393641770443), (1176, 0.0022272848009141605), (1182, 0.0022261997314521422), (406, 0.0022261893701462075), (593, 0.0022255388411363043), (3113, 0.002225496295130785), (1688, 0.002224977289167973), (3606, 0.0022247401650494396), (3653, 0.0022242258828463757), (4283, 0.0022241771038589825), (2073, 0.002223789569825888), (750, 0.0022229362196426543), (2292, 0.0022223197424270135), (1122, 0.0022214406808584615), (850, 0.0022213228185958066), (3303, 0.002220453979857771), (2155, 0.0022201115265293274), (2397, 0.002219129798014228), (3792, 0.002218955015145684), (832, 0.002218590053825712), (1087, 0.002218303250901885), (3501, 0.0022179541874958134), (2045, 0.002217489131795191), (3643, 0.0022166554372205108), (353, 0.0022160647939171094), (2798, 0.002215721852743687), (2313, 0.0022152898890910357), (4049, 0.0022144626906972255), (1413, 0.002214435324206767), (1204, 0.0022138231270588194), (2430, 0.0022137762702329786), (4135, 0.002212917895073262), (2091, 0.0022123387878947966), (4255, 0.0022119100948089945), (2277, 0.0022118347264072384), (2887, 0.0022109043185222312), (1476, 0.002210627878136523), (2061, 0.002210007477502567), (2647, 0.0022099600123654476), (4014, 0.00220771526401654), (1472, 0.002207336880629145), (1872, 0.002206887875956448), (3739, 0.0022059572499449225), (2652, 0.0022058935241506044), (1410, 0.0022052875400280494), (4391, 0.0022050931257990816), (4501, 0.002204466880558297), (1722, 0.0022034031474347728), (1510, 0.002202777073972044), (2122, 0.002202752607962536), (2745, 0.0022023935741451194), (3551, 0.002202224914740272), (4137, 0.0022019969690494847), (1574, 0.002201896227487823), (1706, 0.0022018418091427124), (2193, 0.002201817506299183), (2396, 0.002201800054822904), (4266, 0.002201757649594086), (2554, 0.002201187328142352), (2144, 0.0022009313065043438), (848, 0.0022005204725628934), (3227, 0.002200051166303403), (628, 0.002199910035250654), (2109, 0.002199485265108083), (897, 0.0021985631685706394), (343, 0.0021985157917901858), (2192, 0.0021973605257282155), (2606, 0.002197038375758874), (696, 0.002196273555523937), (2169, 0.0021960732687863684), (3436, 0.0021959977730548574), (2783, 0.0021958709275522307), (104, 0.002195743836370109), (2492, 0.002195625172505478), (4686, 0.002195271484245517), (504, 0.0021951554038545057), (2067, 0.0021950875225662907), (3541, 0.0021948744109939844), (2533, 0.0021945670172685613), (1876, 0.0021945036349806644), (4081, 0.0021940456936040986), (4604, 0.0021937548134993825), (2826, 0.0021936199622753856), (3125, 0.002192746520234264), (378, 0.0021913138538704), (1191, 0.0021905742870986468), (3491, 0.002190535068449745), (3564, 0.0021904344464229106), (1223, 0.0021904084421882275), (1131, 0.002189250745061114), (3341, 0.00218807918481962), (4715, 0.0021875980922564553), (1488, 0.002187454941047456), (2344, 0.002186504304734312), (4640, 0.002186004227966755), (2831, 0.002184475797533941), (1170, 0.0021844204560492308), (2354, 0.002184144316317785), (114, 0.0021840441749834743), (4330, 0.00218318573015908), (1304, 0.002182693933971266), (761, 0.002182292969019048), (3478, 0.0021819739972691442), (2495, 0.0021817760228164665), (226, 0.0021816697860929006), (1179, 0.0021816663196463047), (1378, 0.00218011576977324), (3492, 0.0021792840303472578), (66, 0.002177712704997993), (2387, 0.002177223999362923), (3665, 0.002176776267229726), (4320, 0.002176427636938632), (2195, 0.002176215613782094), (3346, 0.002176168620795082), (3174, 0.002176143633851354), (4016, 0.002175961597096585), (2900, 0.002175030261162931), (3330, 0.0021745380837474384), (2943, 0.0021741268691070305), (1112, 0.002173244444575863), (3216, 0.0021713255906755753), (4511, 0.0021702106117816337), (689, 0.0021700013428860216), (1298, 0.002169880587295421), (2999, 0.0021695961389643905), (4409, 0.0021690610953772546), (3299, 0.0021681802226424587), (2289, 0.002166859248166821), (1102, 0.0021655605884468706), (4394, 0.0021651957690477196), (1811, 0.002164422084891431), (3441, 0.0021640475149731363), (3727, 0.002163402659972963), (1891, 0.0021630366588579228), (400, 0.002161935279352757), (3624, 0.002161749818444573), (1072, 0.002161138305695161), (4520, 0.002160008898042854), (348, 0.00215996465004779), (2060, 0.002159812767068846), (3565, 0.002159434447496892), (3596, 0.002159423967286943), (247, 0.002157421826453311), (466, 0.0021571944186727448), (464, 0.002156769443499854), (1411, 0.0021561515699604628), (2569, 0.0021560460234422625), (3381, 0.0021559145538604), (1500, 0.002155897101027089), (4228, 0.002155668158055454), (3067, 0.0021555487178495825), (174, 0.0021552390504522116), (3237, 0.002155147298566259), (1598, 0.002153919137774337), (374, 0.0021527878164014605), (1666, 0.0021517287896451022), (880, 0.002150636332633041), (2416, 0.0021504957344185317), (867, 0.0021504289645900014), (1257, 0.002150131202861483), (1313, 0.0021501269068016945), (4668, 0.002149972040783736), (973, 0.0021497077580388143), (4487, 0.0021497008475087004), (3173, 0.002148834999967807), (2173, 0.002148614919222818), (3093, 0.002147363260054031), (2946, 0.0021473380758040613), (3195, 0.0021472646609369166), (3906, 0.0021467866456945416), (3647, 0.0021467768323412957), (2687, 0.0021467124860982015), (4349, 0.0021455549586848074), (1110, 0.002144735514055842), (169, 0.0021437721045291687), (727, 0.0021437429246806894), (215, 0.0021436230519669866), (4685, 0.002142205840228438), (4284, 0.002140917648925387), (1319, 0.0021407285302243962), (119, 0.002140709294565251), (1807, 0.0021402446569870476), (3046, 0.002140068511541529), (2980, 0.0021399556720800485), (3557, 0.0021396966548687326), (3827, 0.002139369598941954), (3379, 0.002139220488302394), (1286, 0.002139092458232462), (2111, 0.0021373285762525326), (98, 0.002136567330846184), (4362, 0.0021364836127694097), (2945, 0.0021358705303832454), (26, 0.00213494178323791), (2087, 0.002134119172253742), (4530, 0.0021339504387153175), (2802, 0.0021335789542792274), (4687, 0.0021335227428669577), (2102, 0.0021331148224687075), (3220, 0.002132514883693113), (3447, 0.002132131556265869), (4641, 0.002131521351899414), (3069, 0.0021308019122887553), (2632, 0.002130680571179789), (1617, 0.0021301718558703504), (3719, 0.002129723880304955), (3706, 0.0021294471375380253), (4743, 0.0021289909701673734), (446, 0.0021285273823405592), (3412, 0.0021280419917268237), (2909, 0.002128036682176347), (1653, 0.00212778895083079), (3402, 0.002126283281670972), (2698, 0.002125899661047469), (1350, 0.0021254281657712383), (1408, 0.002125083746701087), (2103, 0.0021246418177946653), (1422, 0.0021244829998316884), (1284, 0.0021240407088004656), (693, 0.002123694228304555), (4395, 0.0021227164320370604), (358, 0.0021221186354205336), (2008, 0.002121952434364767), (2401, 0.0021205822425653196), (755, 0.0021204982773485926), (3765, 0.002119528277755485), (4693, 0.002119502512171383), (4576, 0.0021193046360644843), (3075, 0.0021191384058109413), (1813, 0.0021183575354562544), (2422, 0.0021180411205708417), (522, 0.0021180372515933314), (292, 0.0021169799467284697), (329, 0.0021166793185114024), (4183, 0.0021162984873917537), (349, 0.0021162339009208053), (2461, 0.002115604347586668), (4381, 0.002115333576958623), (4550, 0.0021152873144727885), (4573, 0.002115235601240958), (1245, 0.0021150600485843117), (1044, 0.0021137196078496764), (4129, 0.0021119929571010053), (3348, 0.00211162126906955), (817, 0.002111529244983395), (3890, 0.002110966538096139), (488, 0.0021105125479185835), (4382, 0.00210988698279205), (4472, 0.002109205315609317), (3028, 0.0021085400688069925), (167, 0.002107910267625966), (3298, 0.002107728650529773), (4336, 0.002107594293992025), (1247, 0.0021074838577943237), (2612, 0.0021073203019993775), (2268, 0.002107300532069685), (3641, 0.0021072998366989033), (4139, 0.0021070314018731607), (651, 0.0021065847466167353), (4504, 0.002105927783090636), (1969, 0.002105711448256823), (2653, 0.002105570650076188), (1060, 0.0021052301842411614), (2467, 0.0021051673394932853), (2027, 0.00210474552139681), (3696, 0.0021042399781287784), (1421, 0.002103492556544781), (2642, 0.002102233052006621), (2716, 0.002101716795302202), (923, 0.0021012846987887145), (4461, 0.00210055586207772), (3917, 0.002098944505027805), (1864, 0.002098659584406846), (3900, 0.002098163495818749), (3487, 0.002097891310046259), (3826, 0.0020976899450727703), (1117, 0.002096119039892838), (4729, 0.0020958965197006795), (620, 0.002095704481544068), (782, 0.0020937775343540157), (1020, 0.0020933568412134776), (2117, 0.002092973696809834), (3503, 0.002092293363589611), (3246, 0.0020917754000005736), (1033, 0.002091473256857512), (1446, 0.0020909782265085396), (4670, 0.002090114066660254), (2367, 0.002088640020768247), (852, 0.0020872182375812585), (731, 0.002087211989372602), (1027, 0.002086469213242037), (2143, 0.0020861666168511166), (2141, 0.0020855598709071505), (4567, 0.0020853957885453188), (1416, 0.0020851182180808775), (4536, 0.002084637745341078), (2309, 0.0020843355881447383), (4614, 0.0020841681715351363), (3214, 0.002083105309029572), (2779, 0.0020829435613826017), (798, 0.002082254102787094), (1877, 0.00208212621517063), (4152, 0.00208177508222628), (1744, 0.0020815550733429304), (3122, 0.002081532383946345), (356, 0.0020812843130340467), (1929, 0.002080120104108527), (2540, 0.0020795851170347956), (1001, 0.0020795840706401294), (1002, 0.0020789705026957594), (3390, 0.0020789549853068964), (3151, 0.0020784801223569364), (3733, 0.002078119897043593), (2473, 0.002078038914597837), (29, 0.0020778603573590885), (3035, 0.0020772172339598043), (3784, 0.002076871071431489), (4085, 0.002076742441897655), (1273, 0.0020766193212690184), (164, 0.002076231201031179), (3170, 0.002075793244023821), (984, 0.0020755016122623224), (4213, 0.0020748157227390394), (221, 0.0020745819118045583), (3036, 0.0020744896787770312), (2706, 0.0020743907461544366), (2765, 0.002074048142313661), (2242, 0.0020739549179735915), (1123, 0.0020737225915214586), (2068, 0.002073380981343323), (505, 0.0020728282991091893), (644, 0.0020727770889878714), (4206, 0.0020726184412342063), (4428, 0.002071892282252584), (1878, 0.002071760521812618), (2892, 0.002071216742576045), (437, 0.0020703887260130624), (767, 0.002069823736706896), (4345, 0.0020696944474369603), (962, 0.002068978153536294), (2859, 0.002068662409330051), (3799, 0.0020683325537808705), (2995, 0.002067962045765382), (373, 0.00206789906985092), (911, 0.0020671616464482193), (2572, 0.0020669195036769135), (2679, 0.0020647271650589844), (203, 0.002064569076292331), (698, 0.0020644155512068267), (2651, 0.002064400348032424), (2133, 0.0020638259641875337), (3646, 0.0020631948393640067), (1742, 0.002063118098650431), (1404, 0.002062541498742674), (2997, 0.0020623639453468583), (1759, 0.002061653905717006), (2800, 0.002061483659143466), (818, 0.0020613201992440195), (1032, 0.0020608842039315334), (197, 0.0020602371913501535), (966, 0.0020601644276903993), (3014, 0.0020598396203525856), (3194, 0.002059495533758582), (116, 0.0020593508580328515), (3954, 0.002059297615833235), (3734, 0.0020579764917634693), (1036, 0.002057920487230114), (2303, 0.0020578897559692406), (387, 0.0020578538676378293), (2972, 0.0020567194545617878), (2812, 0.002056333523935258), (1663, 0.002055573543447509), (4257, 0.002055477181009028), (2348, 0.002055236313727146), (2166, 0.00205494050347016), (3615, 0.002054738491847345), (2525, 0.002054637380343527), (31, 0.002052078730680511), (3300, 0.002050499351512108), (4011, 0.0020491994961873566), (507, 0.0020488077586621827), (4254, 0.0020487669863094643), (1203, 0.0020486847399192164), (1693, 0.0020486830114069964), (1041, 0.002048159225555362), (154, 0.002048125291371734), (1682, 0.002047593463762265), (3057, 0.002046910591248294), (1372, 0.002046819541855718), (903, 0.0020453079102601356), (1793, 0.0020450839430807763), (140, 0.0020439134088768287), (941, 0.002043630748081374), (279, 0.002042669285215346), (1206, 0.0020397352900068046), (963, 0.0020396090269356303), (2099, 0.0020394400752121915), (1884, 0.0020394182994917134), (2634, 0.0020387950287630704), (2149, 0.0020387160603063804), (3399, 0.0020385345441617684), (471, 0.002037643966112769), (4603, 0.002035339167094322), (3452, 0.002034641459641191), (229, 0.0020342350663151835), (372, 0.0020330372399009794), (598, 0.00203298940661629), (944, 0.0020328968498783727), (895, 0.0020328509767851785), (1819, 0.0020328085469074396), (3725, 0.0020316699849968678), (921, 0.002030722953635102), (410, 0.002029976217141042), (1433, 0.002029974190578465), (2201, 0.00202976815358568), (4591, 0.002029349545865833), (4356, 0.0020292503621802504), (838, 0.002028925186535617), (1558, 0.0020283121336641496), (2446, 0.002026603049044642), (2528, 0.0020262924762519514), (3342, 0.0020261392675297797), (868, 0.002025873235842398), (2907, 0.0020236368458543008), (1641, 0.002023384741131094), (1650, 0.002023299261169259), (2556, 0.0020232508160301092), (589, 0.002022185811561152), (399, 0.00202182265972189), (1642, 0.002019442572404558), (1514, 0.0020193419100246967), (766, 0.002018920829300841), (2317, 0.0020189088104665283), (3627, 0.0020188766609594267), (2868, 0.002018725248945739), (744, 0.002017853635060145), (1519, 0.002017732454595857), (4402, 0.0020175986873638635), (1760, 0.002017371131717239), (136, 0.0020149538700165266), (2735, 0.0020146103135246806), (3558, 0.0020144221175246173), (3913, 0.0020143915572056765), (2399, 0.002014127666457213), (2593, 0.0020131274900872667), (1477, 0.0020125588170911437), (355, 0.0020119829546280357), (2482, 0.0020112346323884426), (324, 0.002011084754993765), (590, 0.002011041376153565), (3656, 0.0020108941251546354), (1357, 0.0020107872791652113), (4479, 0.0020096221348015987), (1814, 0.0020090537264467537), (2674, 0.0020085572478704614), (4282, 0.0020085192727237224), (4348, 0.002006588282212338), (907, 0.002006562956571651), (1079, 0.002006524554284403), (2453, 0.0020054207892142503), (121, 0.0020054136914547794), (3767, 0.002004361564327603), (4649, 0.0020038338518411952), (1875, 0.0020036993735872105), (3455, 0.0020034729696670798), (3876, 0.002002904538117691), (457, 0.002002633121834342), (359, 0.0020024054026334215), (1308, 0.002001870499974682), (1462, 0.002001347213304046), (183, 0.002001116793195989), (4326, 0.0020004752877909064), (2362, 0.0020001352257198067), (416, 0.0019994976388235147), (3050, 0.001999093026692547), (4277, 0.0019985859316262425), (3284, 0.001998390817891963), (1672, 0.00199746214179345), (910, 0.001997368685388276), (1628, 0.001996491056498968), (2920, 0.0019964196366841136), (2301, 0.0019959474226297702), (624, 0.001995789835192195), (863, 0.0019945010545959034), (1065, 0.0019943096811690076), (4620, 0.0019936332667027626), (3742, 0.0019930589922655417), (957, 0.0019923964951648666), (2954, 0.0019923228526372463), (1434, 0.001992132333469047), (218, 0.0019920367471821607), (465, 0.0019920355504257897), (4638, 0.001990395380921822), (1730, 0.001989275188447876), (3563, 0.0019886671189935346), (934, 0.001988601117824545), (1675, 0.001987767168978382), (759, 0.0019866180417516107), (2728, 0.001986086705581334), (2803, 0.001985681418197342), (3953, 0.0019852839912638805), (2011, 0.0019840689975144698), (3278, 0.00198402942224507), (1528, 0.0019818432881236955), (1892, 0.001981327637048569), (2265, 0.001980835831039554), (1538, 0.0019805515834145906), (2236, 0.001979982835825517), (1503, 0.0019783205434627184), (608, 0.0019778935981500895), (2402, 0.0019760395020833065), (3304, 0.001975744812339589), (1869, 0.0019755543137322112), (3705, 0.001974428647020127), (473, 0.0019740450717485635), (3311, 0.0019737729014742736), (449, 0.001973397460866283), (1826, 0.001973071843623581), (4154, 0.0019716551681948184), (2338, 0.001971370054716618), (1605, 0.0019712467048247865), (428, 0.001969956963597379), (1161, 0.0019696452740495763), (1220, 0.0019693706599585876), (1719, 0.0019692156160324463), (1366, 0.0019682317289615716), (563, 0.001967527235459978), (4350, 0.0019667031027006013), (581, 0.0019663033746258785), (1690, 0.001965878235824946), (2741, 0.0019646200804062106), (981, 0.001964376399275121), (3974, 0.00196390006920938), (2285, 0.0019633818586422725), (936, 0.0019632676311286293), (3986, 0.001963244317448364), (2457, 0.0019627714206032856), (1625, 0.001962053547039047), (2248, 0.0019616364006787485), (597, 0.001961419666241084), (4143, 0.0019613562473055593), (161, 0.0019612688750986398), (800, 0.001961224970477687), (3863, 0.001960713979351921), (722, 0.0019605879271887517), (3108, 0.0019583668226372496), (1219, 0.00195745368002786), (158, 0.001957237365596081), (885, 0.0019571241042410366), (1980, 0.0019570712890819523), (1808, 0.0019568593279820456), (2191, 0.0019568373049253882), (3841, 0.0019567549763869277), (4080, 0.001956414110132117), (1004, 0.001955738678597984), (2976, 0.001954619174820785), (4590, 0.001953827225521964), (917, 0.0019530641344342467), (3795, 0.0019518322983424847), (3556, 0.0019509660083546038), (594, 0.0019502811563963745), (1921, 0.001950026965382585), (815, 0.0019493588543457296), (4205, 0.0019489345186449484), (1934, 0.0019482800856599398), (732, 0.0019478433458948415), (2163, 0.0019469381745640263), (1414, 0.0019465852563177034), (1762, 0.0019465396032046264), (268, 0.0019461018426274014), (672, 0.0019456639748053467), (1539, 0.001945635618293227), (1977, 0.0019427196642392433), (657, 0.0019376333126591685), (1423, 0.0019364781941015863), (2587, 0.001936339727950116), (4608, 0.0019362885467954305), (1009, 0.0019356819115053632), (132, 0.0019344693432360306), (4661, 0.0019341297175982787), (1830, 0.0019333635175652717), (1954, 0.0019328468086201901), (1251, 0.0019308139295420848), (495, 0.0019298689092623667), (3755, 0.0019284104130480434), (2047, 0.0019281291250287786), (200, 0.001928001339642623), (712, 0.0019277551117144126), (519, 0.00192656303575184), (1608, 0.0019259872666458448), (2502, 0.0019251307744206896), (1199, 0.0019248127688468398), (808, 0.0019235848355547466), (2753, 0.0019222330190835748), (222, 0.00192048241616919), (92, 0.0019202175374560568), (4247, 0.001917784037741721), (2975, 0.0019169444594585485), (4066, 0.001916185911743572), (1186, 0.0019159013272621315), (97, 0.0019148265300192992), (480, 0.0019146731717494011), (2237, 0.0019146432033685966), (3894, 0.001913633933028196), (249, 0.001913575702049496), (32, 0.0019134560317235387), (4156, 0.0019126661246570088), (3895, 0.00191008039070092), (4432, 0.0019098191415327804), (3880, 0.0019036410613762528), (4296, 0.0019005877729636413), (3655, 0.0018989086229782657), (3096, 0.0018967200368460396), (2721, 0.001895944989043766), (4429, 0.0018945144282770659), (1217, 0.001894304127243878), (1465, 0.0018917229546730357), (2520, 0.0018915093772757237), (1764, 0.0018913564236976935), (103, 0.0018898981858567236), (4748, 0.0018897317766346144), (242, 0.001889157072841571), (2942, 0.0018881063374047735), (1397, 0.0018868898774653936), (165, 0.0018862279208302537), (2270, 0.0018852601113827784), (642, 0.0018847057986092549), (357, 0.001882902946370759), (1828, 0.0018827388731733922), (4386, 0.0018818540038082327), (1370, 0.0018813951433110454), (1450, 0.0018803328306956362), (278, 0.001879250091384009), (861, 0.0018789483954896385), (3238, 0.001877764741611157), (2761, 0.0018776736250149249), (2527, 0.001876659559464706), (3393, 0.001876611533718965), (3629, 0.0018739046611039264), (286, 0.0018723888236476644), (269, 0.0018722768880971448), (4627, 0.0018722716701764992), (2611, 0.001871933465347223), (3569, 0.0018707635361054915), (2743, 0.001870739746181838), (2382, 0.0018691239604228674), (1763, 0.001868520112914706), (1833, 0.0018683935561546931), (1215, 0.0018676855047205054), (4476, 0.0018671146718106572), (60, 0.001866515569695238), (4344, 0.0018651797481111223), (1627, 0.0018651642202976119), (1565, 0.0018650649813073622), (2146, 0.0018646979503907143), (3376, 0.001863244304869871), (496, 0.0018628553961354973), (3579, 0.0018624845859353527), (1691, 0.001861783328273598), (3409, 0.0018615709132958462), (1743, 0.0018572694979374848), (432, 0.0018562387494987886), (1352, 0.0018534471725950568), (3065, 0.0018533536086224381), (2933, 0.001853001400618854), (3855, 0.0018514278875867078), (403, 0.0018494163537428453), (626, 0.001849119870989059), (3669, 0.0018491172574453222), (267, 0.0018490930145368455), (2035, 0.0018484638583651128), (3668, 0.001846864062627339), (1356, 0.0018467926751637486), (3634, 0.001844843328122153), (1365, 0.001842547478331924), (175, 0.001842464090380438), (617, 0.0018422151514283253), (1312, 0.001841358538817244), (3657, 0.0018413308449319171), (4636, 0.0018400527501982037), (2039, 0.0018353997017421257), (707, 0.0018352574093848635), (2157, 0.0018347347187621728), (196, 0.0018327244174053924), (2603, 0.001832588580756396), (2127, 0.0018317494759076186), (3347, 0.0018313568025086781), (3821, 0.0018298972764186285), (2211, 0.0018283033895053129), (3091, 0.0018263394424699886), (2132, 0.0018228869276232218), (3928, 0.0018226273046342755), (2876, 0.0018223458894247708), (2359, 0.0018211916916482085), (4733, 0.0018206073253370105), (2287, 0.0018203942563094141), (16, 0.0018186439343890256), (616, 0.0018183306317334019), (1209, 0.001818289551705752), (3252, 0.0018181371170157886), (2481, 0.0018170692723047438), (2221, 0.0018139570430728683), (796, 0.0018115174906588114), (2969, 0.0018097001032943683), (442, 0.001809229611701107), (3056, 0.0018075971767063357), (3024, 0.0018049912077292977), (25, 0.001804922488955549), (4200, 0.0018040277364813524), (1571, 0.0018039715465114916), (1305, 0.0018038594017041902), (441, 0.0018031021856338703), (4015, 0.0017999147401468268), (2034, 0.0017976654606310825), (843, 0.0017943838926104947), (3548, 0.001794338133368288), (113, 0.0017942956784200367), (1241, 0.0017937475607359827), (3751, 0.001793413479976048), (1427, 0.0017886445619738126), (1415, 0.0017877054736864736), (1464, 0.0017873432700366372), (2526, 0.0017852694798563787), (433, 0.0017848372884670695), (3254, 0.0017840752806353687), (1950, 0.0017822683072234527), (645, 0.0017821050303396815), (3313, 0.0017814134994490723), (1098, 0.001779267514677302), (1624, 0.0017755719989220617), (1037, 0.0017749521562489135), (3875, 0.001773514582434707), (4311, 0.001772731968240122), (156, 0.0017725376162875247), (4744, 0.0017688223238032303), (4626, 0.0017641039383855443), (691, 0.0017635131899696925), (3575, 0.001762764994426759), (953, 0.0017568248921778831), (4674, 0.001752489539517523), (3431, 0.0017521856768818592), (407, 0.001750738795253038), (194, 0.0017506465730881375), (510, 0.0017441318646429958), (3538, 0.0017398295898071014), (1144, 0.0017396114657171554), (1871, 0.0017366633666429602), (63, 0.0017365563482193511), (1886, 0.0017342761448030464), (706, 0.0017330630517522877), (609, 0.0017312502517541968), (527, 0.0017273880923691619), (2010, 0.0017231323817339824), (2917, 0.0017186438002510852), (1677, 0.0017166393463696242), (3301, 0.0017086641004243393), (2469, 0.0017083487458251394), (159, 0.0017077182579904673), (1040, 0.0017042114007037967), (3152, 0.0017027006890052195), (2767, 0.0017023124072423925), (3199, 0.0016897011057050557), (571, 0.0016823319697146998), (607, 0.001681346803644814), (3316, 0.001678436973086227), (1403, 0.0016764378827763427), (3626, 0.0016740233699399315), (271, 0.001672216025023621), (453, 0.0016684801407186951), (4652, 0.0016677943901375206), (351, 0.001664707632273468), (82, 0.0016557943933514251), (228, 0.0016525222643583917), (452, 0.0016433901394031628), (2636, 0.0016381422627798309), (4445, 0.0016380249805613763), (296, 0.0016353391241968965), (3983, 0.0016346572891763058), (1277, 0.0016316873920430807), (1648, 0.0016294688401720177), (3546, 0.0016279160941943837), (4301, 0.0016188501658483188), (2902, 0.0016047790850453048), (283, 0.0015967697412907168), (7, 0.0015674440938736277), (641, 0.0015625038783344657), (455, 0.0015483295250158043), (4171, 0.0015420841755295817), (831, 0.0015403772569511647), (3365, 0.0015387326829460406), (243, 0.001536172642960331), (129, 0.0015236681998072063), (330, 0.0015076522189410365), (858, 0.0014732603529662462), (202, 0.0014317479609334187), (24, 0.0014251026316195808), (1780, 0.0014233790376078411), (3608, 0.0014212246540581787), (3835, 0.0013141378494059609), (2538, 0.0013055389087046315), (2841, 0.0012187535207589385), (2534, 0.000973354337860608), (1, 0.0), (6, 0.0), (9, 0.0), (13, 0.0), (14, 0.0), (17, 0.0), (28, 0.0), (30, 0.0), (35, 0.0), (37, 0.0), (39, 0.0), (45, 0.0), (49, 0.0), (53, 0.0), (54, 0.0), (55, 0.0), (56, 0.0), (57, 0.0), (58, 0.0), (59, 0.0), (65, 0.0), (67, 0.0), (69, 0.0), (75, 0.0), (76, 0.0), (77, 0.0), (78, 0.0), (80, 0.0), (91, 0.0), (100, 0.0), (101, 0.0), (102, 0.0), (110, 0.0), (117, 0.0), (118, 0.0), (125, 0.0), (128, 0.0), (130, 0.0), (133, 0.0), (134, 0.0), (146, 0.0), (150, 0.0), (151, 0.0), (152, 0.0), (153, 0.0), (155, 0.0), (171, 0.0), (177, 0.0), (179, 0.0), (185, 0.0), (186, 0.0), (187, 0.0), (188, 0.0), (191, 0.0), (214, 0.0), (219, 0.0), (220, 0.0), (223, 0.0), (225, 0.0), (230, 0.0), (231, 0.0), (232, 0.0), (233, 0.0), (239, 0.0), (241, 0.0), (245, 0.0), (250, 0.0), (257, 0.0), (258, 0.0), (259, 0.0), (260, 0.0), (261, 0.0), (263, 0.0), (264, 0.0), (273, 0.0), (275, 0.0), (284, 0.0), (288, 0.0), (289, 0.0), (290, 0.0), (295, 0.0), (297, 0.0), (298, 0.0), (299, 0.0), (300, 0.0), (301, 0.0), (302, 0.0), (303, 0.0), (305, 0.0), (306, 0.0), (310, 0.0), (312, 0.0), (313, 0.0), (314, 0.0), (315, 0.0), (316, 0.0), (319, 0.0), (320, 0.0), (321, 0.0), (322, 0.0), (323, 0.0), (328, 0.0), (331, 0.0), (332, 0.0), (336, 0.0), (337, 0.0), (338, 0.0), (339, 0.0), (340, 0.0), (341, 0.0), (344, 0.0), (347, 0.0), (352, 0.0), (354, 0.0), (361, 0.0), (362, 0.0), (363, 0.0), (366, 0.0), (376, 0.0), (379, 0.0), (380, 0.0), (381, 0.0), (383, 0.0), (384, 0.0), (386, 0.0), (389, 0.0), (390, 0.0), (391, 0.0), (392, 0.0), (393, 0.0), (394, 0.0), (398, 0.0), (404, 0.0), (405, 0.0), (409, 0.0), (411, 0.0), (413, 0.0), (414, 0.0), (421, 0.0), (423, 0.0), (424, 0.0), (439, 0.0), (451, 0.0), (454, 0.0), (459, 0.0), (462, 0.0), (467, 0.0), (468, 0.0), (469, 0.0), (477, 0.0), (484, 0.0), (491, 0.0), (492, 0.0), (498, 0.0), (511, 0.0), (512, 0.0), (513, 0.0), (514, 0.0), (516, 0.0), (520, 0.0), (521, 0.0), (523, 0.0), (525, 0.0), (528, 0.0), (529, 0.0), (531, 0.0), (535, 0.0), (536, 0.0), (537, 0.0), (538, 0.0), (540, 0.0), (545, 0.0), (546, 0.0), (548, 0.0), (549, 0.0), (550, 0.0), (552, 0.0), (553, 0.0), (554, 0.0), (555, 0.0), (556, 0.0), (557, 0.0), (559, 0.0), (561, 0.0), (568, 0.0), (569, 0.0), (570, 0.0), (572, 0.0), (573, 0.0), (574, 0.0), (577, 0.0), (583, 0.0), (585, 0.0), (586, 0.0), (591, 0.0), (592, 0.0), (595, 0.0), (599, 0.0), (600, 0.0), (601, 0.0), (602, 0.0), (603, 0.0), (610, 0.0), (615, 0.0), (618, 0.0), (619, 0.0), (625, 0.0), (630, 0.0), (634, 0.0), (635, 0.0), (639, 0.0), (640, 0.0), (648, 0.0), (649, 0.0), (650, 0.0), (656, 0.0), (661, 0.0), (662, 0.0), (663, 0.0), (665, 0.0), (666, 0.0), (671, 0.0), (674, 0.0), (679, 0.0), (681, 0.0), (685, 0.0), (686, 0.0), (687, 0.0), (690, 0.0), (699, 0.0), (700, 0.0), (702, 0.0), (710, 0.0), (711, 0.0), (713, 0.0), (714, 0.0), (718, 0.0), (720, 0.0), (723, 0.0), (724, 0.0), (725, 0.0), (730, 0.0), (736, 0.0), (738, 0.0), (741, 0.0), (747, 0.0), (748, 0.0), (752, 0.0), (754, 0.0), (758, 0.0), (762, 0.0), (763, 0.0), (764, 0.0), (765, 0.0), (768, 0.0), (771, 0.0), (772, 0.0), (775, 0.0), (776, 0.0), (778, 0.0), (779, 0.0), (780, 0.0), (781, 0.0), (784, 0.0), (785, 0.0), (789, 0.0), (793, 0.0), (797, 0.0), (802, 0.0), (803, 0.0), (809, 0.0), (811, 0.0), (812, 0.0), (814, 0.0), (819, 0.0), (820, 0.0), (821, 0.0), (822, 0.0), (834, 0.0), (835, 0.0), (836, 0.0), (837, 0.0), (839, 0.0), (840, 0.0), (841, 0.0), (846, 0.0), (849, 0.0), (859, 0.0), (877, 0.0), (881, 0.0), (882, 0.0), (891, 0.0), (898, 0.0), (902, 0.0), (906, 0.0), (909, 0.0), (912, 0.0), (913, 0.0), (914, 0.0), (919, 0.0), (920, 0.0), (926, 0.0), (932, 0.0), (938, 0.0), (943, 0.0), (945, 0.0), (950, 0.0), (954, 0.0), (955, 0.0), (956, 0.0), (960, 0.0), (961, 0.0), (964, 0.0), (965, 0.0), (970, 0.0), (971, 0.0), (972, 0.0), (977, 0.0), (978, 0.0), (983, 0.0), (990, 0.0), (992, 0.0), (995, 0.0), (996, 0.0), (997, 0.0), (1008, 0.0), (1011, 0.0), (1012, 0.0), (1013, 0.0), (1014, 0.0), (1016, 0.0), (1022, 0.0), (1025, 0.0), (1029, 0.0), (1031, 0.0), (1039, 0.0), (1045, 0.0), (1046, 0.0), (1051, 0.0), (1055, 0.0), (1056, 0.0), (1057, 0.0), (1062, 0.0), (1066, 0.0), (1069, 0.0), (1070, 0.0), (1073, 0.0), (1081, 0.0), (1082, 0.0), (1086, 0.0), (1089, 0.0), (1090, 0.0), (1091, 0.0), (1093, 0.0), (1094, 0.0), (1095, 0.0), (1099, 0.0), (1105, 0.0), (1108, 0.0), (1113, 0.0), (1118, 0.0), (1120, 0.0), (1126, 0.0), (1127, 0.0), (1129, 0.0), (1134, 0.0), (1135, 0.0), (1139, 0.0), (1142, 0.0), (1146, 0.0), (1147, 0.0), (1149, 0.0), (1150, 0.0), (1151, 0.0), (1152, 0.0), (1154, 0.0), (1155, 0.0), (1157, 0.0), (1158, 0.0), (1159, 0.0), (1164, 0.0), (1165, 0.0), (1166, 0.0), (1171, 0.0), (1172, 0.0), (1178, 0.0), (1180, 0.0), (1181, 0.0), (1189, 0.0), (1190, 0.0), (1193, 0.0), (1195, 0.0), (1196, 0.0), (1198, 0.0), (1200, 0.0), (1201, 0.0), (1205, 0.0), (1207, 0.0), (1211, 0.0), (1212, 0.0), (1218, 0.0), (1227, 0.0), (1228, 0.0), (1233, 0.0), (1235, 0.0), (1240, 0.0), (1244, 0.0), (1246, 0.0), (1250, 0.0), (1256, 0.0), (1258, 0.0), (1262, 0.0), (1263, 0.0), (1265, 0.0), (1266, 0.0), (1268, 0.0), (1269, 0.0), (1270, 0.0), (1271, 0.0), (1274, 0.0), (1278, 0.0), (1280, 0.0), (1283, 0.0), (1287, 0.0), (1288, 0.0), (1291, 0.0), (1293, 0.0), (1299, 0.0), (1302, 0.0), (1307, 0.0), (1309, 0.0), (1310, 0.0), (1311, 0.0), (1315, 0.0), (1316, 0.0), (1321, 0.0), (1322, 0.0), (1323, 0.0), (1326, 0.0), (1327, 0.0), (1328, 0.0), (1331, 0.0), (1332, 0.0), (1333, 0.0), (1336, 0.0), (1345, 0.0), (1346, 0.0), (1354, 0.0), (1358, 0.0), (1363, 0.0), (1368, 0.0), (1373, 0.0), (1374, 0.0), (1376, 0.0), (1380, 0.0), (1381, 0.0), (1384, 0.0), (1386, 0.0), (1390, 0.0), (1391, 0.0), (1395, 0.0), (1396, 0.0), (1399, 0.0), (1401, 0.0), (1405, 0.0), (1418, 0.0), (1424, 0.0), (1425, 0.0), (1426, 0.0), (1431, 0.0), (1435, 0.0), (1437, 0.0), (1441, 0.0), (1443, 0.0), (1444, 0.0), (1445, 0.0), (1447, 0.0), (1449, 0.0), (1452, 0.0), (1453, 0.0), (1457, 0.0), (1458, 0.0), (1459, 0.0), (1460, 0.0), (1466, 0.0), (1467, 0.0), (1470, 0.0), (1473, 0.0), (1482, 0.0), (1486, 0.0), (1487, 0.0), (1490, 0.0), (1491, 0.0), (1495, 0.0), (1496, 0.0), (1501, 0.0), (1502, 0.0), (1508, 0.0), (1512, 0.0), (1517, 0.0), (1520, 0.0), (1521, 0.0), (1522, 0.0), (1523, 0.0), (1524, 0.0), (1525, 0.0), (1526, 0.0), (1529, 0.0), (1530, 0.0), (1531, 0.0), (1535, 0.0), (1541, 0.0), (1546, 0.0), (1548, 0.0), (1552, 0.0), (1554, 0.0), (1556, 0.0), (1557, 0.0), (1560, 0.0), (1563, 0.0), (1564, 0.0), (1566, 0.0), (1573, 0.0), (1576, 0.0), (1577, 0.0), (1579, 0.0), (1581, 0.0), (1583, 0.0), (1584, 0.0), (1586, 0.0), (1587, 0.0), (1588, 0.0), (1590, 0.0), (1599, 0.0), (1600, 0.0), (1601, 0.0), (1602, 0.0), (1603, 0.0), (1604, 0.0), (1606, 0.0), (1607, 0.0), (1609, 0.0), (1610, 0.0), (1611, 0.0), (1615, 0.0), (1618, 0.0), (1622, 0.0), (1631, 0.0), (1632, 0.0), (1635, 0.0), (1638, 0.0), (1639, 0.0), (1640, 0.0), (1644, 0.0), (1646, 0.0), (1649, 0.0), (1651, 0.0), (1652, 0.0), (1657, 0.0), (1659, 0.0), (1661, 0.0), (1662, 0.0), (1664, 0.0), (1668, 0.0), (1669, 0.0), (1673, 0.0), (1676, 0.0), (1679, 0.0), (1684, 0.0), (1686, 0.0), (1692, 0.0), (1695, 0.0), (1696, 0.0), (1697, 0.0), (1698, 0.0), (1700, 0.0), (1701, 0.0), (1702, 0.0), (1704, 0.0), (1709, 0.0), (1713, 0.0), (1714, 0.0), (1715, 0.0), (1718, 0.0), (1723, 0.0), (1724, 0.0), (1726, 0.0), (1728, 0.0), (1729, 0.0), (1731, 0.0), (1732, 0.0), (1734, 0.0), (1737, 0.0), (1741, 0.0), (1745, 0.0), (1746, 0.0), (1749, 0.0), (1751, 0.0), (1755, 0.0), (1757, 0.0), (1758, 0.0), (1761, 0.0), (1766, 0.0), (1767, 0.0), (1769, 0.0), (1771, 0.0), (1772, 0.0), (1778, 0.0), (1783, 0.0), (1786, 0.0), (1787, 0.0), (1788, 0.0), (1790, 0.0), (1791, 0.0), (1794, 0.0), (1799, 0.0), (1800, 0.0), (1803, 0.0), (1809, 0.0), (1810, 0.0), (1812, 0.0), (1818, 0.0), (1820, 0.0), (1823, 0.0), (1825, 0.0), (1834, 0.0), (1835, 0.0), (1836, 0.0), (1837, 0.0), (1839, 0.0), (1841, 0.0), (1842, 0.0), (1846, 0.0), (1849, 0.0), (1850, 0.0), (1855, 0.0), (1856, 0.0), (1857, 0.0), (1859, 0.0), (1867, 0.0), (1868, 0.0), (1870, 0.0), (1879, 0.0), (1880, 0.0), (1881, 0.0), (1883, 0.0), (1889, 0.0), (1894, 0.0), (1898, 0.0), (1899, 0.0), (1900, 0.0), (1901, 0.0), (1904, 0.0), (1906, 0.0), (1908, 0.0), (1910, 0.0), (1911, 0.0), (1912, 0.0), (1914, 0.0), (1917, 0.0), (1925, 0.0), (1926, 0.0), (1928, 0.0), (1930, 0.0), (1932, 0.0), (1935, 0.0), (1938, 0.0), (1939, 0.0), (1940, 0.0), (1941, 0.0), (1948, 0.0), (1952, 0.0), (1953, 0.0), (1955, 0.0), (1957, 0.0), (1961, 0.0), (1962, 0.0), (1963, 0.0), (1965, 0.0), (1966, 0.0), (1972, 0.0), (1975, 0.0), (1976, 0.0), (1979, 0.0), (1982, 0.0), (1984, 0.0), (1988, 0.0), (1990, 0.0), (1991, 0.0), (1994, 0.0), (1998, 0.0), (1999, 0.0), (2002, 0.0), (2005, 0.0), (2006, 0.0), (2007, 0.0), (2009, 0.0), (2012, 0.0), (2013, 0.0), (2015, 0.0), (2018, 0.0), (2019, 0.0), (2020, 0.0), (2021, 0.0), (2025, 0.0), (2028, 0.0), (2030, 0.0), (2032, 0.0), (2033, 0.0), (2036, 0.0), (2038, 0.0), (2041, 0.0), (2042, 0.0), (2043, 0.0), (2044, 0.0), (2046, 0.0), (2050, 0.0), (2052, 0.0), (2054, 0.0), (2058, 0.0), (2059, 0.0), (2062, 0.0), (2063, 0.0), (2064, 0.0), (2071, 0.0), (2074, 0.0), (2078, 0.0), (2079, 0.0), (2081, 0.0), (2086, 0.0), (2090, 0.0), (2092, 0.0), (2094, 0.0), (2095, 0.0), (2101, 0.0), (2106, 0.0), (2107, 0.0), (2113, 0.0), (2115, 0.0), (2120, 0.0), (2124, 0.0), (2125, 0.0), (2128, 0.0), (2130, 0.0), (2135, 0.0), (2136, 0.0), (2138, 0.0), (2139, 0.0), (2140, 0.0), (2145, 0.0), (2147, 0.0), (2150, 0.0), (2153, 0.0), (2160, 0.0), (2161, 0.0), (2164, 0.0), (2165, 0.0), (2167, 0.0), (2168, 0.0), (2171, 0.0), (2172, 0.0), (2175, 0.0), (2177, 0.0), (2179, 0.0), (2182, 0.0), (2183, 0.0), (2185, 0.0), (2186, 0.0), (2194, 0.0), (2198, 0.0), (2200, 0.0), (2202, 0.0), (2203, 0.0), (2205, 0.0), (2207, 0.0), (2208, 0.0), (2215, 0.0), (2220, 0.0), (2225, 0.0), (2231, 0.0), (2232, 0.0), (2233, 0.0), (2238, 0.0), (2239, 0.0), (2241, 0.0), (2243, 0.0), (2244, 0.0), (2245, 0.0), (2247, 0.0), (2253, 0.0), (2259, 0.0), (2261, 0.0), (2262, 0.0), (2263, 0.0), (2267, 0.0), (2271, 0.0), (2272, 0.0), (2273, 0.0), (2274, 0.0), (2278, 0.0), (2281, 0.0), (2282, 0.0), (2283, 0.0), (2290, 0.0), (2291, 0.0), (2294, 0.0), (2296, 0.0), (2298, 0.0), (2305, 0.0), (2307, 0.0), (2308, 0.0), (2312, 0.0), (2314, 0.0), (2315, 0.0), (2325, 0.0), (2327, 0.0), (2328, 0.0), (2329, 0.0), (2330, 0.0), (2331, 0.0), (2332, 0.0), (2333, 0.0), (2335, 0.0), (2337, 0.0), (2339, 0.0), (2341, 0.0), (2342, 0.0), (2343, 0.0), (2345, 0.0), (2351, 0.0), (2357, 0.0), (2358, 0.0), (2364, 0.0), (2365, 0.0), (2369, 0.0), (2371, 0.0), (2372, 0.0), (2373, 0.0), (2376, 0.0), (2377, 0.0), (2380, 0.0), (2381, 0.0), (2384, 0.0), (2395, 0.0), (2398, 0.0), (2413, 0.0), (2414, 0.0), (2420, 0.0), (2426, 0.0), (2431, 0.0), (2432, 0.0), (2433, 0.0), (2435, 0.0), (2439, 0.0), (2449, 0.0), (2450, 0.0), (2451, 0.0), (2452, 0.0), (2455, 0.0), (2456, 0.0), (2458, 0.0), (2460, 0.0), (2462, 0.0), (2470, 0.0), (2471, 0.0), (2472, 0.0), (2476, 0.0), (2479, 0.0), (2483, 0.0), (2485, 0.0), (2491, 0.0), (2493, 0.0), (2498, 0.0), (2499, 0.0), (2500, 0.0), (2501, 0.0), (2503, 0.0), (2504, 0.0), (2506, 0.0), (2508, 0.0), (2510, 0.0), (2511, 0.0), (2513, 0.0), (2514, 0.0), (2515, 0.0), (2517, 0.0), (2518, 0.0), (2521, 0.0), (2523, 0.0), (2532, 0.0), (2536, 0.0), (2539, 0.0), (2541, 0.0), (2543, 0.0), (2544, 0.0), (2547, 0.0), (2549, 0.0), (2551, 0.0), (2562, 0.0), (2564, 0.0), (2566, 0.0), (2567, 0.0), (2573, 0.0), (2575, 0.0), (2576, 0.0), (2577, 0.0), (2582, 0.0), (2583, 0.0), (2584, 0.0), (2586, 0.0), (2588, 0.0), (2589, 0.0), (2590, 0.0), (2594, 0.0), (2596, 0.0), (2597, 0.0), (2599, 0.0), (2604, 0.0), (2605, 0.0), (2615, 0.0), (2616, 0.0), (2620, 0.0), (2630, 0.0), (2631, 0.0), (2637, 0.0), (2639, 0.0), (2641, 0.0), (2644, 0.0), (2646, 0.0), (2648, 0.0), (2656, 0.0), (2657, 0.0), (2658, 0.0), (2662, 0.0), (2663, 0.0), (2665, 0.0), (2666, 0.0), (2667, 0.0), (2669, 0.0), (2670, 0.0), (2671, 0.0), (2672, 0.0), (2676, 0.0), (2677, 0.0), (2680, 0.0), (2681, 0.0), (2683, 0.0), (2684, 0.0), (2686, 0.0), (2690, 0.0), (2691, 0.0), (2700, 0.0), (2701, 0.0), (2703, 0.0), (2704, 0.0), (2708, 0.0), (2709, 0.0), (2711, 0.0), (2713, 0.0), (2715, 0.0), (2717, 0.0), (2719, 0.0), (2726, 0.0), (2729, 0.0), (2730, 0.0), (2732, 0.0), (2733, 0.0), (2734, 0.0), (2749, 0.0), (2750, 0.0), (2754, 0.0), (2756, 0.0), (2763, 0.0), (2773, 0.0), (2774, 0.0), (2781, 0.0), (2785, 0.0), (2787, 0.0), (2789, 0.0), (2793, 0.0), (2794, 0.0), (2799, 0.0), (2806, 0.0), (2807, 0.0), (2810, 0.0), (2811, 0.0), (2813, 0.0), (2814, 0.0), (2817, 0.0), (2818, 0.0), (2820, 0.0), (2823, 0.0), (2828, 0.0), (2829, 0.0), (2836, 0.0), (2837, 0.0), (2843, 0.0), (2847, 0.0), (2850, 0.0), (2851, 0.0), (2855, 0.0), (2856, 0.0), (2860, 0.0), (2864, 0.0), (2865, 0.0), (2866, 0.0), (2867, 0.0), (2869, 0.0), (2873, 0.0), (2875, 0.0), (2877, 0.0), (2880, 0.0), (2885, 0.0), (2891, 0.0), (2896, 0.0), (2898, 0.0), (2905, 0.0), (2906, 0.0), (2921, 0.0), (2922, 0.0), (2927, 0.0), (2928, 0.0), (2930, 0.0), (2935, 0.0), (2938, 0.0), (2941, 0.0), (2947, 0.0), (2951, 0.0), (2952, 0.0), (2956, 0.0), (2958, 0.0), (2959, 0.0), (2960, 0.0), (2967, 0.0), (2973, 0.0), (2979, 0.0), (2983, 0.0), (2984, 0.0), (2990, 0.0), (2991, 0.0), (3001, 0.0), (3002, 0.0), (3006, 0.0), (3008, 0.0), (3009, 0.0), (3017, 0.0), (3021, 0.0), (3022, 0.0), (3023, 0.0), (3025, 0.0), (3029, 0.0), (3033, 0.0), (3034, 0.0), (3038, 0.0), (3039, 0.0), (3041, 0.0), (3048, 0.0), (3049, 0.0), (3053, 0.0), (3054, 0.0), (3058, 0.0), (3059, 0.0), (3060, 0.0), (3061, 0.0), (3063, 0.0), (3066, 0.0), (3068, 0.0), (3078, 0.0), (3079, 0.0), (3082, 0.0), (3087, 0.0), (3088, 0.0), (3089, 0.0), (3090, 0.0), (3100, 0.0), (3103, 0.0), (3104, 0.0), (3105, 0.0), (3106, 0.0), (3107, 0.0), (3114, 0.0), (3115, 0.0), (3124, 0.0), (3126, 0.0), (3130, 0.0), (3131, 0.0), (3132, 0.0), (3133, 0.0), (3134, 0.0), (3135, 0.0), (3136, 0.0), (3138, 0.0), (3143, 0.0), (3144, 0.0), (3145, 0.0), (3156, 0.0), (3160, 0.0), (3161, 0.0), (3162, 0.0), (3163, 0.0), (3164, 0.0), (3168, 0.0), (3169, 0.0), (3172, 0.0), (3176, 0.0), (3177, 0.0), (3180, 0.0), (3181, 0.0), (3185, 0.0), (3189, 0.0), (3190, 0.0), (3191, 0.0), (3193, 0.0), (3197, 0.0), (3201, 0.0), (3203, 0.0), (3204, 0.0), (3205, 0.0), (3207, 0.0), (3209, 0.0), (3212, 0.0), (3213, 0.0), (3215, 0.0), (3217, 0.0), (3221, 0.0), (3222, 0.0), (3223, 0.0), (3229, 0.0), (3231, 0.0), (3236, 0.0), (3244, 0.0), (3247, 0.0), (3250, 0.0), (3251, 0.0), (3253, 0.0), (3255, 0.0), (3256, 0.0), (3261, 0.0), (3263, 0.0), (3265, 0.0), (3266, 0.0), (3270, 0.0), (3272, 0.0), (3277, 0.0), (3281, 0.0), (3286, 0.0), (3287, 0.0), (3288, 0.0), (3294, 0.0), (3295, 0.0), (3305, 0.0), (3309, 0.0), (3319, 0.0), (3321, 0.0), (3323, 0.0), (3324, 0.0), (3332, 0.0), (3338, 0.0), (3339, 0.0), (3340, 0.0), (3345, 0.0), (3361, 0.0), (3366, 0.0), (3367, 0.0), (3371, 0.0), (3378, 0.0), (3385, 0.0), (3395, 0.0), (3397, 0.0), (3398, 0.0), (3400, 0.0), (3401, 0.0), (3404, 0.0), (3405, 0.0), (3411, 0.0), (3420, 0.0), (3422, 0.0), (3424, 0.0), (3426, 0.0), (3427, 0.0), (3428, 0.0), (3429, 0.0), (3432, 0.0), (3438, 0.0), (3439, 0.0), (3440, 0.0), (3442, 0.0), (3444, 0.0), (3446, 0.0), (3448, 0.0), (3451, 0.0), (3454, 0.0), (3457, 0.0), (3459, 0.0), (3461, 0.0), (3462, 0.0), (3467, 0.0), (3468, 0.0), (3469, 0.0), (3470, 0.0), (3472, 0.0), (3473, 0.0), (3476, 0.0), (3480, 0.0), (3481, 0.0), (3482, 0.0), (3484, 0.0), (3485, 0.0), (3486, 0.0), (3488, 0.0), (3489, 0.0), (3490, 0.0), (3494, 0.0), (3495, 0.0), (3502, 0.0), (3505, 0.0), (3509, 0.0), (3513, 0.0), (3515, 0.0), (3518, 0.0), (3519, 0.0), (3520, 0.0), (3522, 0.0), (3525, 0.0), (3529, 0.0), (3530, 0.0), (3532, 0.0), (3539, 0.0), (3543, 0.0), (3545, 0.0), (3547, 0.0), (3549, 0.0), (3550, 0.0), (3554, 0.0), (3555, 0.0), (3562, 0.0), (3566, 0.0), (3568, 0.0), (3572, 0.0), (3573, 0.0), (3574, 0.0), (3576, 0.0), (3578, 0.0), (3581, 0.0), (3583, 0.0), (3585, 0.0), (3591, 0.0), (3592, 0.0), (3598, 0.0), (3600, 0.0), (3602, 0.0), (3603, 0.0), (3604, 0.0), (3605, 0.0), (3607, 0.0), (3609, 0.0), (3610, 0.0), (3617, 0.0), (3619, 0.0), (3622, 0.0), (3625, 0.0), (3628, 0.0), (3630, 0.0), (3631, 0.0), (3632, 0.0), (3633, 0.0), (3644, 0.0), (3648, 0.0), (3649, 0.0), (3662, 0.0), (3663, 0.0), (3664, 0.0), (3671, 0.0), (3676, 0.0), (3679, 0.0), (3681, 0.0), (3682, 0.0), (3683, 0.0), (3685, 0.0), (3686, 0.0), (3688, 0.0), (3690, 0.0), (3693, 0.0), (3695, 0.0), (3697, 0.0), (3698, 0.0), (3700, 0.0), (3702, 0.0), (3703, 0.0), (3709, 0.0), (3710, 0.0), (3715, 0.0), (3717, 0.0), (3718, 0.0), (3720, 0.0), (3721, 0.0), (3722, 0.0), (3724, 0.0), (3726, 0.0), (3730, 0.0), (3732, 0.0), (3735, 0.0), (3736, 0.0), (3740, 0.0), (3743, 0.0), (3744, 0.0), (3746, 0.0), (3748, 0.0), (3752, 0.0), (3753, 0.0), (3758, 0.0), (3759, 0.0), (3760, 0.0), (3761, 0.0), (3764, 0.0), (3773, 0.0), (3776, 0.0), (3782, 0.0), (3783, 0.0), (3786, 0.0), (3787, 0.0), (3788, 0.0), (3789, 0.0), (3790, 0.0), (3791, 0.0), (3793, 0.0), (3796, 0.0), (3800, 0.0), (3805, 0.0), (3808, 0.0), (3810, 0.0), (3816, 0.0), (3817, 0.0), (3818, 0.0), (3820, 0.0), (3825, 0.0), (3831, 0.0), (3834, 0.0), (3836, 0.0), (3837, 0.0), (3840, 0.0), (3843, 0.0), (3844, 0.0), (3846, 0.0), (3850, 0.0), (3851, 0.0), (3852, 0.0), (3858, 0.0), (3861, 0.0), (3864, 0.0), (3865, 0.0), (3869, 0.0), (3870, 0.0), (3871, 0.0), (3879, 0.0), (3881, 0.0), (3885, 0.0), (3886, 0.0), (3887, 0.0), (3891, 0.0), (3896, 0.0), (3897, 0.0), (3907, 0.0), (3908, 0.0), (3909, 0.0), (3912, 0.0), (3914, 0.0), (3916, 0.0), (3918, 0.0), (3921, 0.0), (3923, 0.0), (3926, 0.0), (3929, 0.0), (3930, 0.0), (3931, 0.0), (3933, 0.0), (3934, 0.0), (3936, 0.0), (3937, 0.0), (3940, 0.0), (3942, 0.0), (3943, 0.0), (3948, 0.0), (3950, 0.0), (3955, 0.0), (3963, 0.0), (3966, 0.0), (3968, 0.0), (3969, 0.0), (3970, 0.0), (3971, 0.0), (3972, 0.0), (3975, 0.0), (3977, 0.0), (3979, 0.0), (3980, 0.0), (3981, 0.0), (3988, 0.0), (3989, 0.0), (3991, 0.0), (3994, 0.0), (3995, 0.0), (3997, 0.0), (3998, 0.0), (4001, 0.0), (4010, 0.0), (4012, 0.0), (4021, 0.0), (4026, 0.0), (4027, 0.0), (4031, 0.0), (4034, 0.0), (4035, 0.0), (4037, 0.0), (4039, 0.0), (4040, 0.0), (4041, 0.0), (4043, 0.0), (4044, 0.0), (4047, 0.0), (4055, 0.0), (4057, 0.0), (4058, 0.0), (4061, 0.0), (4064, 0.0), (4065, 0.0), (4071, 0.0), (4072, 0.0), (4073, 0.0), (4076, 0.0), (4077, 0.0), (4078, 0.0), (4086, 0.0), (4090, 0.0), (4091, 0.0), (4099, 0.0), (4100, 0.0), (4103, 0.0), (4106, 0.0), (4108, 0.0), (4110, 0.0), (4112, 0.0), (4114, 0.0), (4115, 0.0), (4120, 0.0), (4127, 0.0), (4128, 0.0), (4131, 0.0), (4134, 0.0), (4144, 0.0), (4146, 0.0), (4149, 0.0), (4157, 0.0), (4158, 0.0), (4162, 0.0), (4166, 0.0), (4167, 0.0), (4168, 0.0), (4170, 0.0), (4179, 0.0), (4180, 0.0), (4181, 0.0), (4185, 0.0), (4186, 0.0), (4188, 0.0), (4190, 0.0), (4191, 0.0), (4194, 0.0), (4195, 0.0), (4196, 0.0), (4198, 0.0), (4199, 0.0), (4201, 0.0), (4204, 0.0), (4207, 0.0), (4208, 0.0), (4210, 0.0), (4211, 0.0), (4212, 0.0), (4214, 0.0), (4215, 0.0), (4217, 0.0), (4218, 0.0), (4219, 0.0), (4223, 0.0), (4224, 0.0), (4229, 0.0), (4234, 0.0), (4236, 0.0), (4238, 0.0), (4239, 0.0), (4240, 0.0), (4241, 0.0), (4248, 0.0), (4250, 0.0), (4251, 0.0), (4252, 0.0), (4253, 0.0), (4258, 0.0), (4260, 0.0), (4270, 0.0), (4271, 0.0), (4272, 0.0), (4276, 0.0), (4278, 0.0), (4279, 0.0), (4285, 0.0), (4290, 0.0), (4291, 0.0), (4294, 0.0), (4297, 0.0), (4300, 0.0), (4302, 0.0), (4303, 0.0), (4307, 0.0), (4310, 0.0), (4312, 0.0), (4313, 0.0), (4314, 0.0), (4315, 0.0), (4316, 0.0), (4317, 0.0), (4319, 0.0), (4323, 0.0), (4328, 0.0), (4331, 0.0), (4332, 0.0), (4339, 0.0), (4341, 0.0), (4342, 0.0), (4346, 0.0), (4347, 0.0), (4352, 0.0), (4353, 0.0), (4358, 0.0), (4360, 0.0), (4364, 0.0), (4365, 0.0), (4367, 0.0), (4370, 0.0), (4372, 0.0), (4373, 0.0), (4376, 0.0), (4377, 0.0), (4378, 0.0), (4383, 0.0), (4384, 0.0), (4388, 0.0), (4389, 0.0), (4392, 0.0), (4393, 0.0), (4405, 0.0), (4406, 0.0), (4408, 0.0), (4410, 0.0), (4413, 0.0), (4414, 0.0), (4415, 0.0), (4417, 0.0), (4421, 0.0), (4424, 0.0), (4425, 0.0), (4426, 0.0), (4434, 0.0), (4437, 0.0), (4438, 0.0), (4439, 0.0), (4441, 0.0), (4447, 0.0), (4451, 0.0), (4452, 0.0), (4453, 0.0), (4454, 0.0), (4455, 0.0), (4456, 0.0), (4457, 0.0), (4460, 0.0), (4463, 0.0), (4464, 0.0), (4467, 0.0), (4468, 0.0), (4478, 0.0), (4480, 0.0), (4483, 0.0), (4485, 0.0), (4488, 0.0), (4491, 0.0), (4492, 0.0), (4493, 0.0), (4496, 0.0), (4499, 0.0), (4500, 0.0), (4506, 0.0), (4508, 0.0), (4509, 0.0), (4513, 0.0), (4514, 0.0), (4515, 0.0), (4519, 0.0), (4524, 0.0), (4525, 0.0), (4526, 0.0), (4527, 0.0), (4532, 0.0), (4537, 0.0), (4539, 0.0), (4541, 0.0), (4547, 0.0), (4548, 0.0), (4549, 0.0), (4552, 0.0), (4556, 0.0), (4558, 0.0), (4559, 0.0), (4560, 0.0), (4561, 0.0), (4562, 0.0), (4564, 0.0), (4565, 0.0), (4568, 0.0), (4569, 0.0), (4570, 0.0), (4577, 0.0), (4578, 0.0), (4580, 0.0), (4585, 0.0), (4586, 0.0), (4588, 0.0), (4592, 0.0), (4595, 0.0), (4597, 0.0), (4599, 0.0), (4600, 0.0), (4609, 0.0), (4613, 0.0), (4615, 0.0), (4618, 0.0), (4622, 0.0), (4630, 0.0), (4631, 0.0), (4635, 0.0), (4639, 0.0), (4642, 0.0), (4644, 0.0), (4645, 0.0), (4646, 0.0), (4647, 0.0), (4648, 0.0), (4651, 0.0), (4654, 0.0), (4655, 0.0), (4659, 0.0), (4662, 0.0), (4664, 0.0), (4665, 0.0), (4666, 0.0), (4671, 0.0), (4672, 0.0), (4675, 0.0), (4676, 0.0), (4678, 0.0), (4681, 0.0), (4682, 0.0), (4689, 0.0), (4690, 0.0), (4691, 0.0), (4695, 0.0), (4697, 0.0), (4698, 0.0), (4700, 0.0), (4702, 0.0), (4703, 0.0), (4708, 0.0), (4711, 0.0), (4714, 0.0), (4716, 0.0), (4720, 0.0), (4728, 0.0), (4730, 0.0), (4737, 0.0), (4738, 0.0), (4740, 0.0), (4741, 0.0), (4742, 0.0), (4745, 0.0), (4746, 0.0), (4750, 0.0), (4751, 0.0), (4754, 0.0), (4755, 0.0), (4758, 0.0), (4759, 0.0)]\n"
          ]
        }
      ]
    },
    {
      "cell_type": "code",
      "source": [
        "#print the name of similar movies based on the index\n",
        "print('Top 10 Movies Suggested for You : \\n')\n",
        "\n",
        "i = 1\n",
        "\n",
        "for movie in Sorted_Similar_Movies:\n",
        "  index = movie[0]\n",
        "  title_from_index = df[df.index == index]['Movie_Title'].values[0]\n",
        "  if(i<31):\n",
        "    print(i, '.',title_from_index)\n",
        "    i+=1"
      ],
      "metadata": {
        "id": "MrHr6rjtxlRM",
        "colab": {
          "base_uri": "https://localhost:8080/"
        },
        "outputId": "22ad3804-5e48-4368-8635-8a2644858c56"
      },
      "execution_count": null,
      "outputs": [
        {
          "output_type": "stream",
          "name": "stdout",
          "text": [
            "Top 10 Movies Suggested for You : \n",
            "\n",
            "1 . City of God\n",
            "2 . Night of the Living Dead\n",
            "3 . Step Up 2: The Streets\n",
            "4 . A Nightmare on Elm Street 3: Dream Warriors\n",
            "5 . Two Evil Eyes\n",
            "6 . The Family Man\n",
            "7 . S.W.A.T.\n",
            "8 . Tuck Everlasting\n",
            "9 . Disturbing Behavior\n",
            "10 . The Place Beyond the Pines\n",
            "11 . Crash\n",
            "12 . Salton Sea\n",
            "13 . Masked and Anonymous\n",
            "14 . ZMD: Zombies of Mass Destruction\n",
            "15 . Closer\n",
            "16 . Hollow Man\n",
            "17 . Trash\n",
            "18 . Get Rich or Die Tryin'\n",
            "19 . Thirteen Conversations About One Thing\n",
            "20 . Like Crazy\n",
            "21 . Enemy of the State\n",
            "22 . Chloe\n",
            "23 . Down Terrace\n",
            "24 . The Cry of the Owl\n",
            "25 . Logan's Run\n",
            "26 . Collateral Damage\n",
            "27 . The Hurt Locker\n",
            "28 . Bad Santa\n",
            "29 . Body Double\n",
            "30 . City By The Sea\n"
          ]
        }
      ]
    },
    {
      "cell_type": "markdown",
      "source": [
        "#**Top 10 Movie Recommendation System**"
      ],
      "metadata": {
        "id": "agqN51say3hh"
      }
    },
    {
      "cell_type": "code",
      "source": [
        "Movie_Name = input('Enter your favourite movie name : ')\n",
        "\n",
        "list_of_all_titles = df['Movie_Title'].tolist()\n",
        "\n",
        "Find_Close_Match = difflib.get_close_matches(Movie_Name,list_of_all_titles)\n",
        "\n",
        "Close_Match = Find_Close_Match[0]\n",
        "\n",
        "Index_of_Movie = df[df.Movie_Title == Close_Match]['Movie_ID'].values[0]\n",
        "\n",
        "Recommendation_Score = list(enumerate(Similarity_Score[Index_of_Movie]))\n",
        "\n",
        "Sorted_Similar_Movies = sorted(Recommendation_Score, key = lambda x:x[1], reverse = True)\n",
        "\n",
        "print('Top 10 Movies Suggested for You : \\n')\n",
        "\n",
        "i = 1\n",
        "\n",
        "for movie in Sorted_Similar_Movies:\n",
        "  index = movie[0]\n",
        "  title_from_index = df[df.index == index]['Movie_Title'].values[0]\n",
        "  if(i<31):\n",
        "    print(i, '.',title_from_index)\n",
        "    i+=1"
      ],
      "metadata": {
        "id": "vBGPFb-mzCqZ",
        "colab": {
          "base_uri": "https://localhost:8080/"
        },
        "outputId": "0c628b3a-0f7a-4c78-eebc-1621d0281f51"
      },
      "execution_count": null,
      "outputs": [
        {
          "output_type": "stream",
          "name": "stdout",
          "text": [
            "Enter your favourite movie name : titanic\n",
            "Top 10 Movies Suggested for You : \n",
            "\n",
            "1 . City of God\n",
            "2 . Night of the Living Dead\n",
            "3 . Step Up 2: The Streets\n",
            "4 . A Nightmare on Elm Street 3: Dream Warriors\n",
            "5 . Two Evil Eyes\n",
            "6 . The Family Man\n",
            "7 . S.W.A.T.\n",
            "8 . Tuck Everlasting\n",
            "9 . Disturbing Behavior\n",
            "10 . The Place Beyond the Pines\n",
            "11 . Crash\n",
            "12 . Salton Sea\n",
            "13 . Masked and Anonymous\n",
            "14 . ZMD: Zombies of Mass Destruction\n",
            "15 . Closer\n",
            "16 . Hollow Man\n",
            "17 . Trash\n",
            "18 . Get Rich or Die Tryin'\n",
            "19 . Thirteen Conversations About One Thing\n",
            "20 . Like Crazy\n",
            "21 . Enemy of the State\n",
            "22 . Chloe\n",
            "23 . Down Terrace\n",
            "24 . The Cry of the Owl\n",
            "25 . Logan's Run\n",
            "26 . Collateral Damage\n",
            "27 . The Hurt Locker\n",
            "28 . Bad Santa\n",
            "29 . Body Double\n",
            "30 . City By The Sea\n"
          ]
        }
      ]
    }
  ]
}